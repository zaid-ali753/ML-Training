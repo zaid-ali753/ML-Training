{
 "cells": [
  {
   "cell_type": "code",
   "execution_count": 3,
   "metadata": {},
   "outputs": [
    {
     "name": "stdout",
     "output_type": "stream",
     "text": [
      "[10, 20, 30, 40, 50, 60]\n",
      "Sum of list: 210\n"
     ]
    }
   ],
   "source": [
    "#for loop statement\n",
    "#iterating the list, tuple or dictionary, set or string using for loop\n",
    "\n",
    "#for var_name in sequence_name:\n",
    "\n",
    "list1=[10, 20, 30 ,40 ,50, 60]\n",
    "print(list1)\n",
    "print('Sum of list:',sum(list1))"
   ]
  },
  {
   "cell_type": "code",
   "execution_count": 4,
   "metadata": {},
   "outputs": [
    {
     "name": "stdout",
     "output_type": "stream",
     "text": [
      "Element of List1: 10\n",
      "Element of List1: 20\n",
      "Element of List1: 30\n",
      "Element of List1: 40\n",
      "Element of List1: 50\n",
      "Element of List1: 60\n"
     ]
    }
   ],
   "source": [
    "#access the element of list1 one by one using for loop\n",
    "for a in list1:\n",
    "    print('Element of List1:', a)"
   ]
  },
  {
   "cell_type": "code",
   "execution_count": 5,
   "metadata": {},
   "outputs": [
    {
     "name": "stdout",
     "output_type": "stream",
     "text": [
      "[10, 20, 30, 40, 50, 60]\n",
      "Sum of list1 without using sum()= 210\n"
     ]
    }
   ],
   "source": [
    "#Adding the elements of list1 without using sum()\n",
    "print(list1)\n",
    "total=0\n",
    "for i in list1:\n",
    "    total=total+i\n",
    "\n",
    "print('Sum of list1 without using sum()=', total)"
   ]
  },
  {
   "cell_type": "code",
   "execution_count": 7,
   "metadata": {},
   "outputs": [
    {
     "name": "stdout",
     "output_type": "stream",
     "text": [
      "NIELIT\n",
      "N\n",
      "I\n",
      "E\n",
      "L\n",
      "I\n",
      "T\n"
     ]
    }
   ],
   "source": [
    "#Accessing string data one by one, using for loop\n",
    "c='NIELIT'\n",
    "print(c)\n",
    "\n",
    "for i in c:\n",
    "    print(i)"
   ]
  },
  {
   "cell_type": "code",
   "execution_count": 10,
   "metadata": {},
   "outputs": [
    {
     "data": {
      "text/plain": [
       "[60, 50, 40, 30, 20, 10]"
      ]
     },
     "execution_count": 10,
     "metadata": {},
     "output_type": "execute_result"
    }
   ],
   "source": [
    "list1.reverse()\n",
    "list1"
   ]
  },
  {
   "cell_type": "code",
   "execution_count": 11,
   "metadata": {},
   "outputs": [
    {
     "name": "stdout",
     "output_type": "stream",
     "text": [
      "60\n",
      "50\n",
      "40\n",
      "30\n",
      "20\n",
      "10\n"
     ]
    }
   ],
   "source": [
    "for i in list1:\n",
    "    print(i)"
   ]
  },
  {
   "cell_type": "code",
   "execution_count": 12,
   "metadata": {},
   "outputs": [],
   "source": [
    "#range(): it is used to generate the sequence of data within given range\n",
    "#syntax:  range([start], stop, [step])\n",
    "#here, [start] and [stop] are optional parameter\n",
    "\n",
    "#start speficies the start number of the range. Optional and defalut is 0\n",
    "\n",
    "#stop speficies the stop number of the range. stop always goes up to stop-1.\n",
    "#stop is required in range().\n",
    "\n",
    "#step can be postive or negative. Optional and default is 1."
   ]
  },
  {
   "cell_type": "code",
   "execution_count": 15,
   "metadata": {},
   "outputs": [
    {
     "name": "stdout",
     "output_type": "stream",
     "text": [
      "Value of i: 0\n",
      "NIELIT\n",
      "Value of i: 1\n",
      "NIELIT\n",
      "Value of i: 2\n",
      "NIELIT\n",
      "Value of i: 3\n",
      "NIELIT\n",
      "Value of i: 4\n",
      "NIELIT\n"
     ]
    }
   ],
   "source": [
    "#printing 'NIELIT' 5  times using for loop\n",
    "\n",
    "for x in range(5):\n",
    "    print('Value of i:', x)\n",
    "    print('NIELIT')\n",
    "\n",
    "#here, start number will be 0\n",
    "#stop=5-1=4\n",
    "#step=1 (Default)\n"
   ]
  },
  {
   "cell_type": "code",
   "execution_count": 16,
   "metadata": {},
   "outputs": [
    {
     "name": "stdout",
     "output_type": "stream",
     "text": [
      "1\n",
      "2\n",
      "3\n",
      "4\n"
     ]
    }
   ],
   "source": [
    "#Now, start=1 and stop=5, step=1\n",
    "for i in range(1,5):\n",
    "    print(i)"
   ]
  },
  {
   "cell_type": "code",
   "execution_count": 17,
   "metadata": {},
   "outputs": [
    {
     "name": "stdout",
     "output_type": "stream",
     "text": [
      "1\n",
      "3\n",
      "5\n",
      "7\n",
      "9\n"
     ]
    }
   ],
   "source": [
    "#Now, start=1 and stop=11, step=2\n",
    "for i in range(1,11,2):\n",
    "    print(i)"
   ]
  },
  {
   "cell_type": "code",
   "execution_count": 18,
   "metadata": {},
   "outputs": [
    {
     "name": "stdout",
     "output_type": "stream",
     "text": [
      "2\n",
      "4\n",
      "6\n",
      "8\n",
      "10\n",
      "12\n",
      "14\n",
      "16\n",
      "18\n",
      "20\n"
     ]
    }
   ],
   "source": [
    "#Now, start=2 and stop=21, step=2\n",
    "for i in range(2,21,2):\n",
    "    print(i)"
   ]
  },
  {
   "cell_type": "code",
   "execution_count": 19,
   "metadata": {},
   "outputs": [
    {
     "name": "stdout",
     "output_type": "stream",
     "text": [
      "5\n",
      "4\n",
      "3\n",
      "2\n",
      "1\n"
     ]
    }
   ],
   "source": [
    "#Now, start=5 and stop=0, step=-1\n",
    "for i in range(5, 0, -1):\n",
    "    print(i)"
   ]
  },
  {
   "cell_type": "code",
   "execution_count": 20,
   "metadata": {},
   "outputs": [
    {
     "name": "stdout",
     "output_type": "stream",
     "text": [
      "20\n",
      "18\n",
      "16\n",
      "14\n",
      "12\n",
      "10\n",
      "8\n",
      "6\n",
      "4\n",
      "2\n"
     ]
    }
   ],
   "source": [
    "#Now, start=20 and stop=0, step=-2\n",
    "for i in range(20, 0, -2):\n",
    "    print(i)"
   ]
  },
  {
   "cell_type": "code",
   "execution_count": 23,
   "metadata": {},
   "outputs": [
    {
     "name": "stdout",
     "output_type": "stream",
     "text": [
      "Enter any number:35\n",
      "35\n",
      "70\n",
      "105\n",
      "140\n",
      "175\n",
      "210\n",
      "245\n",
      "280\n",
      "315\n",
      "350\n"
     ]
    }
   ],
   "source": [
    "#printing table of number using for loop\n",
    "num=int(input('Enter any number:'))\n",
    "for i in range(1,11):\n",
    "    print(num*i)"
   ]
  },
  {
   "cell_type": "code",
   "execution_count": 24,
   "metadata": {},
   "outputs": [
    {
     "name": "stdout",
     "output_type": "stream",
     "text": [
      "Enter any number:4\n",
      "4 * 1 = 4\n",
      "4 * 2 = 8\n",
      "4 * 3 = 12\n",
      "4 * 4 = 16\n",
      "4 * 5 = 20\n",
      "4 * 6 = 24\n",
      "4 * 7 = 28\n",
      "4 * 8 = 32\n",
      "4 * 9 = 36\n",
      "4 * 10 = 40\n"
     ]
    }
   ],
   "source": [
    "#printing table of number using for loop\n",
    "num=int(input('Enter any number:'))\n",
    "for i in range(1,11):\n",
    "    print(num, '*', i, '=', num*i)"
   ]
  },
  {
   "cell_type": "code",
   "execution_count": 26,
   "metadata": {},
   "outputs": [
    {
     "name": "stdout",
     "output_type": "stream",
     "text": [
      "Enter number of rows for pattern:5\n",
      "\n",
      "*\n",
      "**\n",
      "***\n",
      "****\n",
      "*****"
     ]
    }
   ],
   "source": [
    "#nested for loop: declaring the for loop inside anther for loop\n",
    "\n",
    "m=int(input('Enter number of rows for pattern:'))\n",
    "i,j=0,0\n",
    "\n",
    "for i in range(0,m): #outer for loop\n",
    "    print('')\n",
    "    for j in range(0, i+1): #inner for loop\n",
    "        print(\"*\", end=\"\")"
   ]
  },
  {
   "cell_type": "code",
   "execution_count": 28,
   "metadata": {},
   "outputs": [
    {
     "name": "stdout",
     "output_type": "stream",
     "text": [
      "hello\n",
      "NIELIT\n"
     ]
    }
   ],
   "source": [
    "print('hello')\n",
    "print('NIELIT')"
   ]
  },
  {
   "cell_type": "code",
   "execution_count": 29,
   "metadata": {},
   "outputs": [
    {
     "name": "stdout",
     "output_type": "stream",
     "text": [
      "hello&NIELIT\n"
     ]
    }
   ],
   "source": [
    "#By default, the print() will insert  a new line after if finishes its execution\n",
    "#we can use end parameter in print() to modify the end of the print()\n",
    "print('hello', end='&')\n",
    "print('NIELIT')"
   ]
  },
  {
   "cell_type": "code",
   "execution_count": 30,
   "metadata": {},
   "outputs": [
    {
     "name": "stdout",
     "output_type": "stream",
     "text": [
      "hello NIELIT\n"
     ]
    }
   ],
   "source": [
    "print('hello', end=' ')\n",
    "print('NIELIT')"
   ]
  },
  {
   "cell_type": "code",
   "execution_count": 31,
   "metadata": {},
   "outputs": [
    {
     "name": "stdout",
     "output_type": "stream",
     "text": [
      "0\n",
      "1\n",
      "2\n",
      "3\n",
      "4\n",
      "Outside for loop\n"
     ]
    }
   ],
   "source": [
    "#Loop control statement in python\n",
    "#break and continue\n",
    "\n",
    "#break\n",
    "\n",
    "for i in range(0,5):\n",
    "    print(i)\n",
    "    \n",
    "print('Outside for loop')"
   ]
  },
  {
   "cell_type": "code",
   "execution_count": 32,
   "metadata": {},
   "outputs": [
    {
     "name": "stdout",
     "output_type": "stream",
     "text": [
      "0\n",
      "Outside for loop\n"
     ]
    }
   ],
   "source": [
    "#unconditional break\n",
    "for i in range(0,5):\n",
    "    print(i)\n",
    "    break\n",
    "    \n",
    "print('Outside for loop')\n"
   ]
  },
  {
   "cell_type": "code",
   "execution_count": 33,
   "metadata": {},
   "outputs": [
    {
     "name": "stdout",
     "output_type": "stream",
     "text": [
      "0\n",
      "1\n",
      "2\n",
      "3\n",
      "Outside for loop\n"
     ]
    }
   ],
   "source": [
    "#conditional break\n",
    "for i in range(0,5):\n",
    "    print(i)\n",
    "    if(i==3):\n",
    "        break\n",
    "    \n",
    "print('Outside for loop')\n"
   ]
  },
  {
   "cell_type": "code",
   "execution_count": 34,
   "metadata": {},
   "outputs": [
    {
     "name": "stdout",
     "output_type": "stream",
     "text": [
      "0\n",
      "Inside for loop\n",
      "1\n",
      "Inside for loop\n",
      "2\n",
      "Inside for loop\n",
      "3\n",
      "Inside for loop\n",
      "4\n",
      "Inside for loop\n",
      "Outside for loop\n"
     ]
    }
   ],
   "source": [
    "#continue:\n",
    "\n",
    "for i in range(0,5):\n",
    "    print(i)\n",
    "    print('Inside for loop')\n",
    "    \n",
    "print('Outside for loop')\n"
   ]
  },
  {
   "cell_type": "code",
   "execution_count": 35,
   "metadata": {},
   "outputs": [
    {
     "name": "stdout",
     "output_type": "stream",
     "text": [
      "0\n",
      "1\n",
      "2\n",
      "3\n",
      "4\n",
      "Outside for loop\n"
     ]
    }
   ],
   "source": [
    "#unconditional continue\n",
    "\n",
    "for i in range(0,5):\n",
    "    print(i)\n",
    "    continue\n",
    "    print('Inside for loop')\n",
    "    \n",
    "print('Outside for loop')"
   ]
  },
  {
   "cell_type": "code",
   "execution_count": 36,
   "metadata": {},
   "outputs": [
    {
     "name": "stdout",
     "output_type": "stream",
     "text": [
      "0\n",
      "Inside for loop\n",
      "1\n",
      "Inside for loop\n",
      "2\n",
      "3\n",
      "Inside for loop\n",
      "4\n",
      "Inside for loop\n",
      "Outside for loop\n"
     ]
    }
   ],
   "source": [
    "#conditional for loop\n",
    "for i in range(0,5):\n",
    "    print(i)\n",
    "    if(i==2):\n",
    "        continue\n",
    "    print('Inside for loop')\n",
    "    \n",
    "print('Outside for loop')"
   ]
  },
  {
   "cell_type": "code",
   "execution_count": 37,
   "metadata": {},
   "outputs": [
    {
     "name": "stdout",
     "output_type": "stream",
     "text": [
      "12\n",
      "34\n",
      "54\n",
      "56\n"
     ]
    }
   ],
   "source": [
    "#program for printing only the even numbers of a list\n",
    "\n",
    "data=[12,33,34,43,45,54,56,65]\n",
    "\n",
    "for i in data:\n",
    "    if(i%2==0):\n",
    "        print(i)\n",
    "    else:\n",
    "        continue"
   ]
  },
  {
   "cell_type": "code",
   "execution_count": 38,
   "metadata": {},
   "outputs": [
    {
     "name": "stdout",
     "output_type": "stream",
     "text": [
      "(1, 'NIELIT', 45.78)\n",
      "<class 'tuple'>\n"
     ]
    }
   ],
   "source": [
    "#Python tuple\n",
    "#tuples are similar to list\n",
    "#tuples are immutable i.e. we can not change/update/modify a tuple\n",
    "\n",
    "tup=(1, 'NIELIT', 45.78)\n",
    "print(tup)\n",
    "print(type(tup))"
   ]
  },
  {
   "cell_type": "code",
   "execution_count": 39,
   "metadata": {},
   "outputs": [
    {
     "name": "stdout",
     "output_type": "stream",
     "text": [
      "First element of tup: 1\n",
      "Last element of tup: 45.78\n"
     ]
    }
   ],
   "source": [
    "print('First element of tup:', tup[0])\n",
    "print('Last element of tup:', tup[-1])"
   ]
  },
  {
   "cell_type": "code",
   "execution_count": 40,
   "metadata": {},
   "outputs": [
    {
     "name": "stdout",
     "output_type": "stream",
     "text": [
      "('NIELIT', 45.78)\n"
     ]
    }
   ],
   "source": [
    "print(tup[1:3])"
   ]
  },
  {
   "cell_type": "code",
   "execution_count": 43,
   "metadata": {},
   "outputs": [
    {
     "ename": "TypeError",
     "evalue": "'tuple' object does not support item assignment",
     "output_type": "error",
     "traceback": [
      "\u001b[1;31m---------------------------------------------------------------------------\u001b[0m",
      "\u001b[1;31mTypeError\u001b[0m                                 Traceback (most recent call last)",
      "\u001b[1;32m<ipython-input-43-0693263241aa>\u001b[0m in \u001b[0;36m<module>\u001b[1;34m\u001b[0m\n\u001b[0;32m      1\u001b[0m \u001b[1;31m#we cannot modily/update tuple data\u001b[0m\u001b[1;33m\u001b[0m\u001b[1;33m\u001b[0m\u001b[1;33m\u001b[0m\u001b[0m\n\u001b[1;32m----> 2\u001b[1;33m \u001b[0mtup\u001b[0m\u001b[1;33m[\u001b[0m\u001b[1;36m0\u001b[0m\u001b[1;33m]\u001b[0m\u001b[1;33m=\u001b[0m\u001b[1;36m5000\u001b[0m\u001b[1;33m\u001b[0m\u001b[1;33m\u001b[0m\u001b[0m\n\u001b[0m\u001b[0;32m      3\u001b[0m \u001b[0mtup\u001b[0m\u001b[1;33m[\u001b[0m\u001b[1;36m3\u001b[0m\u001b[1;33m]\u001b[0m\u001b[1;33m=\u001b[0m\u001b[1;34m'Nagendra'\u001b[0m\u001b[1;33m\u001b[0m\u001b[1;33m\u001b[0m\u001b[0m\n",
      "\u001b[1;31mTypeError\u001b[0m: 'tuple' object does not support item assignment"
     ]
    }
   ],
   "source": [
    "#we cannot modily/update tuple data\n",
    "tup[0]=5000\n",
    "tup[3]='Nagendra'"
   ]
  },
  {
   "cell_type": "code",
   "execution_count": 42,
   "metadata": {},
   "outputs": [
    {
     "name": "stdout",
     "output_type": "stream",
     "text": [
      "1\n",
      "NIELIT\n",
      "45.78\n"
     ]
    }
   ],
   "source": [
    "for a in tup:\n",
    "    print(a)"
   ]
  },
  {
   "cell_type": "code",
   "execution_count": 51,
   "metadata": {},
   "outputs": [
    {
     "name": "stdout",
     "output_type": "stream",
     "text": [
      "Length of the tuple: 5\n",
      "Sum of the tuple: 214\n",
      "Minimum of the tuple: 12\n",
      "Maximum of the tuple: 67\n",
      "count of 34: 1\n"
     ]
    }
   ],
   "source": [
    "t1=(12,34,45,56,67)\n",
    "print('Length of the tuple:', len(t1))\n",
    "print('Sum of the tuple:', sum(t1))\n",
    "print('Minimum of the tuple:', min(t1))\n",
    "print('Maximum of the tuple:', max(t1))\n",
    "print('count of 34:', t1.count(34))"
   ]
  },
  {
   "cell_type": "code",
   "execution_count": 52,
   "metadata": {},
   "outputs": [
    {
     "ename": "TypeError",
     "evalue": "'tuple' object doesn't support item deletion",
     "output_type": "error",
     "traceback": [
      "\u001b[1;31m---------------------------------------------------------------------------\u001b[0m",
      "\u001b[1;31mTypeError\u001b[0m                                 Traceback (most recent call last)",
      "\u001b[1;32m<ipython-input-52-d7012251404a>\u001b[0m in \u001b[0;36m<module>\u001b[1;34m\u001b[0m\n\u001b[0;32m      1\u001b[0m \u001b[1;31m#deletion in tuple\u001b[0m\u001b[1;33m\u001b[0m\u001b[1;33m\u001b[0m\u001b[1;33m\u001b[0m\u001b[0m\n\u001b[0;32m      2\u001b[0m \u001b[1;31m#you can delete single data from a tuple\u001b[0m\u001b[1;33m\u001b[0m\u001b[1;33m\u001b[0m\u001b[1;33m\u001b[0m\u001b[0m\n\u001b[1;32m----> 3\u001b[1;33m \u001b[1;32mdel\u001b[0m \u001b[0mt1\u001b[0m\u001b[1;33m[\u001b[0m\u001b[1;36m1\u001b[0m\u001b[1;33m]\u001b[0m\u001b[1;33m\u001b[0m\u001b[1;33m\u001b[0m\u001b[0m\n\u001b[0m",
      "\u001b[1;31mTypeError\u001b[0m: 'tuple' object doesn't support item deletion"
     ]
    }
   ],
   "source": [
    "#deletion in tuple\n",
    "#you can delete single data from a tuple\n",
    "del t1[1]"
   ]
  },
  {
   "cell_type": "code",
   "execution_count": 53,
   "metadata": {},
   "outputs": [
    {
     "ename": "NameError",
     "evalue": "name 't1' is not defined",
     "output_type": "error",
     "traceback": [
      "\u001b[1;31m---------------------------------------------------------------------------\u001b[0m",
      "\u001b[1;31mNameError\u001b[0m                                 Traceback (most recent call last)",
      "\u001b[1;32m<ipython-input-53-3ce51419eaab>\u001b[0m in \u001b[0;36m<module>\u001b[1;34m\u001b[0m\n\u001b[0;32m      1\u001b[0m \u001b[1;31m#but, we can delete a tuple completely using del\u001b[0m\u001b[1;33m\u001b[0m\u001b[1;33m\u001b[0m\u001b[1;33m\u001b[0m\u001b[0m\n\u001b[0;32m      2\u001b[0m \u001b[1;32mdel\u001b[0m \u001b[0mt1\u001b[0m\u001b[1;33m\u001b[0m\u001b[1;33m\u001b[0m\u001b[0m\n\u001b[1;32m----> 3\u001b[1;33m \u001b[0mt1\u001b[0m\u001b[1;33m\u001b[0m\u001b[1;33m\u001b[0m\u001b[0m\n\u001b[0m",
      "\u001b[1;31mNameError\u001b[0m: name 't1' is not defined"
     ]
    }
   ],
   "source": [
    "#but, we can delete a tuple completely using del\n",
    "del t1\n",
    "t1"
   ]
  },
  {
   "cell_type": "code",
   "execution_count": 55,
   "metadata": {},
   "outputs": [
    {
     "name": "stdout",
     "output_type": "stream",
     "text": [
      "(12, 'we', 'lucknow', 45.56)\n",
      "<class 'tuple'>\n"
     ]
    }
   ],
   "source": [
    "#tuple(): used to create a new tuple\n",
    "t=tuple((12, 'we', 'lucknow', 45.56))\n",
    "print(t)\n",
    "print(type(t))"
   ]
  },
  {
   "cell_type": "code",
   "execution_count": 56,
   "metadata": {},
   "outputs": [
    {
     "name": "stdout",
     "output_type": "stream",
     "text": [
      "[12, 34, 45, 6, 56, 67]\n",
      "<class 'list'>\n",
      "(12, 34, 45, 6, 56, 67)\n",
      "<class 'tuple'>\n"
     ]
    }
   ],
   "source": [
    "#tuple(): also used to convert list into tuple\n",
    "\n",
    "l1=[12, 34, 45,6, 56, 67]\n",
    "print(l1)\n",
    "print(type(l1))\n",
    "\n",
    "#transforming l1 as tuple\n",
    "t1=tuple(l1)\n",
    "print(t1)\n",
    "print(type(t1))"
   ]
  },
  {
   "cell_type": "code",
   "execution_count": 58,
   "metadata": {},
   "outputs": [
    {
     "name": "stdout",
     "output_type": "stream",
     "text": [
      "(1, 'Ramesh')\n",
      "(2, 'Sachin')\n",
      "(3, 'Rajesh')\n"
     ]
    },
    {
     "data": {
      "text/plain": [
       "[(1, 'Ramesh'), (102, 'Rajat'), (3, 'Rajesh')]"
      ]
     },
     "execution_count": 58,
     "metadata": {},
     "output_type": "execute_result"
    }
   ],
   "source": [
    "#nesting tuple with list\n",
    "\n",
    "tup_li=[(1, 'Ramesh'), (2, 'Sachin'), (3, 'Rajesh')]\n",
    "for i in tup_li:\n",
    "    print(i)\n",
    "    \n",
    "tup_li[1]=(102, 'Rajat')\n",
    "tup_li"
   ]
  },
  {
   "cell_type": "code",
   "execution_count": 60,
   "metadata": {},
   "outputs": [
    {
     "name": "stdout",
     "output_type": "stream",
     "text": [
      "[1, 'Ramesh']\n",
      "[2, 'Sachin']\n",
      "[3, 'Rajesh']\n"
     ]
    },
    {
     "ename": "TypeError",
     "evalue": "'tuple' object does not support item assignment",
     "output_type": "error",
     "traceback": [
      "\u001b[1;31m---------------------------------------------------------------------------\u001b[0m",
      "\u001b[1;31mTypeError\u001b[0m                                 Traceback (most recent call last)",
      "\u001b[1;32m<ipython-input-60-3aa4de35f314>\u001b[0m in \u001b[0;36m<module>\u001b[1;34m\u001b[0m\n\u001b[0;32m      5\u001b[0m     \u001b[0mprint\u001b[0m\u001b[1;33m(\u001b[0m\u001b[0mi\u001b[0m\u001b[1;33m)\u001b[0m\u001b[1;33m\u001b[0m\u001b[1;33m\u001b[0m\u001b[0m\n\u001b[0;32m      6\u001b[0m \u001b[1;33m\u001b[0m\u001b[0m\n\u001b[1;32m----> 7\u001b[1;33m \u001b[0mli_tup\u001b[0m\u001b[1;33m[\u001b[0m\u001b[1;36m1\u001b[0m\u001b[1;33m]\u001b[0m\u001b[1;33m=\u001b[0m\u001b[1;33m[\u001b[0m\u001b[1;36m102\u001b[0m\u001b[1;33m,\u001b[0m \u001b[1;34m'Rajat'\u001b[0m\u001b[1;33m]\u001b[0m\u001b[1;33m\u001b[0m\u001b[1;33m\u001b[0m\u001b[0m\n\u001b[0m",
      "\u001b[1;31mTypeError\u001b[0m: 'tuple' object does not support item assignment"
     ]
    }
   ],
   "source": [
    "#nesting list with tuple\n",
    "\n",
    "li_tup=([1, 'Ramesh'], [2, 'Sachin'], [3, 'Rajesh'])\n",
    "for i in li_tup:\n",
    "    print(i)\n",
    "    \n",
    "li_tup[1]=[102, 'Rajat']"
   ]
  },
  {
   "cell_type": "code",
   "execution_count": null,
   "metadata": {},
   "outputs": [],
   "source": []
  }
 ],
 "metadata": {
  "kernelspec": {
   "display_name": "Python 3",
   "language": "python",
   "name": "python3"
  },
  "language_info": {
   "codemirror_mode": {
    "name": "ipython",
    "version": 3
   },
   "file_extension": ".py",
   "mimetype": "text/x-python",
   "name": "python",
   "nbconvert_exporter": "python",
   "pygments_lexer": "ipython3",
   "version": "3.7.3"
  }
 },
 "nbformat": 4,
 "nbformat_minor": 2
}
