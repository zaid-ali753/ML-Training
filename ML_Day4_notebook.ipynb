{
 "cells": [
  {
   "cell_type": "code",
   "execution_count": null,
   "metadata": {},
   "outputs": [],
   "source": [
    "#copy():\n",
    "\n",
    "a=10\n",
    "b=a\n",
    "\n",
    "print(a)\n",
    "print(b)"
   ]
  },
  {
   "cell_type": "code",
   "execution_count": null,
   "metadata": {},
   "outputs": [],
   "source": [
    "#if we initialize a list to another list using assignment operator,\n",
    "#then it will create a reference of the list\n",
    "#Example: here, y is the reference variable of list x\n",
    "#any modification made to x list will be reflected in y list.\n",
    "\n",
    "x=[12, 34, 45, 'brown', 'red']\n",
    "#intialize the elements of list x to list y\n",
    "y=x\n",
    "print(x)\n",
    "print(y)"
   ]
  },
  {
   "cell_type": "code",
   "execution_count": null,
   "metadata": {},
   "outputs": [],
   "source": [
    "#modifying third member of x list\n",
    "x[2]='Machine Learning'\n",
    "print(x)\n",
    "print(y)"
   ]
  },
  {
   "cell_type": "code",
   "execution_count": null,
   "metadata": {},
   "outputs": [],
   "source": [
    "#modifying second member of y list\n",
    "y[1]='Python'\n",
    "print(y)\n",
    "print(x)"
   ]
  },
  {
   "cell_type": "code",
   "execution_count": null,
   "metadata": {},
   "outputs": [],
   "source": [
    "#copy(): used to copy the data from one list to another list.\n",
    "z=x.copy()\n",
    "print(x)\n",
    "print(z)"
   ]
  },
  {
   "cell_type": "code",
   "execution_count": null,
   "metadata": {},
   "outputs": [],
   "source": [
    "#modifying first member of x list\n",
    "x[0]=1000\n",
    "print('X list:', x)\n",
    "print('Z list:', z)"
   ]
  },
  {
   "cell_type": "code",
   "execution_count": null,
   "metadata": {},
   "outputs": [],
   "source": [
    "#modifying second member of z list\n",
    "z[1]=4000\n",
    "print('X list:', x)\n",
    "print('Z list:', z)"
   ]
  },
  {
   "cell_type": "code",
   "execution_count": null,
   "metadata": {},
   "outputs": [],
   "source": [
    "#count(): counts the occurences of a particular data in a list\n",
    "#syntax: list_name.count(data)\n",
    "\n",
    "r1=[1, 2, 3,2 ,2, 1, 2, 1]\n",
    "print('Count of data 1:', r1.count(1))\n",
    "print('Count of data 2:', r1.count(2))"
   ]
  },
  {
   "cell_type": "code",
   "execution_count": null,
   "metadata": {},
   "outputs": [],
   "source": [
    "#index(): to check the index of a specific data in a list\n",
    "\n",
    "#Example: to check the index of 3 in list r1\n",
    "i=r1.index(3)\n",
    "print('Index of 3 in r1:', i)\n",
    "\n",
    "#Example: to check the index of 'Python' in list x\n",
    "j=x.index('Python')\n",
    "print('Index of Python in list x:', j)"
   ]
  },
  {
   "cell_type": "code",
   "execution_count": null,
   "metadata": {},
   "outputs": [],
   "source": [
    "w=[12, 34, 45,56,67, 100, 344]\n",
    "\n",
    "print('Length of list:', len(w))\n",
    "print('Sum of list w:', sum(w))  #sum() will work only with numerical data\n",
    "print('Maximum Element of w:', max(w))\n",
    "print('Minimum element of w:', min(w))\n",
    "\n",
    "e=['Abs', 'Dji', 'NIELIT']\n",
    "print('Maximum Element of e:', max(e))\n",
    "print('Minimum Element of e:', min(e))\n"
   ]
  },
  {
   "cell_type": "code",
   "execution_count": null,
   "metadata": {},
   "outputs": [],
   "source": [
    "#dictionary: stores value in key:value pair\n",
    "\n",
    "#d={key1:value1, key2: value2.... key_n:value_n}\n",
    "\n",
    "data={'id':1000, 'name':'Amit', 'course':'Machine Learning'}\n",
    "print(data)\n",
    "\n",
    "#To view value associated with key 'name'\n",
    "print('Id:', data['id'])\n",
    "print('Name :', data['name'])\n",
    "print('Course:', data['course'])"
   ]
  },
  {
   "cell_type": "code",
   "execution_count": null,
   "metadata": {},
   "outputs": [],
   "source": [
    "#we can also use multiple values for a key\n",
    "\n",
    "data={'id': [101, 102, 103], 'name':['Amit', 'Jatin', 'Gaurav']}\n",
    "print(data)"
   ]
  },
  {
   "cell_type": "code",
   "execution_count": null,
   "metadata": {},
   "outputs": [],
   "source": [
    "print('Id:', data['id'])\n",
    "print('Name:', data['name'])"
   ]
  },
  {
   "cell_type": "code",
   "execution_count": null,
   "metadata": {},
   "outputs": [],
   "source": [
    "print('Id of first student:', data['id'][0])\n",
    "print('Name of second student:', data['name'][1])\n",
    "print('Name of First student:', data['name'][0])"
   ]
  },
  {
   "cell_type": "code",
   "execution_count": null,
   "metadata": {},
   "outputs": [],
   "source": [
    "#updating dictionary\n",
    "\n",
    "#updating the value of first id in data\n",
    "\n",
    "data['id'][0]=1001\n",
    "data"
   ]
  },
  {
   "cell_type": "code",
   "execution_count": null,
   "metadata": {},
   "outputs": [],
   "source": [
    "#updating the name of third student\n",
    "data['name'][2]='Rajan'\n",
    "data"
   ]
  },
  {
   "cell_type": "code",
   "execution_count": null,
   "metadata": {},
   "outputs": [],
   "source": [
    "#Adding a new key in a existing dictionary\n",
    "#Example: adding a new key named 'course' in data\n",
    "data['Course']=['ML', 'ML', 'AI']\n",
    "data"
   ]
  },
  {
   "cell_type": "code",
   "execution_count": null,
   "metadata": {},
   "outputs": [],
   "source": [
    "data['Address']=['LKO', 'KNP', 'DEL']\n",
    "data"
   ]
  },
  {
   "cell_type": "code",
   "execution_count": null,
   "metadata": {},
   "outputs": [],
   "source": [
    "#Deleting data from the dictionary\n",
    "\n",
    "#popitem(): deletes the last element from the dictionary\n",
    "\n",
    "data.popitem()\n",
    "\n"
   ]
  },
  {
   "cell_type": "code",
   "execution_count": null,
   "metadata": {},
   "outputs": [],
   "source": [
    "data"
   ]
  },
  {
   "cell_type": "code",
   "execution_count": null,
   "metadata": {},
   "outputs": [],
   "source": [
    "#del keyword can be used to delete the specific key from the dictionary\n",
    "\n",
    "#deleting 'Course' key\n",
    "del data['Course']\n",
    "data"
   ]
  },
  {
   "cell_type": "code",
   "execution_count": null,
   "metadata": {},
   "outputs": [],
   "source": [
    "#deleting specific value from a key\n",
    "\n",
    "#deleting first value from key 'id'\n",
    "del data['id'][0]\n",
    "data"
   ]
  },
  {
   "cell_type": "code",
   "execution_count": null,
   "metadata": {},
   "outputs": [],
   "source": [
    "#deleting data dictionary completely\n",
    "del data\n",
    "data"
   ]
  },
  {
   "cell_type": "code",
   "execution_count": null,
   "metadata": {},
   "outputs": [],
   "source": [
    "d2={'id': [1001, 102, 103],\n",
    " 'name': ['Amit', 'Jatin', 'Rajan'],\n",
    " 'Course': ['ML', 'ML', 'AI']}\n",
    "d2"
   ]
  },
  {
   "cell_type": "code",
   "execution_count": null,
   "metadata": {},
   "outputs": [],
   "source": [
    "#checking the key in a dictionary\n",
    "\n",
    "if 'id' in d2:\n",
    "    print('Id key is available')\n",
    "else:\n",
    "    print('Id key is not available')"
   ]
  },
  {
   "cell_type": "code",
   "execution_count": null,
   "metadata": {},
   "outputs": [],
   "source": [
    "if 'Address' in d2:\n",
    "    print('Address key is available')\n",
    "else:\n",
    "    print('Address key is not available')"
   ]
  },
  {
   "cell_type": "code",
   "execution_count": null,
   "metadata": {},
   "outputs": [],
   "source": [
    "#keys(): used to print the keys of a dictionary\n",
    "\n",
    "print(d2.keys())"
   ]
  },
  {
   "cell_type": "code",
   "execution_count": null,
   "metadata": {},
   "outputs": [],
   "source": [
    "#values(): used to print the values of a dictionary\n",
    "\n",
    "print(d2.values())"
   ]
  },
  {
   "cell_type": "code",
   "execution_count": null,
   "metadata": {},
   "outputs": [],
   "source": [
    "#update(): used to update the values of a dictionary\n",
    "#updating the values in d2 using update()\n",
    "\n",
    "#to update course\n",
    "d2.update({'Course':1000})\n",
    "d2"
   ]
  },
  {
   "cell_type": "code",
   "execution_count": null,
   "metadata": {},
   "outputs": [],
   "source": [
    "#Looping in Python\n",
    "#Python supports two types of loops\n",
    "\n",
    "#1. While loop\n",
    "#2. For loop"
   ]
  },
  {
   "cell_type": "code",
   "execution_count": null,
   "metadata": {},
   "outputs": [],
   "source": [
    "#while loop\n",
    "#pre-tested loop\n",
    "\n",
    "#Syntax:\n",
    "\n",
    "#initialization\n",
    "#while (condition):\n",
    "#         statement\n",
    "#         increment/decrement  \n",
    "\n",
    "#To print 'NIELIT Lucknow' ten times\n",
    "\n",
    "i=1\n",
    "while(i<=10):\n",
    "    print('NIELIT Lucknow')\n",
    "    i=i+1"
   ]
  },
  {
   "cell_type": "code",
   "execution_count": null,
   "metadata": {},
   "outputs": [],
   "source": [
    "#To print 1 to 10\n",
    "a=1\n",
    "while(a<=10):\n",
    "    print(a)\n",
    "    a=a+1"
   ]
  },
  {
   "cell_type": "code",
   "execution_count": null,
   "metadata": {},
   "outputs": [],
   "source": [
    "#Ex: to print 5 to 1\n",
    "\n",
    "i=5\n",
    "while(i>=1):\n",
    "    print(i)\n",
    "    i=i-1"
   ]
  },
  {
   "cell_type": "code",
   "execution_count": null,
   "metadata": {},
   "outputs": [],
   "source": [
    "#Infinite while loop\n",
    "\n",
    "q=1\n",
    "while(q==1):\n",
    "    print('Infinite loop')"
   ]
  },
  {
   "cell_type": "code",
   "execution_count": 2,
   "metadata": {},
   "outputs": [
    {
     "name": "stdout",
     "output_type": "stream",
     "text": [
      "5\n",
      "4\n",
      "3\n",
      "2\n",
      "1\n",
      "while loop 1 is executed successfully\n"
     ]
    }
   ],
   "source": [
    "#else in while loop\n",
    "\n",
    "i=5\n",
    "while(i>=1):\n",
    "    print(i)\n",
    "    i=i-1\n",
    "\n",
    "else:\n",
    "    print('while loop 1 is executed successfully')\n"
   ]
  },
  {
   "cell_type": "code",
   "execution_count": null,
   "metadata": {},
   "outputs": [],
   "source": []
  }
 ],
 "metadata": {
  "kernelspec": {
   "display_name": "Python 3",
   "language": "python",
   "name": "python3"
  },
  "language_info": {
   "codemirror_mode": {
    "name": "ipython",
    "version": 3
   },
   "file_extension": ".py",
   "mimetype": "text/x-python",
   "name": "python",
   "nbconvert_exporter": "python",
   "pygments_lexer": "ipython3",
   "version": "3.7.3"
  }
 },
 "nbformat": 4,
 "nbformat_minor": 2
}
