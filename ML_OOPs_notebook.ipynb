{
 "cells": [
  {
   "cell_type": "code",
   "execution_count": 2,
   "metadata": {},
   "outputs": [
    {
     "name": "stdout",
     "output_type": "stream",
     "text": [
      "Id: 101\n",
      "Name: Rajesh\n",
      "Course: ML\n",
      "Accessing Id using object: 101\n"
     ]
    }
   ],
   "source": [
    "#Defining class in python\n",
    "\n",
    "class student:\n",
    "    \n",
    "    #defining class variable\n",
    "    idd=101\n",
    "    name='Rajesh'\n",
    "    course='ML'\n",
    "    \n",
    "    def show_data(d):\n",
    "        #here 'd' is class reference variable\n",
    "        #each method in a class must include this parameter\n",
    "        #method may have different other parameter as per need\n",
    "        #This parameter is used to access the variable of the class\n",
    "        \n",
    "        print('Id:', d.idd)\n",
    "        print('Name:', d.name)\n",
    "        print('Course:', d.course)\n",
    "\n",
    "#Object of the class is used to access the members of the class\n",
    "\n",
    "#Syntax: object_name=class_name()\n",
    "s1=student()\n",
    "\n",
    "#calling show_data() of student class using its object s1\n",
    "s1.show_data()\n",
    "\n",
    "#Public variables of a class can be accessed through its object\n",
    "print('Accessing Id using object:', s1.idd)"
   ]
  },
  {
   "cell_type": "code",
   "execution_count": 5,
   "metadata": {},
   "outputs": [
    {
     "ename": "NameError",
     "evalue": "name 'name' is not defined",
     "output_type": "error",
     "traceback": [
      "\u001b[1;31m---------------------------------------------------------------------------\u001b[0m",
      "\u001b[1;31mNameError\u001b[0m                                 Traceback (most recent call last)",
      "\u001b[1;32m<ipython-input-5-72cef8ec4e47>\u001b[0m in \u001b[0;36m<module>\u001b[1;34m\u001b[0m\n\u001b[1;32m----> 1\u001b[1;33m \u001b[0mprint\u001b[0m\u001b[1;33m(\u001b[0m\u001b[1;34m'Accessing Name without using object:'\u001b[0m\u001b[1;33m,\u001b[0m \u001b[0mname\u001b[0m\u001b[1;33m)\u001b[0m\u001b[1;33m\u001b[0m\u001b[1;33m\u001b[0m\u001b[0m\n\u001b[0m",
      "\u001b[1;31mNameError\u001b[0m: name 'name' is not defined"
     ]
    }
   ],
   "source": [
    "print('Accessing Name without using object:', name)"
   ]
  },
  {
   "cell_type": "code",
   "execution_count": 6,
   "metadata": {},
   "outputs": [
    {
     "ename": "NameError",
     "evalue": "name 'show_data' is not defined",
     "output_type": "error",
     "traceback": [
      "\u001b[1;31m---------------------------------------------------------------------------\u001b[0m",
      "\u001b[1;31mNameError\u001b[0m                                 Traceback (most recent call last)",
      "\u001b[1;32m<ipython-input-6-8f1a0fbac68e>\u001b[0m in \u001b[0;36m<module>\u001b[1;34m\u001b[0m\n\u001b[1;32m----> 1\u001b[1;33m \u001b[0mshow_data\u001b[0m\u001b[1;33m(\u001b[0m\u001b[1;33m)\u001b[0m\u001b[1;33m\u001b[0m\u001b[1;33m\u001b[0m\u001b[0m\n\u001b[0m",
      "\u001b[1;31mNameError\u001b[0m: name 'show_data' is not defined"
     ]
    }
   ],
   "source": [
    "show_data()"
   ]
  },
  {
   "cell_type": "code",
   "execution_count": 7,
   "metadata": {},
   "outputs": [
    {
     "name": "stdout",
     "output_type": "stream",
     "text": [
      "Id: 1001\n",
      "Name: Rajat\n",
      "Course: ML\n"
     ]
    }
   ],
   "source": [
    "#Access specifier\n",
    "class new:\n",
    "    idd=1001  #Public variable\n",
    "    __name='Rajat' #Private variable\n",
    "    _course='ML' #protected variable\n",
    "    \n",
    "    def view(r):\n",
    "        #r=n\n",
    "        print('Id:', r.idd)\n",
    "        print('Name:', r.__name)\n",
    "        print('Course:', r._course)\n",
    "        \n",
    "n=new()\n",
    "\n",
    "#n.idd=1001\n",
    "#n.__name='Rajat'\n",
    "#n._course='ML'\n",
    "\n",
    "n.view()"
   ]
  },
  {
   "cell_type": "code",
   "execution_count": 11,
   "metadata": {},
   "outputs": [
    {
     "name": "stdout",
     "output_type": "stream",
     "text": [
      "Id: 1000\n",
      "Name: Rajat\n",
      "Course: ML\n"
     ]
    }
   ],
   "source": [
    "n.idd=1000\n",
    "n.show()"
   ]
  },
  {
   "cell_type": "code",
   "execution_count": 12,
   "metadata": {},
   "outputs": [
    {
     "name": "stdout",
     "output_type": "stream",
     "text": [
      "Id: 1000\n",
      "Name: Rajat\n",
      "Course: ML\n"
     ]
    }
   ],
   "source": [
    "n.__name='Sachin'\n",
    "n.show()"
   ]
  },
  {
   "cell_type": "code",
   "execution_count": 9,
   "metadata": {},
   "outputs": [
    {
     "name": "stdout",
     "output_type": "stream",
     "text": [
      "Access IDD using Object: 1001\n"
     ]
    },
    {
     "ename": "AttributeError",
     "evalue": "'new' object has no attribute '__name'",
     "output_type": "error",
     "traceback": [
      "\u001b[1;31m---------------------------------------------------------------------------\u001b[0m",
      "\u001b[1;31mAttributeError\u001b[0m                            Traceback (most recent call last)",
      "\u001b[1;32m<ipython-input-9-04ad068b96f9>\u001b[0m in \u001b[0;36m<module>\u001b[1;34m\u001b[0m\n\u001b[0;32m      1\u001b[0m \u001b[0mprint\u001b[0m\u001b[1;33m(\u001b[0m\u001b[1;34m'Access IDD using Object:'\u001b[0m\u001b[1;33m,\u001b[0m \u001b[0mn\u001b[0m\u001b[1;33m.\u001b[0m\u001b[0midd\u001b[0m\u001b[1;33m)\u001b[0m\u001b[1;33m\u001b[0m\u001b[1;33m\u001b[0m\u001b[0m\n\u001b[1;32m----> 2\u001b[1;33m \u001b[0mprint\u001b[0m\u001b[1;33m(\u001b[0m\u001b[1;34m'Access name using Object:'\u001b[0m\u001b[1;33m,\u001b[0m \u001b[0mn\u001b[0m\u001b[1;33m.\u001b[0m\u001b[0m__name\u001b[0m\u001b[1;33m)\u001b[0m\u001b[1;33m\u001b[0m\u001b[1;33m\u001b[0m\u001b[0m\n\u001b[0m",
      "\u001b[1;31mAttributeError\u001b[0m: 'new' object has no attribute '__name'"
     ]
    }
   ],
   "source": [
    "print('Access IDD using Object:', n.idd)\n",
    "print('Access name using Object:', n.__name)\n"
   ]
  },
  {
   "cell_type": "code",
   "execution_count": 10,
   "metadata": {},
   "outputs": [
    {
     "name": "stdout",
     "output_type": "stream",
     "text": [
      "Access Course using Object: ML\n"
     ]
    }
   ],
   "source": [
    "print('Access Course using Object:', n._course)\n"
   ]
  },
  {
   "cell_type": "code",
   "execution_count": 1,
   "metadata": {},
   "outputs": [
    {
     "name": "stdout",
     "output_type": "stream",
     "text": [
      "Id: 101\n",
      "Name: Gaurav\n"
     ]
    }
   ],
   "source": [
    "class student:\n",
    "    idd=0\n",
    "    name=0\n",
    "    \n",
    "    def input_data(d, x, y):\n",
    "        d.idd=x       #s1.idd=101,   s2.idd=102\n",
    "        d.name=y      #s1.name=Gaurav s2.name=Sachin\n",
    "        \n",
    "    def view_data(d):\n",
    "        print('Id:', d.idd)\n",
    "        print('Name:', d.name)\n",
    "    \n",
    "s1=student()\n",
    "s1.input_data(101, 'Gaurav')   #d=s1, x=101, y='Gaurav'\n",
    "s1.view_data()   #d=s1\n",
    "    "
   ]
  },
  {
   "cell_type": "code",
   "execution_count": 2,
   "metadata": {},
   "outputs": [
    {
     "name": "stdout",
     "output_type": "stream",
     "text": [
      "Id: 102\n",
      "Name: Sachin\n"
     ]
    }
   ],
   "source": [
    "s2=student()\n",
    "s2.input_data(102, 'Sachin') #d=s2, x=102, y='Sachin'\n",
    "s2.view_data() #d=s2"
   ]
  },
  {
   "cell_type": "code",
   "execution_count": 4,
   "metadata": {},
   "outputs": [
    {
     "name": "stdout",
     "output_type": "stream",
     "text": [
      "Id: 103\n",
      "Name: Jatin\n"
     ]
    }
   ],
   "source": [
    "s3=student()\n",
    "s3.input_data(103, 'Jatin') \n",
    "s3.view_data() #d=s3"
   ]
  },
  {
   "cell_type": "code",
   "execution_count": 6,
   "metadata": {},
   "outputs": [
    {
     "name": "stdout",
     "output_type": "stream",
     "text": [
      "Object is created\n",
      "Id: 101\n",
      "Name: Rajan\n"
     ]
    }
   ],
   "source": [
    "#Constructors: used to initialize the variables of the class\n",
    "\n",
    "class data:\n",
    "    idd=101\n",
    "    name='Rajan'\n",
    "    \n",
    "    #declaring non parameterized constructor\n",
    "    def __init__(d):\n",
    "        print('Object is created')\n",
    "        \n",
    "    def show(d):\n",
    "        print('Id:', d.idd)\n",
    "        print('Name:', d.name)\n",
    "    \n",
    "d1=data()\n",
    "d1.show()"
   ]
  },
  {
   "cell_type": "code",
   "execution_count": 8,
   "metadata": {},
   "outputs": [
    {
     "name": "stdout",
     "output_type": "stream",
     "text": [
      "Object is created\n",
      "Id: 1001\n",
      "Name: Rahul\n",
      "Course: ML\n"
     ]
    }
   ],
   "source": [
    "class data:\n",
    "    idd=0\n",
    "    name=0\n",
    "    course=0\n",
    "    \n",
    "    #declaring parameterized constructor\n",
    "    def __init__(self, a,b,c):\n",
    "        print('Object is created')\n",
    "        self.idd=a\n",
    "        self.name=b\n",
    "        self.course=c\n",
    "        \n",
    "    def show(d):\n",
    "        print('Id:', d.idd)\n",
    "        print('Name:', d.name)\n",
    "        print('Course:', d.course)\n",
    "    \n",
    "d2=data(1001, 'Rahul', 'ML') #d=d2, a=1001, b='Rahul' c='ML'\n",
    "d2.show()\n"
   ]
  },
  {
   "cell_type": "code",
   "execution_count": 9,
   "metadata": {},
   "outputs": [
    {
     "name": "stdout",
     "output_type": "stream",
     "text": [
      "Object is created\n",
      "Id: 1002\n",
      "Name: Vineet\n",
      "Course: AI\n"
     ]
    }
   ],
   "source": [
    "d3=data(1002, 'Vineet', 'AI')\n",
    "d3.show()"
   ]
  },
  {
   "cell_type": "code",
   "execution_count": 10,
   "metadata": {},
   "outputs": [
    {
     "name": "stdout",
     "output_type": "stream",
     "text": [
      "Value of id with object d3 before modification: 1002\n",
      "Value of id with object d3 after modification: 2000001\n"
     ]
    }
   ],
   "source": [
    "#Modifying object properties\n",
    "#class object can only modify public variable of a class\n",
    "print('Value of id with object d3 before modification:', d3.idd)\n",
    "d3.idd=2000001\n",
    "print('Value of id with object d3 after modification:', d3.idd)\n"
   ]
  },
  {
   "cell_type": "code",
   "execution_count": 11,
   "metadata": {},
   "outputs": [],
   "source": [
    "#Deleting value of a class variable associated with a object\n",
    "del d3.idd"
   ]
  },
  {
   "cell_type": "code",
   "execution_count": 12,
   "metadata": {},
   "outputs": [
    {
     "name": "stdout",
     "output_type": "stream",
     "text": [
      "Value of id with object d3 before modification: 0\n"
     ]
    }
   ],
   "source": [
    "print('Value of id with object d3 before modification:', d3.idd)\n"
   ]
  },
  {
   "cell_type": "code",
   "execution_count": 13,
   "metadata": {},
   "outputs": [],
   "source": [
    "#To delete object of a class\n",
    "#del object_name\n",
    "\n",
    "del d3"
   ]
  },
  {
   "cell_type": "code",
   "execution_count": 14,
   "metadata": {},
   "outputs": [
    {
     "ename": "NameError",
     "evalue": "name 'd3' is not defined",
     "output_type": "error",
     "traceback": [
      "\u001b[1;31m---------------------------------------------------------------------------\u001b[0m",
      "\u001b[1;31mNameError\u001b[0m                                 Traceback (most recent call last)",
      "\u001b[1;32m<ipython-input-14-297e78a9b6b7>\u001b[0m in \u001b[0;36m<module>\u001b[1;34m\u001b[0m\n\u001b[1;32m----> 1\u001b[1;33m \u001b[0mprint\u001b[0m\u001b[1;33m(\u001b[0m\u001b[1;34m'Value of id with object d3 before modification:'\u001b[0m\u001b[1;33m,\u001b[0m \u001b[0md3\u001b[0m\u001b[1;33m.\u001b[0m\u001b[0midd\u001b[0m\u001b[1;33m)\u001b[0m\u001b[1;33m\u001b[0m\u001b[1;33m\u001b[0m\u001b[0m\n\u001b[0m",
      "\u001b[1;31mNameError\u001b[0m: name 'd3' is not defined"
     ]
    }
   ],
   "source": [
    "print('Value of id with object d3 before modification:', d3.idd)\n"
   ]
  },
  {
   "cell_type": "code",
   "execution_count": 15,
   "metadata": {},
   "outputs": [
    {
     "name": "stdout",
     "output_type": "stream",
     "text": [
      "Addition: 30\n",
      "Multiplication: 450\n"
     ]
    }
   ],
   "source": [
    "#Inheritance: one class can aquire the variables and methods of another class\n",
    "#single inheritance\n",
    "\n",
    "class addition:\n",
    "    x=0\n",
    "    y=0\n",
    "    \n",
    "    def __init__(d, a, b):\n",
    "        d.x=a\n",
    "        d.y=b\n",
    "        \n",
    "    def add(d):\n",
    "        z=d.x+d.y\n",
    "        return z\n",
    "\n",
    "#To inherit class addition \n",
    "#here, addition is the base/parent class\n",
    "#mulplication is the devired/child class\n",
    "#class multiplication can only inherit public and protected members of the class addition\n",
    "\n",
    "\n",
    "class multiplication(addition):\n",
    "    \n",
    "    i=0\n",
    "    j=0\n",
    "    \n",
    "    def __init__(s, a,b,c,d):\n",
    "        s.x=a\n",
    "        s.y=b\n",
    "        s.i=c\n",
    "        s.j=d\n",
    "    \n",
    "    def multiply(s):\n",
    "        r=s.i*s.j\n",
    "        return r\n",
    "    \n",
    "\n",
    "m1=multiplication(10,20,15,30) #s=m1 a=10, b=20, c=15, d=30\n",
    "\n",
    "a1=m1.add()\n",
    "print('Addition:', a1)\n",
    "\n",
    "b1=m1.multiply()\n",
    "print('Multiplication:', b1 )"
   ]
  },
  {
   "cell_type": "code",
   "execution_count": 19,
   "metadata": {},
   "outputs": [
    {
     "name": "stdout",
     "output_type": "stream",
     "text": [
      "Id of student: 2002\n",
      "Name of the student: Ravi\n",
      "Student Marks: 85\n"
     ]
    }
   ],
   "source": [
    "#Multiple Inheritance\n",
    "\n",
    "class student_id:\n",
    "    idd=0\n",
    "    \n",
    "    def show_id(s):\n",
    "        print('Id of student:', s.idd)\n",
    "        \n",
    "class student_name:\n",
    "    name=0\n",
    "    \n",
    "    def show_name(s):\n",
    "        print('Name of the student:', s.name)\n",
    "        \n",
    "#student_marks inherits two classes: student_id, student_name\n",
    "class student_marks(student_id, student_name):\n",
    "    marks=0\n",
    "    \n",
    "    def __init__(s, i, n, m):\n",
    "        s.idd=i\n",
    "        s.name=n\n",
    "        s.marks=m\n",
    "        \n",
    "    def show_marks(s):\n",
    "        print('Student Marks:', s.marks)\n",
    "        \n",
    "sm1=student_marks(2002, 'Ravi', 85)\n",
    "sm1.show_id()\n",
    "sm1.show_name()\n",
    "sm1.show_marks()\n",
    "        \n",
    "    "
   ]
  },
  {
   "cell_type": "code",
   "execution_count": 20,
   "metadata": {},
   "outputs": [
    {
     "name": "stdout",
     "output_type": "stream",
     "text": [
      "Id of student: 2002\n",
      "Name of the student: Ravi\n",
      "Student Marks: 85\n"
     ]
    }
   ],
   "source": [
    "#Multi-level inheritance\n",
    "\n",
    "class student_id:\n",
    "    idd=0\n",
    "    \n",
    "    def show_id(s):\n",
    "        print('Id of student:', s.idd)\n",
    "        \n",
    "class student_name(student_id):\n",
    "    name=0\n",
    "    \n",
    "    def show_name(s):\n",
    "        print('Name of the student:', s.name)\n",
    "        \n",
    "\n",
    "class student_marks(student_name):\n",
    "    marks=0\n",
    "    \n",
    "    def __init__(s, i, n, m):\n",
    "        s.idd=i\n",
    "        s.name=n\n",
    "        s.marks=m\n",
    "        \n",
    "    def show_marks(s):\n",
    "        print('Student Marks:', s.marks)\n",
    "        \n",
    "sm1=student_marks(2002, 'Ravi', 85)\n",
    "sm1.show_id()\n",
    "sm1.show_name()\n",
    "sm1.show_marks()"
   ]
  },
  {
   "cell_type": "code",
   "execution_count": 3,
   "metadata": {},
   "outputs": [
    {
     "name": "stdout",
     "output_type": "stream",
     "text": [
      "Welcome: Sanjay\n",
      "Welcome: Guest\n"
     ]
    }
   ],
   "source": [
    "#Method overloading\n",
    "#Means two or more methods having same name but different parameters\n",
    "#Python doesn't support Method overloading \n",
    "#But, we may implement it with using default argument\n",
    "\n",
    "class over:\n",
    "    def hello(s, name=None):\n",
    "        if name is not None:\n",
    "            print('Welcome:', name)\n",
    "        else:\n",
    "            print('Welcome: Guest')\n",
    "            \n",
    "o1=over()\n",
    "#calling hello() with name=\"Sanjay\"\n",
    "o1.hello('Sanjay')\n",
    "\n",
    "#calling hello() without any parameter\n",
    "o1.hello()"
   ]
  },
  {
   "cell_type": "code",
   "execution_count": 5,
   "metadata": {},
   "outputs": [
    {
     "name": "stdout",
     "output_type": "stream",
     "text": [
      "Value of J: 20\n",
      "Value of K: 30\n"
     ]
    }
   ],
   "source": [
    "#method overloading\n",
    "\n",
    "class overnew:\n",
    "    \n",
    "    i=0\n",
    "    j=0\n",
    "    k=0\n",
    "    \n",
    "    def show(s,a):\n",
    "        s.i=a\n",
    "        print('Value of I:', s.i)\n",
    "        \n",
    "    def show(s, x, y):\n",
    "        s.j=x\n",
    "        s.k=y\n",
    "        \n",
    "        print('Value of J:', s.j)\n",
    "        print('Value of K:', s.k)\n",
    "        \n",
    "n1=overnew()\n",
    "#n1.show(10)\n",
    "n1.show(20,30)\n",
    "        "
   ]
  },
  {
   "cell_type": "code",
   "execution_count": 7,
   "metadata": {},
   "outputs": [
    {
     "name": "stdout",
     "output_type": "stream",
     "text": [
      "Value of X after modification: 110\n",
      "Value of x: 110\n",
      "Value of y: 20\n"
     ]
    }
   ],
   "source": [
    "#method overriding\n",
    "#In inheritance, if two classes have two or more methods with same name and same parameters, it\n",
    "#is known as overriding\n",
    "\n",
    "class A:\n",
    "    x=10\n",
    "    \n",
    "    def inc(s):\n",
    "        s.x=s.x+100\n",
    "        \n",
    "        \n",
    "    def show(s):\n",
    "        print('X:',s.x)\n",
    "        \n",
    "\n",
    "class B(A):\n",
    "    y=20\n",
    "    \n",
    "    def show(s):\n",
    "        print('Value of x:', s.x)\n",
    "        print('Value of y:', s.y)\n",
    "        \n",
    "        \n",
    "b1=B()\n",
    "\n",
    "b1.inc()\n",
    "\n",
    "b1.show()\n"
   ]
  },
  {
   "cell_type": "code",
   "execution_count": null,
   "metadata": {},
   "outputs": [],
   "source": []
  }
 ],
 "metadata": {
  "kernelspec": {
   "display_name": "Python 3",
   "language": "python",
   "name": "python3"
  },
  "language_info": {
   "codemirror_mode": {
    "name": "ipython",
    "version": 3
   },
   "file_extension": ".py",
   "mimetype": "text/x-python",
   "name": "python",
   "nbconvert_exporter": "python",
   "pygments_lexer": "ipython3",
   "version": "3.7.3"
  }
 },
 "nbformat": 4,
 "nbformat_minor": 2
}
