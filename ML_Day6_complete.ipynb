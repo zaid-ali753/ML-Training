{
 "cells": [
  {
   "cell_type": "code",
   "execution_count": 2,
   "metadata": {},
   "outputs": [
    {
     "name": "stdout",
     "output_type": "stream",
     "text": [
      "{34, 12, 45.67, 56, 'NIELIT'}\n",
      "<class 'set'>\n"
     ]
    }
   ],
   "source": [
    "#set\n",
    "#set can be declared using set() or {}\n",
    "\n",
    "#Declaring a set using set()\n",
    "\n",
    "s1=set([12, 34, 56, 'NIELIT', 45.67])\n",
    "print(s1)\n",
    "print(type(s1))"
   ]
  },
  {
   "cell_type": "code",
   "execution_count": 4,
   "metadata": {},
   "outputs": [
    {
     "name": "stdout",
     "output_type": "stream",
     "text": [
      "{35, 10, 76.98, 45.67, 'Lucknow', 25}\n",
      "<class 'set'>\n"
     ]
    }
   ],
   "source": [
    "#Declaring a set using {}\n",
    "s2={10, 25, 35, 'Lucknow', 45.67, 76.98}\n",
    "print(s2)\n",
    "print(type(s2))"
   ]
  },
  {
   "cell_type": "code",
   "execution_count": 5,
   "metadata": {},
   "outputs": [
    {
     "ename": "TypeError",
     "evalue": "'set' object is not subscriptable",
     "output_type": "error",
     "traceback": [
      "\u001b[1;31m---------------------------------------------------------------------------\u001b[0m",
      "\u001b[1;31mTypeError\u001b[0m                                 Traceback (most recent call last)",
      "\u001b[1;32m<ipython-input-5-ab7c8e26b0d3>\u001b[0m in \u001b[0;36m<module>\u001b[1;34m\u001b[0m\n\u001b[1;32m----> 1\u001b[1;33m \u001b[0ms2\u001b[0m\u001b[1;33m[\u001b[0m\u001b[1;36m0\u001b[0m\u001b[1;33m]\u001b[0m\u001b[1;33m\u001b[0m\u001b[1;33m\u001b[0m\u001b[0m\n\u001b[0m",
      "\u001b[1;31mTypeError\u001b[0m: 'set' object is not subscriptable"
     ]
    }
   ],
   "source": [
    "#We can access the individual elements from the set as it does not supports \n",
    "#indexing\n",
    "s2[0]"
   ]
  },
  {
   "cell_type": "code",
   "execution_count": 6,
   "metadata": {},
   "outputs": [
    {
     "name": "stdout",
     "output_type": "stream",
     "text": [
      "Element of s2: 35\n",
      "Element of s2: 10\n",
      "Element of s2: 76.98\n",
      "Element of s2: 45.67\n",
      "Element of s2: Lucknow\n",
      "Element of s2: 25\n"
     ]
    }
   ],
   "source": [
    "#We can access the individual element using for loop one by one\n",
    "for j in s2:\n",
    "    print(\"Element of s2:\", j)"
   ]
  },
  {
   "cell_type": "code",
   "execution_count": 7,
   "metadata": {},
   "outputs": [
    {
     "name": "stdout",
     "output_type": "stream",
     "text": [
      "{35, 10, 76.98, 45.67, 'Lucknow', 25}\n",
      "{35, 1000, 10, 76.98, 45.67, 'Lucknow', 25}\n"
     ]
    }
   ],
   "source": [
    "#You can not change the existing data of a set\n",
    "#But, you can add new data in a set\n",
    "print(s2)\n",
    "#add(): used to add a new data in a set\n",
    "\n",
    "#Adding a new data\n",
    "\n",
    "s2.add(1000)\n",
    "print(s2)"
   ]
  },
  {
   "cell_type": "code",
   "execution_count": 8,
   "metadata": {},
   "outputs": [
    {
     "name": "stdout",
     "output_type": "stream",
     "text": [
      "{35, 1000, 10, 76.98, 45.67, 'Lucknow', 'Machine Learning', 25, 'Python'}\n"
     ]
    }
   ],
   "source": [
    "#update(): you can also a new data using update\n",
    "\n",
    "s2.update(['Machine Learning', 'Python'])\n",
    "print(s2)"
   ]
  },
  {
   "cell_type": "code",
   "execution_count": 9,
   "metadata": {},
   "outputs": [
    {
     "data": {
      "text/plain": [
       "{10, 1000, 25, 35, 45.67, 76.98, 'Machine Learning', 'Python'}"
      ]
     },
     "execution_count": 9,
     "metadata": {},
     "output_type": "execute_result"
    }
   ],
   "source": [
    "#removing the data from a set \n",
    "#remove(): used to remove the data from a set\n",
    "\n",
    "#To remove 'Lucknow' from set s2\n",
    "\n",
    "s2.remove('Lucknow')\n",
    "s2"
   ]
  },
  {
   "cell_type": "code",
   "execution_count": 11,
   "metadata": {},
   "outputs": [
    {
     "ename": "TypeError",
     "evalue": "remove() takes exactly one argument (2 given)",
     "output_type": "error",
     "traceback": [
      "\u001b[1;31m---------------------------------------------------------------------------\u001b[0m",
      "\u001b[1;31mTypeError\u001b[0m                                 Traceback (most recent call last)",
      "\u001b[1;32m<ipython-input-11-0d21a18d5895>\u001b[0m in \u001b[0;36m<module>\u001b[1;34m\u001b[0m\n\u001b[1;32m----> 1\u001b[1;33m \u001b[0ms2\u001b[0m\u001b[1;33m.\u001b[0m\u001b[0mremove\u001b[0m\u001b[1;33m(\u001b[0m\u001b[1;36m10\u001b[0m\u001b[1;33m,\u001b[0m \u001b[1;36m25\u001b[0m\u001b[1;33m)\u001b[0m\u001b[1;33m\u001b[0m\u001b[1;33m\u001b[0m\u001b[0m\n\u001b[0m\u001b[0;32m      2\u001b[0m \u001b[0ms2\u001b[0m\u001b[1;33m\u001b[0m\u001b[1;33m\u001b[0m\u001b[0m\n",
      "\u001b[1;31mTypeError\u001b[0m: remove() takes exactly one argument (2 given)"
     ]
    }
   ],
   "source": [
    "#We can not remove more than one item using remove()\n",
    "s2.remove(10, 25)\n",
    "s2"
   ]
  },
  {
   "cell_type": "code",
   "execution_count": 12,
   "metadata": {},
   "outputs": [
    {
     "ename": "KeyError",
     "evalue": "'NIELIT'",
     "output_type": "error",
     "traceback": [
      "\u001b[1;31m---------------------------------------------------------------------------\u001b[0m",
      "\u001b[1;31mKeyError\u001b[0m                                  Traceback (most recent call last)",
      "\u001b[1;32m<ipython-input-12-d548828eac19>\u001b[0m in \u001b[0;36m<module>\u001b[1;34m\u001b[0m\n\u001b[1;32m----> 1\u001b[1;33m \u001b[0ms2\u001b[0m\u001b[1;33m.\u001b[0m\u001b[0mremove\u001b[0m\u001b[1;33m(\u001b[0m\u001b[1;34m'NIELIT'\u001b[0m\u001b[1;33m)\u001b[0m\u001b[1;33m\u001b[0m\u001b[1;33m\u001b[0m\u001b[0m\n\u001b[0m\u001b[0;32m      2\u001b[0m \u001b[0ms2\u001b[0m\u001b[1;33m\u001b[0m\u001b[1;33m\u001b[0m\u001b[0m\n",
      "\u001b[1;31mKeyError\u001b[0m: 'NIELIT'"
     ]
    }
   ],
   "source": [
    "#If the item to remove does not exist, remove() will raise an error\n",
    "s2.remove('NIELIT')\n",
    "s2"
   ]
  },
  {
   "cell_type": "code",
   "execution_count": 13,
   "metadata": {},
   "outputs": [
    {
     "name": "stdout",
     "output_type": "stream",
     "text": [
      "{35, 1000, 10, 76.98, 45.67, 'Machine Learning', 25, 'Python'}\n",
      "{35, 1000, 10, 76.98, 45.67, 'Machine Learning', 'Python'}\n"
     ]
    }
   ],
   "source": [
    "#discard(): used to remove a data from a set\n",
    "print(s2)\n",
    "s2.discard(25)\n",
    "print(s2)"
   ]
  },
  {
   "cell_type": "code",
   "execution_count": 14,
   "metadata": {},
   "outputs": [
    {
     "data": {
      "text/plain": [
       "{10, 1000, 35, 45.67, 76.98, 'Machine Learning', 'Python'}"
      ]
     },
     "execution_count": 14,
     "metadata": {},
     "output_type": "execute_result"
    }
   ],
   "source": [
    "#If the item to remove is not available, discard() will NOT raise an error\n",
    "s2.discard('NIELIT')\n",
    "s2"
   ]
  },
  {
   "cell_type": "code",
   "execution_count": 15,
   "metadata": {},
   "outputs": [
    {
     "ename": "TypeError",
     "evalue": "discard() takes exactly one argument (2 given)",
     "output_type": "error",
     "traceback": [
      "\u001b[1;31m---------------------------------------------------------------------------\u001b[0m",
      "\u001b[1;31mTypeError\u001b[0m                                 Traceback (most recent call last)",
      "\u001b[1;32m<ipython-input-15-c07783fba76a>\u001b[0m in \u001b[0;36m<module>\u001b[1;34m\u001b[0m\n\u001b[1;32m----> 1\u001b[1;33m \u001b[0ms2\u001b[0m\u001b[1;33m.\u001b[0m\u001b[0mdiscard\u001b[0m\u001b[1;33m(\u001b[0m\u001b[1;36m10\u001b[0m\u001b[1;33m,\u001b[0m\u001b[1;36m35\u001b[0m\u001b[1;33m)\u001b[0m\u001b[1;33m\u001b[0m\u001b[1;33m\u001b[0m\u001b[0m\n\u001b[0m",
      "\u001b[1;31mTypeError\u001b[0m: discard() takes exactly one argument (2 given)"
     ]
    }
   ],
   "source": [
    "#we can not remove more than one item using discard()\n",
    "s2.discard(10,35)"
   ]
  },
  {
   "cell_type": "code",
   "execution_count": 16,
   "metadata": {},
   "outputs": [
    {
     "name": "stdout",
     "output_type": "stream",
     "text": [
      "{'Tue', 'Wed', 'Fri', 'Thu', 'Mon', 'Sat'}\n"
     ]
    }
   ],
   "source": [
    "#union of two sets\n",
    "#the union operation of two sets produces a new set containing all the unique\n",
    "#elements from both the sets\n",
    "\n",
    "A={'Mon', 'Tue', 'Wed'}\n",
    "B={'Wed', 'Thu', 'Fri', 'Sat'}\n",
    "\n",
    "union=A|B\n",
    "print(union)"
   ]
  },
  {
   "cell_type": "code",
   "execution_count": 17,
   "metadata": {},
   "outputs": [
    {
     "data": {
      "text/plain": [
       "{'Wed'}"
      ]
     },
     "execution_count": 17,
     "metadata": {},
     "output_type": "execute_result"
    }
   ],
   "source": [
    "#Intersection of two sets\n",
    "#It produces a new set containing only the common elements from both the sets\n",
    "\n",
    "inter=A&B\n",
    "inter\n"
   ]
  },
  {
   "cell_type": "code",
   "execution_count": 18,
   "metadata": {},
   "outputs": [
    {
     "data": {
      "text/plain": [
       "{'Mon', 'Tue'}"
      ]
     },
     "execution_count": 18,
     "metadata": {},
     "output_type": "execute_result"
    }
   ],
   "source": [
    "#differences of two sets\n",
    "#it produces a new set containing only the elements from the first set and none\n",
    "#from the second set\n",
    "\n",
    "diff=A-B\n",
    "diff"
   ]
  },
  {
   "cell_type": "code",
   "execution_count": 20,
   "metadata": {},
   "outputs": [
    {
     "name": "stdout",
     "output_type": "stream",
     "text": [
      "First function in python\n",
      "This is function definition\n"
     ]
    }
   ],
   "source": [
    "#Functions in Python\n",
    "#A function can be declared using def keyword\n",
    "\n",
    "#Function declaration\n",
    "#Syntax: def function_name(parameters):\n",
    "                    #definition\n",
    "                    #definition\n",
    "        \n",
    "\n",
    "#Non-parameterized function\n",
    "\n",
    "def hello():\n",
    "    print('First function in python')\n",
    "    print('This is function definition')\n",
    "\n",
    "#calling hello()\n",
    "hello()"
   ]
  },
  {
   "cell_type": "code",
   "execution_count": 21,
   "metadata": {},
   "outputs": [
    {
     "name": "stdout",
     "output_type": "stream",
     "text": [
      "First function in python\n",
      "This is function definition\n"
     ]
    }
   ],
   "source": [
    "hello()"
   ]
  },
  {
   "cell_type": "code",
   "execution_count": 22,
   "metadata": {},
   "outputs": [
    {
     "name": "stdout",
     "output_type": "stream",
     "text": [
      "Area of circle: 78.5\n"
     ]
    }
   ],
   "source": [
    "#Define a function to calculate area of circle\n",
    "#Parameterized function without return statement\n",
    "#r is formal parameter\n",
    "#5 is actual parameter\n",
    "\n",
    "def area_circle(r):\n",
    "    a=3.14*r*r\n",
    "    print('Area of circle:', a)\n",
    "    \n",
    "area_circle(5)"
   ]
  },
  {
   "cell_type": "code",
   "execution_count": 23,
   "metadata": {},
   "outputs": [
    {
     "name": "stdout",
     "output_type": "stream",
     "text": [
      "Area of circle: 153.86\n"
     ]
    }
   ],
   "source": [
    "#calling area_circle()\n",
    "radius=7\n",
    "area_circle(radius)"
   ]
  },
  {
   "cell_type": "code",
   "execution_count": 26,
   "metadata": {},
   "outputs": [
    {
     "name": "stdout",
     "output_type": "stream",
     "text": [
      "Enter radius:9\n",
      "Area of circle: 254.34\n"
     ]
    }
   ],
   "source": [
    "t=int(input('Enter radius:'))\n",
    "area_circle(t)"
   ]
  },
  {
   "cell_type": "code",
   "execution_count": 27,
   "metadata": {},
   "outputs": [],
   "source": [
    "#Function declaration using return statement\n",
    "\n",
    "def area_circle(r):\n",
    "    a=3.14*r*r\n",
    "    return a"
   ]
  },
  {
   "cell_type": "code",
   "execution_count": 29,
   "metadata": {},
   "outputs": [
    {
     "name": "stdout",
     "output_type": "stream",
     "text": [
      "Area of circle: 78.5\n",
      "square of Area of circle: 6162.25\n"
     ]
    }
   ],
   "source": [
    "#calling a function with return statement\n",
    "area=area_circle(5)\n",
    "print('Area of circle:', area)\n",
    "print('square of Area of circle:', area*area)"
   ]
  },
  {
   "cell_type": "code",
   "execution_count": 30,
   "metadata": {},
   "outputs": [
    {
     "name": "stdout",
     "output_type": "stream",
     "text": [
      "Enter radius:7\n",
      "Area: 153.86\n"
     ]
    }
   ],
   "source": [
    "n=int(input('Enter radius:'))\n",
    "a1=area_circle(n)\n",
    "print('Area:', a1)"
   ]
  },
  {
   "cell_type": "code",
   "execution_count": 31,
   "metadata": {},
   "outputs": [
    {
     "ename": "TypeError",
     "evalue": "area_circle() missing 1 required positional argument: 'r'",
     "output_type": "error",
     "traceback": [
      "\u001b[1;31m---------------------------------------------------------------------------\u001b[0m",
      "\u001b[1;31mTypeError\u001b[0m                                 Traceback (most recent call last)",
      "\u001b[1;32m<ipython-input-31-6822bdf5ae9f>\u001b[0m in \u001b[0;36m<module>\u001b[1;34m\u001b[0m\n\u001b[1;32m----> 1\u001b[1;33m \u001b[0mr1\u001b[0m\u001b[1;33m=\u001b[0m\u001b[0marea_circle\u001b[0m\u001b[1;33m(\u001b[0m\u001b[1;33m)\u001b[0m\u001b[1;33m\u001b[0m\u001b[1;33m\u001b[0m\u001b[0m\n\u001b[0m",
      "\u001b[1;31mTypeError\u001b[0m: area_circle() missing 1 required positional argument: 'r'"
     ]
    }
   ],
   "source": [
    "r1=area_circle()"
   ]
  },
  {
   "cell_type": "code",
   "execution_count": 32,
   "metadata": {},
   "outputs": [
    {
     "ename": "TypeError",
     "evalue": "area_circle() takes 1 positional argument but 2 were given",
     "output_type": "error",
     "traceback": [
      "\u001b[1;31m---------------------------------------------------------------------------\u001b[0m",
      "\u001b[1;31mTypeError\u001b[0m                                 Traceback (most recent call last)",
      "\u001b[1;32m<ipython-input-32-6a3b9bc5dc4b>\u001b[0m in \u001b[0;36m<module>\u001b[1;34m\u001b[0m\n\u001b[1;32m----> 1\u001b[1;33m \u001b[0mr1\u001b[0m\u001b[1;33m=\u001b[0m\u001b[0marea_circle\u001b[0m\u001b[1;33m(\u001b[0m\u001b[1;36m12\u001b[0m\u001b[1;33m,\u001b[0m\u001b[1;36m34\u001b[0m\u001b[1;33m)\u001b[0m\u001b[1;33m\u001b[0m\u001b[1;33m\u001b[0m\u001b[0m\n\u001b[0m",
      "\u001b[1;31mTypeError\u001b[0m: area_circle() takes 1 positional argument but 2 were given"
     ]
    }
   ],
   "source": [
    "r1=area_circle(12,34)"
   ]
  },
  {
   "cell_type": "code",
   "execution_count": 38,
   "metadata": {},
   "outputs": [
    {
     "name": "stdout",
     "output_type": "stream",
     "text": [
      "P: 12000\n",
      "R: 8.5\n",
      "T: 24\n",
      "simple interest: 24480.0\n",
      "-------------------------------------------------\n",
      "P: 8.5\n",
      "R: 24\n",
      "T: 12000\n",
      "24480.0\n"
     ]
    }
   ],
   "source": [
    "#Required arguments/parameters\n",
    "\n",
    "def si(p, r, t):\n",
    "    print('P:',p)\n",
    "    print('R:',r)\n",
    "    print('T:',t)\n",
    "    simple=(p*r*t)/100\n",
    "    return simple\n",
    "\n",
    "inst=si(12000, 8.5, 24)\n",
    "#p=12000, r=8.5, t=24\n",
    "print('simple interest:', inst)\n",
    "\n",
    "print('-------------------------------------------------')\n",
    "\n",
    "inst=si(8.5, 24, 12000)\n",
    "print(inst)\n"
   ]
  },
  {
   "cell_type": "code",
   "execution_count": 39,
   "metadata": {},
   "outputs": [
    {
     "name": "stdout",
     "output_type": "stream",
     "text": [
      "P: 15000\n",
      "R: 7.5\n",
      "T: 2\n"
     ]
    },
    {
     "data": {
      "text/plain": [
       "2250.0"
      ]
     },
     "execution_count": 39,
     "metadata": {},
     "output_type": "execute_result"
    }
   ],
   "source": [
    "#Keyword Parameter\n",
    "i1=si(p=15000, r=7.5, t=2)\n",
    "i1"
   ]
  },
  {
   "cell_type": "code",
   "execution_count": 40,
   "metadata": {},
   "outputs": [
    {
     "name": "stdout",
     "output_type": "stream",
     "text": [
      "P: 15000\n",
      "R: 7.5\n",
      "T: 2\n"
     ]
    },
    {
     "data": {
      "text/plain": [
       "2250.0"
      ]
     },
     "execution_count": 40,
     "metadata": {},
     "output_type": "execute_result"
    }
   ],
   "source": [
    "#shufelling the location of arguments\n",
    "i1=si(r=7.5, t=2, p=15000)\n",
    "i1"
   ]
  },
  {
   "cell_type": "code",
   "execution_count": 44,
   "metadata": {},
   "outputs": [
    {
     "name": "stdout",
     "output_type": "stream",
     "text": [
      "P: 12000\n",
      "R: 8.1\n",
      "T: 3\n"
     ]
    },
    {
     "data": {
      "text/plain": [
       "2916.0"
      ]
     },
     "execution_count": 44,
     "metadata": {},
     "output_type": "execute_result"
    }
   ],
   "source": [
    "#You can mix the required and keyword argument in a function call\n",
    "\n",
    "i1=si(12000, t=3, r=8.1)  #valid\n",
    "i1\n",
    "\n",
    "\n"
   ]
  },
  {
   "cell_type": "code",
   "execution_count": 41,
   "metadata": {},
   "outputs": [
    {
     "ename": "SyntaxError",
     "evalue": "positional argument follows keyword argument (<ipython-input-41-b79b61acb6da>, line 1)",
     "output_type": "error",
     "traceback": [
      "\u001b[1;36m  File \u001b[1;32m\"<ipython-input-41-b79b61acb6da>\"\u001b[1;36m, line \u001b[1;32m1\u001b[0m\n\u001b[1;33m    i1=si(r=7.5, t=2, 15000)   #invalid\u001b[0m\n\u001b[1;37m                     ^\u001b[0m\n\u001b[1;31mSyntaxError\u001b[0m\u001b[1;31m:\u001b[0m positional argument follows keyword argument\n"
     ]
    }
   ],
   "source": [
    "#Required arguments must be given before keyword argument\n",
    "\n",
    "i1=si(r=7.5, t=2, 15000)   #invalid"
   ]
  },
  {
   "cell_type": "code",
   "execution_count": 47,
   "metadata": {},
   "outputs": [
    {
     "name": "stdout",
     "output_type": "stream",
     "text": [
      "P: 13000\n",
      "R: 7.5\n",
      "T: 5\n"
     ]
    },
    {
     "data": {
      "text/plain": [
       "4875.0"
      ]
     },
     "execution_count": 47,
     "metadata": {},
     "output_type": "execute_result"
    }
   ],
   "source": [
    "#Default argument\n",
    "\n",
    "def si(p, t, r=7.5):\n",
    "    print('P:',p)\n",
    "    print('R:',r)\n",
    "    print('T:',t)\n",
    "    simple=(p*r*t)/100\n",
    "    return simple\n",
    "\n",
    "i3=si(13000, 5)\n",
    "i3"
   ]
  },
  {
   "cell_type": "code",
   "execution_count": 48,
   "metadata": {},
   "outputs": [
    {
     "name": "stdout",
     "output_type": "stream",
     "text": [
      "P: 13000\n",
      "R: 9.8\n",
      "T: 5\n"
     ]
    },
    {
     "data": {
      "text/plain": [
       "6370.000000000001"
      ]
     },
     "execution_count": 48,
     "metadata": {},
     "output_type": "execute_result"
    }
   ],
   "source": [
    "i3=si(13000, 5, 9.8)\n",
    "i3"
   ]
  },
  {
   "cell_type": "code",
   "execution_count": 49,
   "metadata": {},
   "outputs": [
    {
     "name": "stdout",
     "output_type": "stream",
     "text": [
      "Name: Rajat\n",
      "Age: 18\n"
     ]
    }
   ],
   "source": [
    "#defalut argument/parameter\n",
    "def data(name, age=18):\n",
    "    print('Name:', name)\n",
    "    print('Age:', age)\n",
    "    \n",
    "data('Rajat')"
   ]
  },
  {
   "cell_type": "code",
   "execution_count": 50,
   "metadata": {},
   "outputs": [
    {
     "name": "stdout",
     "output_type": "stream",
     "text": [
      "Name: Sachin\n",
      "Age: 34\n"
     ]
    }
   ],
   "source": [
    "data('Sachin', 34)"
   ]
  },
  {
   "cell_type": "code",
   "execution_count": 7,
   "metadata": {},
   "outputs": [
    {
     "name": "stdout",
     "output_type": "stream",
     "text": [
      "('Amit',)\n",
      "Name: Amit\n",
      "First Argument: Amit\n"
     ]
    }
   ],
   "source": [
    "#variable-length argument\n",
    "\n",
    "def variable(*names):\n",
    "    #accessing the variable length argument\n",
    "    print(names)\n",
    "    for a in names:\n",
    "        print('Name:', a)\n",
    "    print('First Argument:', names[0])\n",
    "\n",
    "#calling variable function with one parameter\n",
    "variable('Amit') #names[0]='Amit'"
   ]
  },
  {
   "cell_type": "code",
   "execution_count": 8,
   "metadata": {},
   "outputs": [
    {
     "name": "stdout",
     "output_type": "stream",
     "text": [
      "('Jatin', 'Gaurav')\n",
      "Name: Jatin\n",
      "Name: Gaurav\n",
      "First Argument: Jatin\n"
     ]
    }
   ],
   "source": [
    "#calling variable() with two parameters\n",
    "variable('Jatin', 'Gaurav') #names[0]='Jatin', names[1]='Gaurav'"
   ]
  },
  {
   "cell_type": "code",
   "execution_count": 9,
   "metadata": {},
   "outputs": [
    {
     "name": "stdout",
     "output_type": "stream",
     "text": [
      "('Amit', 'Gaurav', 'Harsh')\n",
      "Name: Amit\n",
      "Name: Gaurav\n",
      "Name: Harsh\n",
      "First Argument: Amit\n"
     ]
    }
   ],
   "source": [
    "#calling variable() with three parameters\n",
    "variable('Amit', 'Gaurav', 'Harsh') #names[0]='Amit', names[1]='Gaurav', names[2]='Harsh'"
   ]
  },
  {
   "cell_type": "code",
   "execution_count": 10,
   "metadata": {},
   "outputs": [
    {
     "name": "stdout",
     "output_type": "stream",
     "text": [
      "('Amit', 100, 100.25, 5000)\n",
      "Name: Amit\n",
      "Name: 100\n",
      "Name: 100.25\n",
      "Name: 5000\n",
      "First Argument: Amit\n"
     ]
    }
   ],
   "source": [
    "variable('Amit', 100, 100.25, 5000)"
   ]
  },
  {
   "cell_type": "code",
   "execution_count": 12,
   "metadata": {},
   "outputs": [
    {
     "name": "stdout",
     "output_type": "stream",
     "text": [
      "Sum: 46\n"
     ]
    }
   ],
   "source": [
    "def total(x,y):\n",
    "    z=x+y\n",
    "    print('Sum:', z)\n",
    "\n",
    "total(12, 34)"
   ]
  },
  {
   "cell_type": "code",
   "execution_count": 13,
   "metadata": {},
   "outputs": [
    {
     "name": "stdout",
     "output_type": "stream",
     "text": [
      "Total is: 46\n"
     ]
    }
   ],
   "source": [
    "#Defining a function total() to add variable length argument\n",
    "def total(*add):\n",
    "    t=0\n",
    "    for i in add:\n",
    "        t=t+i\n",
    "    print('Total is:', t)\n",
    "\n",
    "total(12,34)"
   ]
  },
  {
   "cell_type": "code",
   "execution_count": 14,
   "metadata": {},
   "outputs": [
    {
     "name": "stdout",
     "output_type": "stream",
     "text": [
      "Total is: 135\n"
     ]
    }
   ],
   "source": [
    "total(23, 45, 67)"
   ]
  },
  {
   "cell_type": "code",
   "execution_count": 15,
   "metadata": {},
   "outputs": [
    {
     "name": "stdout",
     "output_type": "stream",
     "text": [
      "Total is: 132\n"
     ]
    }
   ],
   "source": [
    "total(12, 30, 40, 50)"
   ]
  },
  {
   "cell_type": "code",
   "execution_count": 17,
   "metadata": {},
   "outputs": [
    {
     "name": "stdout",
     "output_type": "stream",
     "text": [
      "result: 36\n"
     ]
    }
   ],
   "source": [
    "#Lambda function\n",
    "\n",
    "def total(x,y):\n",
    "    return x+y\n",
    "m=multi(12, 3)\n",
    "print('result:', m)"
   ]
  },
  {
   "cell_type": "code",
   "execution_count": 18,
   "metadata": {},
   "outputs": [
    {
     "name": "stdout",
     "output_type": "stream",
     "text": [
      "Result: 30\n"
     ]
    }
   ],
   "source": [
    "#syntax lambda_function_name=lambda arg1, arg2...argn:expression\n",
    "\n",
    "#Creating a lambda function to add two numbers\n",
    "\n",
    "add_lambda=lambda a,b:a+b\n",
    "\n",
    "\n",
    "#calling add_lambda\n",
    "\n",
    "a1=add_lambda(10,20)\n",
    "print('Result:', a1)"
   ]
  },
  {
   "cell_type": "code",
   "execution_count": 19,
   "metadata": {},
   "outputs": [
    {
     "name": "stdout",
     "output_type": "stream",
     "text": [
      "Result: 60\n"
     ]
    }
   ],
   "source": [
    "#calling add_lambda\n",
    "\n",
    "a1=add_lambda(25,35)\n",
    "print('Result:', a1)"
   ]
  },
  {
   "cell_type": "code",
   "execution_count": 21,
   "metadata": {},
   "outputs": [
    {
     "name": "stdout",
     "output_type": "stream",
     "text": [
      "Area of rectangle: 50\n"
     ]
    }
   ],
   "source": [
    "#area of rectangle using lambda\n",
    "area_rect=lambda l,b: l*b\n",
    "\n",
    "r1=area_rect(10,5)\n",
    "print('Area of rectangle:', r1)"
   ]
  },
  {
   "cell_type": "code",
   "execution_count": 22,
   "metadata": {},
   "outputs": [
    {
     "name": "stdout",
     "output_type": "stream",
     "text": [
      "Area of rectangle: 125\n"
     ]
    }
   ],
   "source": [
    "r1=area_rect(25,5)\n",
    "print('Area of rectangle:', r1)"
   ]
  },
  {
   "cell_type": "code",
   "execution_count": 23,
   "metadata": {},
   "outputs": [
    {
     "name": "stdout",
     "output_type": "stream",
     "text": [
      "Area of circle: 452.15999999999997\n"
     ]
    }
   ],
   "source": [
    "#area of circle using lambda\n",
    "area_circle=lambda r: 3.14*r*r\n",
    "\n",
    "c1=area_circle(12)\n",
    "print('Area of circle:', c1)"
   ]
  },
  {
   "cell_type": "code",
   "execution_count": 24,
   "metadata": {},
   "outputs": [
    {
     "name": "stdout",
     "output_type": "stream",
     "text": [
      "Area of circle: 78.5\n"
     ]
    }
   ],
   "source": [
    "c1=area_circle(5)\n",
    "print('Area of circle:', c1)"
   ]
  },
  {
   "cell_type": "code",
   "execution_count": null,
   "metadata": {},
   "outputs": [],
   "source": []
  },
  {
   "cell_type": "code",
   "execution_count": 27,
   "metadata": {},
   "outputs": [
    {
     "name": "stdout",
     "output_type": "stream",
     "text": [
      "Result: [20, 40, 60, 80, 100]\n",
      "Output of first data: 20\n",
      "Output of second data: 40\n"
     ]
    }
   ],
   "source": [
    "#map function used to apply a function to all the elements of a list/tuple\n",
    "\n",
    "def multiply2(x):\n",
    "    return x*2\n",
    "\n",
    "list1=[10, 20, 30, 40, 50]\n",
    "\n",
    "#Syntax: [*map(function_name, list/var_name)]\n",
    "\n",
    "l2=[*map(multiply2, list1)]\n",
    "print('Result:', l2)\n",
    "print('Output of first data:', l2[0])\n",
    "print('Output of second data:', l2[1])"
   ]
  },
  {
   "cell_type": "code",
   "execution_count": 28,
   "metadata": {},
   "outputs": [
    {
     "name": "stdout",
     "output_type": "stream",
     "text": [
      "Result: [2, 6, 10, 14]\n",
      "Output of first data: 2\n",
      "Output of second data: 6\n"
     ]
    }
   ],
   "source": [
    "tuple1=(1, 3, 5, 7)\n",
    "\n",
    "#Syntax: [*map(function_name, list/var_name)]\n",
    "\n",
    "l2=[*map(multiply2, tuple1)]\n",
    "print('Result:', l2)\n",
    "print('Output of first data:', l2[0])\n",
    "print('Output of second data:', l2[1])"
   ]
  },
  {
   "cell_type": "code",
   "execution_count": 29,
   "metadata": {},
   "outputs": [
    {
     "name": "stdout",
     "output_type": "stream",
     "text": [
      "[1, 4, 9, 16, 25]\n"
     ]
    }
   ],
   "source": [
    "#lambda and map\n",
    "#used lambda and map to calculate square of each members of a list\n",
    "\n",
    "list2=[1,2,3,4,5]\n",
    "\n",
    "l3=[*map(lambda x: x*x, list2)]\n",
    "print(l3)"
   ]
  },
  {
   "cell_type": "code",
   "execution_count": 30,
   "metadata": {},
   "outputs": [
    {
     "name": "stdout",
     "output_type": "stream",
     "text": [
      "[1, 8, 27, 64, 125]\n"
     ]
    }
   ],
   "source": [
    "#used lambda and map to calculate cube of each members of a list\n",
    "\n",
    "l3=[*map(lambda x: x*x*x, list2)]\n",
    "print(l3)"
   ]
  },
  {
   "cell_type": "code",
   "execution_count": null,
   "metadata": {},
   "outputs": [],
   "source": []
  }
 ],
 "metadata": {
  "kernelspec": {
   "display_name": "Python 3",
   "language": "python",
   "name": "python3"
  },
  "language_info": {
   "codemirror_mode": {
    "name": "ipython",
    "version": 3
   },
   "file_extension": ".py",
   "mimetype": "text/x-python",
   "name": "python",
   "nbconvert_exporter": "python",
   "pygments_lexer": "ipython3",
   "version": "3.7.3"
  }
 },
 "nbformat": 4,
 "nbformat_minor": 2
}
