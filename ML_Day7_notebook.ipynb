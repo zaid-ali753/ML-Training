{
 "cells": [
  {
   "cell_type": "code",
   "execution_count": 2,
   "metadata": {},
   "outputs": [
    {
     "name": "stdout",
     "output_type": "stream",
     "text": [
      "Id: 101\n",
      "Name: Rajesh\n",
      "Course: ML\n",
      "Accessing Id using object: 101\n"
     ]
    }
   ],
   "source": [
    "#Defining class in python\n",
    "\n",
    "class student:\n",
    "    \n",
    "    #defining class variable\n",
    "    idd=101\n",
    "    name='Rajesh'\n",
    "    course='ML'\n",
    "    \n",
    "    def show_data(d):\n",
    "        #here 'd' is class reference variable\n",
    "        #each method in a class must include this parameter\n",
    "        #method may have different other parameter as per need\n",
    "        #This parameter is used to access the variable of the class\n",
    "        \n",
    "        print('Id:', d.idd)\n",
    "        print('Name:', d.name)\n",
    "        print('Course:', d.course)\n",
    "\n",
    "#Object of the class is used to access the members of the class\n",
    "\n",
    "#Syntax: object_name=class_name()\n",
    "s1=student()\n",
    "\n",
    "#calling show_data() of student class using its object s1\n",
    "s1.show_data()\n",
    "\n",
    "#Public variables of a class can be accessed through its object\n",
    "print('Accessing Id using object:', s1.idd)"
   ]
  },
  {
   "cell_type": "code",
   "execution_count": 5,
   "metadata": {},
   "outputs": [
    {
     "ename": "NameError",
     "evalue": "name 'name' is not defined",
     "output_type": "error",
     "traceback": [
      "\u001b[1;31m---------------------------------------------------------------------------\u001b[0m",
      "\u001b[1;31mNameError\u001b[0m                                 Traceback (most recent call last)",
      "\u001b[1;32m<ipython-input-5-72cef8ec4e47>\u001b[0m in \u001b[0;36m<module>\u001b[1;34m\u001b[0m\n\u001b[1;32m----> 1\u001b[1;33m \u001b[0mprint\u001b[0m\u001b[1;33m(\u001b[0m\u001b[1;34m'Accessing Name without using object:'\u001b[0m\u001b[1;33m,\u001b[0m \u001b[0mname\u001b[0m\u001b[1;33m)\u001b[0m\u001b[1;33m\u001b[0m\u001b[1;33m\u001b[0m\u001b[0m\n\u001b[0m",
      "\u001b[1;31mNameError\u001b[0m: name 'name' is not defined"
     ]
    }
   ],
   "source": [
    "print('Accessing Name without using object:', name)"
   ]
  },
  {
   "cell_type": "code",
   "execution_count": 6,
   "metadata": {},
   "outputs": [
    {
     "ename": "NameError",
     "evalue": "name 'show_data' is not defined",
     "output_type": "error",
     "traceback": [
      "\u001b[1;31m---------------------------------------------------------------------------\u001b[0m",
      "\u001b[1;31mNameError\u001b[0m                                 Traceback (most recent call last)",
      "\u001b[1;32m<ipython-input-6-8f1a0fbac68e>\u001b[0m in \u001b[0;36m<module>\u001b[1;34m\u001b[0m\n\u001b[1;32m----> 1\u001b[1;33m \u001b[0mshow_data\u001b[0m\u001b[1;33m(\u001b[0m\u001b[1;33m)\u001b[0m\u001b[1;33m\u001b[0m\u001b[1;33m\u001b[0m\u001b[0m\n\u001b[0m",
      "\u001b[1;31mNameError\u001b[0m: name 'show_data' is not defined"
     ]
    }
   ],
   "source": [
    "show_data()"
   ]
  },
  {
   "cell_type": "code",
   "execution_count": 7,
   "metadata": {},
   "outputs": [
    {
     "name": "stdout",
     "output_type": "stream",
     "text": [
      "Id: 1001\n",
      "Name: Rajat\n",
      "Course: ML\n"
     ]
    }
   ],
   "source": [
    "class new:\n",
    "    idd=1001  #Public variable\n",
    "    __name='Rajat' #Private variable\n",
    "    _course='ML' #protected variable\n",
    "    \n",
    "    def view(r):\n",
    "        #r=n\n",
    "        print('Id:', r.idd)\n",
    "        print('Name:', r.__name)\n",
    "        print('Course:', r._course)\n",
    "        \n",
    "n=new()\n",
    "\n",
    "#n.idd=1001\n",
    "#n.__name='Rajat'\n",
    "#n._course='ML'\n",
    "\n",
    "n.view()"
   ]
  },
  {
   "cell_type": "code",
   "execution_count": 11,
   "metadata": {},
   "outputs": [
    {
     "name": "stdout",
     "output_type": "stream",
     "text": [
      "Id: 1000\n",
      "Name: Rajat\n",
      "Course: ML\n"
     ]
    }
   ],
   "source": [
    "n.idd=1000\n",
    "n.show()"
   ]
  },
  {
   "cell_type": "code",
   "execution_count": 12,
   "metadata": {},
   "outputs": [
    {
     "name": "stdout",
     "output_type": "stream",
     "text": [
      "Id: 1000\n",
      "Name: Rajat\n",
      "Course: ML\n"
     ]
    }
   ],
   "source": [
    "n.__name='Sachin'\n",
    "n.show()"
   ]
  },
  {
   "cell_type": "code",
   "execution_count": 9,
   "metadata": {},
   "outputs": [
    {
     "name": "stdout",
     "output_type": "stream",
     "text": [
      "Access IDD using Object: 1001\n"
     ]
    },
    {
     "ename": "AttributeError",
     "evalue": "'new' object has no attribute '__name'",
     "output_type": "error",
     "traceback": [
      "\u001b[1;31m---------------------------------------------------------------------------\u001b[0m",
      "\u001b[1;31mAttributeError\u001b[0m                            Traceback (most recent call last)",
      "\u001b[1;32m<ipython-input-9-04ad068b96f9>\u001b[0m in \u001b[0;36m<module>\u001b[1;34m\u001b[0m\n\u001b[0;32m      1\u001b[0m \u001b[0mprint\u001b[0m\u001b[1;33m(\u001b[0m\u001b[1;34m'Access IDD using Object:'\u001b[0m\u001b[1;33m,\u001b[0m \u001b[0mn\u001b[0m\u001b[1;33m.\u001b[0m\u001b[0midd\u001b[0m\u001b[1;33m)\u001b[0m\u001b[1;33m\u001b[0m\u001b[1;33m\u001b[0m\u001b[0m\n\u001b[1;32m----> 2\u001b[1;33m \u001b[0mprint\u001b[0m\u001b[1;33m(\u001b[0m\u001b[1;34m'Access name using Object:'\u001b[0m\u001b[1;33m,\u001b[0m \u001b[0mn\u001b[0m\u001b[1;33m.\u001b[0m\u001b[0m__name\u001b[0m\u001b[1;33m)\u001b[0m\u001b[1;33m\u001b[0m\u001b[1;33m\u001b[0m\u001b[0m\n\u001b[0m",
      "\u001b[1;31mAttributeError\u001b[0m: 'new' object has no attribute '__name'"
     ]
    }
   ],
   "source": [
    "print('Access IDD using Object:', n.idd)\n",
    "print('Access name using Object:', n.__name)\n"
   ]
  },
  {
   "cell_type": "code",
   "execution_count": 10,
   "metadata": {},
   "outputs": [
    {
     "name": "stdout",
     "output_type": "stream",
     "text": [
      "Access Course using Object: ML\n"
     ]
    }
   ],
   "source": [
    "print('Access Course using Object:', n._course)\n"
   ]
  },
  {
   "cell_type": "code",
   "execution_count": null,
   "metadata": {},
   "outputs": [],
   "source": []
  }
 ],
 "metadata": {
  "kernelspec": {
   "display_name": "Python 3",
   "language": "python",
   "name": "python3"
  },
  "language_info": {
   "codemirror_mode": {
    "name": "ipython",
    "version": 3
   },
   "file_extension": ".py",
   "mimetype": "text/x-python",
   "name": "python",
   "nbconvert_exporter": "python",
   "pygments_lexer": "ipython3",
   "version": "3.7.3"
  }
 },
 "nbformat": 4,
 "nbformat_minor": 2
}
