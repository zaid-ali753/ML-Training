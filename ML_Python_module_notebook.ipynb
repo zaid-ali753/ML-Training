{
 "cells": [
  {
   "cell_type": "code",
   "execution_count": 1,
   "metadata": {},
   "outputs": [],
   "source": [
    "#Python Module\n",
    "\n",
    "#First create a python file with file_name.py and write your code in it\n",
    "#Here, i have created the python file: mymodule.py\n",
    "#I want access the code of mymodule.py here"
   ]
  },
  {
   "cell_type": "code",
   "execution_count": 2,
   "metadata": {},
   "outputs": [
    {
     "name": "stdout",
     "output_type": "stream",
     "text": [
      "Simple Interest: 10560.000000000002\n",
      "Principal Amount with interest: 22560.0\n"
     ]
    }
   ],
   "source": [
    "#You can import/access any python file\n",
    "\n",
    "#You can import a python file/module using 'import' statement\n",
    "#Syntax: import module_name/python_file_name\n",
    "\n",
    "#Example: to import mymodule.py\n",
    "\n",
    "import mymodule\n",
    "\n",
    "#calling the si() of mymodule\n",
    "\n",
    "mymodule.si(12000, 8.8, 10)"
   ]
  },
  {
   "cell_type": "code",
   "execution_count": 5,
   "metadata": {},
   "outputs": [
    {
     "name": "stdout",
     "output_type": "stream",
     "text": [
      "Area of circle: 78.5\n",
      "Area of rectangle: 200\n"
     ]
    }
   ],
   "source": [
    "#Example 2\n",
    "#In jupyter click on new and select text file\n",
    "#Rename the file with area_module and write your code\n",
    "#When importing a module, we can rename a long module using 'as'\n",
    "\n",
    "#Example importing module named area_module and renaming as am\n",
    "\n",
    "import area_module as am\n",
    "\n",
    "#calling the area_circle() of area_module\n",
    "\n",
    "ar=am.area_circle(5)\n",
    "print('Area of circle:',ar)\n",
    "\n",
    "#calling area_rect() of area_module\n",
    "\n",
    "re=am.area_rect(10,20)\n",
    "print('Area of rectangle:', re)"
   ]
  },
  {
   "cell_type": "code",
   "execution_count": 6,
   "metadata": {},
   "outputs": [
    {
     "name": "stdout",
     "output_type": "stream",
     "text": [
      "Area of rectangle: 240\n"
     ]
    }
   ],
   "source": [
    "#import statement will import all the functions/classes of the module\n",
    "#you can import any specific function/class from the module using 'from import' statement\n",
    "\n",
    "#Syntax: from module_name import member_name\n",
    "\n",
    "#To import only area_rect() from area_module\n",
    "\n",
    "from area_module import area_rect\n",
    "\n",
    "r1=area_rect(12,20)\n",
    "print('Area of rectangle:', r1)"
   ]
  },
  {
   "cell_type": "code",
   "execution_count": null,
   "metadata": {},
   "outputs": [],
   "source": []
  }
 ],
 "metadata": {
  "kernelspec": {
   "display_name": "Python 3",
   "language": "python",
   "name": "python3"
  },
  "language_info": {
   "codemirror_mode": {
    "name": "ipython",
    "version": 3
   },
   "file_extension": ".py",
   "mimetype": "text/x-python",
   "name": "python",
   "nbconvert_exporter": "python",
   "pygments_lexer": "ipython3",
   "version": "3.7.3"
  }
 },
 "nbformat": 4,
 "nbformat_minor": 2
}
