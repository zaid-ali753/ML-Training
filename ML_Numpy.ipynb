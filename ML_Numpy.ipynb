{
 "cells": [
  {
   "cell_type": "code",
   "execution_count": 1,
   "metadata": {},
   "outputs": [
    {
     "name": "stdout",
     "output_type": "stream",
     "text": [
      "[12 23 45 56 78]\n",
      "<class 'numpy.ndarray'>\n"
     ]
    }
   ],
   "source": [
    "#Numpy\n",
    "\n",
    "import numpy as np\n",
    "\n",
    "#Creating a 1-D Ndarray\n",
    "\n",
    "a=np.array([12, 23, 45, 56, 78])\n",
    "print(a)\n",
    "print(type(a))"
   ]
  },
  {
   "cell_type": "code",
   "execution_count": 2,
   "metadata": {},
   "outputs": [
    {
     "name": "stdout",
     "output_type": "stream",
     "text": [
      "[[10 12]\n",
      " [20 22]\n",
      " [30 32]]\n",
      "<class 'numpy.ndarray'>\n"
     ]
    }
   ],
   "source": [
    "#Creating a 2-d Ndarray of size row=3, col=2\n",
    "\n",
    "a1=np.array([[10, 12], [20, 22], [30, 32]])\n",
    "print(a1)\n",
    "print(type(a1))"
   ]
  },
  {
   "cell_type": "code",
   "execution_count": 3,
   "metadata": {},
   "outputs": [
    {
     "name": "stdout",
     "output_type": "stream",
     "text": [
      "Shape of Ndarray a1: (3, 2)\n",
      "Number of Rows in a1: 3\n",
      "Number of Cols in a1: 2\n"
     ]
    }
   ],
   "source": [
    "#To view  the shape of the ndarray\n",
    "print('Shape of Ndarray a1:', a1.shape)\n",
    "\n",
    "print('Number of Rows in a1:', a1.shape[0])\n",
    "print('Number of Cols in a1:', a1.shape[1])"
   ]
  },
  {
   "cell_type": "code",
   "execution_count": 4,
   "metadata": {},
   "outputs": [
    {
     "name": "stdout",
     "output_type": "stream",
     "text": [
      "Size of the Ndarray a1: 6\n"
     ]
    }
   ],
   "source": [
    "#To know the size of the array\n",
    "print('Size of the Ndarray a1:', a1.size)"
   ]
  },
  {
   "cell_type": "code",
   "execution_count": 5,
   "metadata": {},
   "outputs": [
    {
     "name": "stdout",
     "output_type": "stream",
     "text": [
      "Data type of each element of Ndarray a1: int32\n"
     ]
    }
   ],
   "source": [
    "#to view the datatype of Ndarray element\n",
    "print('Data type of each element of Ndarray a1:', a1.dtype)"
   ]
  },
  {
   "cell_type": "code",
   "execution_count": 6,
   "metadata": {},
   "outputs": [
    {
     "name": "stdout",
     "output_type": "stream",
     "text": [
      "Size of each element of Ndarray a1: 4 Bytes\n"
     ]
    }
   ],
   "source": [
    "#To view the size of each element of Ndarray\n",
    "print('Size of each element of Ndarray a1:', a1.itemsize, 'Bytes')"
   ]
  },
  {
   "cell_type": "code",
   "execution_count": 7,
   "metadata": {},
   "outputs": [
    {
     "name": "stdout",
     "output_type": "stream",
     "text": [
      "Original Array:\n",
      " [[10 12]\n",
      " [20 22]\n",
      " [30 32]]\n",
      "\n",
      "Array after reshaping:\n",
      " [[10 12 20]\n",
      " [22 30 32]]\n"
     ]
    }
   ],
   "source": [
    "#reshaping a Ndarray\n",
    "\n",
    "#reshape(row, col)\n",
    "print('Original Array:\\n', a1)\n",
    "\n",
    "#reshaping a1 to (2, 3)\n",
    "a1=a1.reshape(2,3)\n",
    "print('')\n",
    "print('Array after reshaping:\\n', a1)"
   ]
  },
  {
   "cell_type": "code",
   "execution_count": 9,
   "metadata": {},
   "outputs": [
    {
     "data": {
      "text/plain": [
       "array([ 1,  2,  3,  4,  5,  6,  7,  8,  9, 10])"
      ]
     },
     "execution_count": 9,
     "metadata": {},
     "output_type": "execute_result"
    }
   ],
   "source": [
    "a2=np.array([1, 2, 3, 4, 5, 6, 7, 8,9,10])\n",
    "a2"
   ]
  },
  {
   "cell_type": "code",
   "execution_count": 14,
   "metadata": {},
   "outputs": [
    {
     "name": "stdout",
     "output_type": "stream",
     "text": [
      "Elements from index=2 to index=6: [3 4 5 6 7]\n",
      "Elements from index=3 to index=8: [4 5 6 7 8 9]\n",
      "Elements from index=6 to index=end: [ 7  8  9 10]\n",
      "Elements from index=0 to index=7: [1 2 3 4 5 6 7 8]\n"
     ]
    }
   ],
   "source": [
    "#Array slicing \n",
    "print('Elements from index=2 to index=6:', a2[2:7])\n",
    "print('Elements from index=3 to index=8:', a2[3:9])\n"
   ]
  },
  {
   "cell_type": "code",
   "execution_count": 24,
   "metadata": {},
   "outputs": [
    {
     "name": "stdout",
     "output_type": "stream",
     "text": [
      "Elements from index=6 to index=end: [ 7  8  9 10]\n",
      "Elements from index=6 to index=end: [7 8 9]\n",
      "Last element: 10\n"
     ]
    }
   ],
   "source": [
    "print('Elements from index=6 to index=end:', a2[6:])\n",
    "print('Elements from index=6 to index=end:', a2[6:-1])\n",
    "print('Last element:', a2[-1])"
   ]
  },
  {
   "cell_type": "code",
   "execution_count": 16,
   "metadata": {},
   "outputs": [
    {
     "name": "stdout",
     "output_type": "stream",
     "text": [
      "Elements from index=0 to index=7: [1 2 3 4 5 6 7 8]\n",
      "Elements from index=0 to index=7: [1 2 3 4 5 6 7 8]\n"
     ]
    }
   ],
   "source": [
    "print('Elements from index=0 to index=7:', a2[:8])\n",
    "print('Elements from index=0 to index=7:', a2[0:8])\n"
   ]
  },
  {
   "cell_type": "code",
   "execution_count": 2,
   "metadata": {},
   "outputs": [
    {
     "name": "stdout",
     "output_type": "stream",
     "text": [
      "array:\n",
      " [10 12 14 16 18 20]\n"
     ]
    }
   ],
   "source": [
    "#numpy functions\n",
    "\n",
    "a1=np.array([10,12, 14, 16, 18, 20])\n",
    "print('array:\\n', a1)"
   ]
  },
  {
   "cell_type": "code",
   "execution_count": 3,
   "metadata": {},
   "outputs": [
    {
     "name": "stdout",
     "output_type": "stream",
     "text": [
      "Minimum element of the array: 10\n"
     ]
    }
   ],
   "source": [
    "#min():\n",
    "\n",
    "print('Minimum element of the array:', a1.min())"
   ]
  },
  {
   "cell_type": "code",
   "execution_count": 4,
   "metadata": {},
   "outputs": [
    {
     "name": "stdout",
     "output_type": "stream",
     "text": [
      "Maximum element in array a1: 20\n"
     ]
    }
   ],
   "source": [
    "#max():\n",
    "print('Maximum element in array a1:', a1.max())"
   ]
  },
  {
   "cell_type": "code",
   "execution_count": 5,
   "metadata": {},
   "outputs": [
    {
     "name": "stdout",
     "output_type": "stream",
     "text": [
      "Sum of element of array a1: 90\n"
     ]
    }
   ],
   "source": [
    "#sum():\n",
    "    print('Sum of element of array a1:', a1.sum())"
   ]
  },
  {
   "cell_type": "code",
   "execution_count": 6,
   "metadata": {},
   "outputs": [
    {
     "data": {
      "text/plain": [
       "array([[12,  4, 10],\n",
       "       [14,  8, 20],\n",
       "       [10,  5, 16]])"
      ]
     },
     "execution_count": 6,
     "metadata": {},
     "output_type": "execute_result"
    }
   ],
   "source": [
    "#2D Array\n",
    "\n",
    "a2=np.array([[12, 4, 10], [14, 8, 20], [10, 5, 16]])\n",
    "a2"
   ]
  },
  {
   "cell_type": "code",
   "execution_count": 7,
   "metadata": {},
   "outputs": [
    {
     "name": "stdout",
     "output_type": "stream",
     "text": [
      "Maximum element in each column: [14  8 20]\n"
     ]
    }
   ],
   "source": [
    "#To obtain maximum element column wise\n",
    "print('Maximum element in each column:', a2.max(axis=0))"
   ]
  },
  {
   "cell_type": "code",
   "execution_count": 10,
   "metadata": {},
   "outputs": [
    {
     "name": "stdout",
     "output_type": "stream",
     "text": [
      "Maximum element in each column: [14  8 20]\n",
      "Maximum element in first column: 14\n",
      "Maximum element in second column: 8\n"
     ]
    }
   ],
   "source": [
    "#To obtain maximum element column wise\n",
    "max_col=a2.max(axis=0)\n",
    "print('Maximum element in each column:',max_col)\n",
    "print('Maximum element in first column:', max_col[0])\n",
    "print('Maximum element in second column:', max_col[1])"
   ]
  },
  {
   "cell_type": "code",
   "execution_count": 12,
   "metadata": {},
   "outputs": [
    {
     "name": "stdout",
     "output_type": "stream",
     "text": [
      "Maximum element in each row: [12 20 16]\n"
     ]
    }
   ],
   "source": [
    "#To obtain maximum element row wise\n",
    "print('Maximum element in each row:', a2.max(axis=1))"
   ]
  },
  {
   "cell_type": "code",
   "execution_count": 14,
   "metadata": {},
   "outputs": [
    {
     "name": "stdout",
     "output_type": "stream",
     "text": [
      "Minimum element in each column: [10  4 10]\n"
     ]
    }
   ],
   "source": [
    "#To obtain minimum element column wise\n",
    "print('Minimum element in each column:', a2.min(axis=0))"
   ]
  },
  {
   "cell_type": "code",
   "execution_count": 15,
   "metadata": {},
   "outputs": [
    {
     "name": "stdout",
     "output_type": "stream",
     "text": [
      "Minimum element in each row: [4 8 5]\n"
     ]
    }
   ],
   "source": [
    "#To obtain minimum element row wise\n",
    "print('Minimum element in each row:', a2.min(axis=1))"
   ]
  },
  {
   "cell_type": "code",
   "execution_count": 16,
   "metadata": {},
   "outputs": [
    {
     "name": "stdout",
     "output_type": "stream",
     "text": [
      "sum of each column: [36 17 46]\n"
     ]
    }
   ],
   "source": [
    "#To obtain sum column wise\n",
    "print('sum of each column:', a2.sum(axis=0))"
   ]
  },
  {
   "cell_type": "code",
   "execution_count": 17,
   "metadata": {},
   "outputs": [
    {
     "name": "stdout",
     "output_type": "stream",
     "text": [
      "sum of each row: [26 42 31]\n"
     ]
    }
   ],
   "source": [
    "#To obtain sum row wise\n",
    "print('sum of each row:', a2.sum(axis=1))"
   ]
  },
  {
   "cell_type": "code",
   "execution_count": 18,
   "metadata": {},
   "outputs": [
    {
     "name": "stdout",
     "output_type": "stream",
     "text": [
      "Array a1: [10 12 14 16 18 20]\n"
     ]
    }
   ],
   "source": [
    "print('Array a1:', a1)"
   ]
  },
  {
   "cell_type": "code",
   "execution_count": 19,
   "metadata": {},
   "outputs": [
    {
     "name": "stdout",
     "output_type": "stream",
     "text": [
      "Square root of array a1:\n",
      " [3.16227766 3.46410162 3.74165739 4.         4.24264069 4.47213595]\n"
     ]
    }
   ],
   "source": [
    "#sqrt(): used to obtain the square root of each element of numpy ndarray\n",
    "\n",
    "print('Square root of array a1:\\n', np.sqrt(a1))"
   ]
  },
  {
   "cell_type": "code",
   "execution_count": 20,
   "metadata": {},
   "outputs": [
    {
     "name": "stdout",
     "output_type": "stream",
     "text": [
      "Square root of array a2:\n",
      " [[3.46410162 2.         3.16227766]\n",
      " [3.74165739 2.82842712 4.47213595]\n",
      " [3.16227766 2.23606798 4.        ]]\n"
     ]
    }
   ],
   "source": [
    "print('Square root of array a2:\\n', np.sqrt(a2))"
   ]
  },
  {
   "cell_type": "code",
   "execution_count": 21,
   "metadata": {},
   "outputs": [
    {
     "name": "stdout",
     "output_type": "stream",
     "text": [
      "Mean of array a1: 15.0\n"
     ]
    }
   ],
   "source": [
    "#mean(): to obtain mean/average of the numpy ndarray\n",
    "print('Mean of array a1:', np.mean(a1))"
   ]
  },
  {
   "cell_type": "code",
   "execution_count": 22,
   "metadata": {},
   "outputs": [
    {
     "name": "stdout",
     "output_type": "stream",
     "text": [
      "Mean of array a2: 11.0\n"
     ]
    }
   ],
   "source": [
    "print('Mean of array a2:', np.mean(a2))"
   ]
  },
  {
   "cell_type": "code",
   "execution_count": 23,
   "metadata": {},
   "outputs": [
    {
     "name": "stdout",
     "output_type": "stream",
     "text": [
      "standard daviation of array a1: 3.415650255319866\n"
     ]
    }
   ],
   "source": [
    "#std(): to obtain standard daviation of the numpy ndarray\n",
    "\n",
    "print('standard daviation of array a1:', np.std(a1))\n"
   ]
  },
  {
   "cell_type": "code",
   "execution_count": 24,
   "metadata": {},
   "outputs": [
    {
     "name": "stdout",
     "output_type": "stream",
     "text": [
      "standard daviation of array a2: 4.853406592853679\n"
     ]
    }
   ],
   "source": [
    "print('standard daviation of array a2:', np.std(a2))\n"
   ]
  },
  {
   "cell_type": "code",
   "execution_count": 25,
   "metadata": {},
   "outputs": [
    {
     "name": "stdout",
     "output_type": "stream",
     "text": [
      "Array A:\n",
      " [[1 2 3]\n",
      " [4 5 6]\n",
      " [7 8 9]]\n",
      "Array B:\n",
      " [[ 2  4  6]\n",
      " [ 8 10 12]\n",
      " [14 16 18]]\n"
     ]
    }
   ],
   "source": [
    "#Arithmetic operation on Ndarray\n",
    "\n",
    "a=np.array([[1,2,3], [4,5,6], [7,8,9]])\n",
    "b=np.array([[2,4,6], [8,10,12], [14,16,18]])\n",
    "\n",
    "print('Array A:\\n', a)\n",
    "print('Array B:\\n', b)"
   ]
  },
  {
   "cell_type": "code",
   "execution_count": 26,
   "metadata": {},
   "outputs": [
    {
     "name": "stdout",
     "output_type": "stream",
     "text": [
      "Sum of array a and b:\n",
      " [[ 3  6  9]\n",
      " [12 15 18]\n",
      " [21 24 27]]\n"
     ]
    }
   ],
   "source": [
    "print('Sum of array a and b:\\n', a+b)\n"
   ]
  },
  {
   "cell_type": "code",
   "execution_count": 27,
   "metadata": {},
   "outputs": [
    {
     "name": "stdout",
     "output_type": "stream",
     "text": [
      "Difference of array a and b:\n",
      " [[-1 -2 -3]\n",
      " [-4 -5 -6]\n",
      " [-7 -8 -9]]\n"
     ]
    }
   ],
   "source": [
    "print('Difference of array a and b:\\n', a-b)\n"
   ]
  },
  {
   "cell_type": "code",
   "execution_count": 28,
   "metadata": {},
   "outputs": [
    {
     "name": "stdout",
     "output_type": "stream",
     "text": [
      "Multiplication of array a and b:\n",
      " [[  2   8  18]\n",
      " [ 32  50  72]\n",
      " [ 98 128 162]]\n"
     ]
    }
   ],
   "source": [
    "print('Multiplication of array a and b:\\n', a*b)\n"
   ]
  },
  {
   "cell_type": "code",
   "execution_count": 29,
   "metadata": {},
   "outputs": [
    {
     "name": "stdout",
     "output_type": "stream",
     "text": [
      "Division of array a and b:\n",
      " [[0.5 0.5 0.5]\n",
      " [0.5 0.5 0.5]\n",
      " [0.5 0.5 0.5]]\n"
     ]
    }
   ],
   "source": [
    "print('Division of array a and b:\\n', a/b)\n"
   ]
  },
  {
   "cell_type": "code",
   "execution_count": 30,
   "metadata": {},
   "outputs": [
    {
     "name": "stdout",
     "output_type": "stream",
     "text": [
      "X array:\n",
      " [[1 2]\n",
      " [3 4]]\n",
      "Y array:\n",
      " [[5 6]\n",
      " [7 8]]\n"
     ]
    }
   ],
   "source": [
    "x=np.array([[1,2], [3,4]])\n",
    "y=np.array([[5,6], [7,8]])\n",
    "print('X array:\\n', x)\n",
    "print('Y array:\\n', y)"
   ]
  },
  {
   "cell_type": "code",
   "execution_count": 31,
   "metadata": {},
   "outputs": [
    {
     "name": "stdout",
     "output_type": "stream",
     "text": [
      "Array Horizontal concatenation:\n",
      " [[1 2 5 6]\n",
      " [3 4 7 8]]\n"
     ]
    }
   ],
   "source": [
    "#Array concatenation\n",
    "#hstack():to concatenate array horizontally\n",
    "\n",
    "print('Array Horizontal concatenation:\\n', np.hstack((x,y)))"
   ]
  },
  {
   "cell_type": "code",
   "execution_count": 32,
   "metadata": {},
   "outputs": [
    {
     "name": "stdout",
     "output_type": "stream",
     "text": [
      "Array Vertical concatenation:\n",
      " [[1 2]\n",
      " [3 4]\n",
      " [5 6]\n",
      " [7 8]]\n"
     ]
    }
   ],
   "source": [
    "#vstack(): to concatenate array vertically\n",
    "\n",
    "print('Array Vertical concatenation:\\n', np.vstack((x,y)))"
   ]
  },
  {
   "cell_type": "code",
   "execution_count": 34,
   "metadata": {},
   "outputs": [
    {
     "name": "stdout",
     "output_type": "stream",
     "text": [
      "Creating an empty array of 3*2:\n",
      " [[25.  9.]\n",
      " [ 1.  1.]\n",
      " [ 9. 25.]]\n"
     ]
    },
    {
     "name": "stderr",
     "output_type": "stream",
     "text": [
      "C:\\Users\\hp\\Anaconda3\\lib\\site-packages\\ipykernel_launcher.py:2: DeprecationWarning: `np.float` is a deprecated alias for the builtin `float`. To silence this warning, use `float` by itself. Doing this will not modify any behavior and is safe. If you specifically wanted the numpy scalar type, use `np.float64` here.\n",
      "Deprecated in NumPy 1.20; for more details and guidance: https://numpy.org/devdocs/release/1.20.0-notes.html#deprecations\n",
      "  \n"
     ]
    }
   ],
   "source": [
    "#empty()\n",
    "ar_empty=np.empty((3,2), dtype=np.float)\n",
    "print('Creating an empty array of 3*2:\\n', ar_empty)"
   ]
  },
  {
   "cell_type": "code",
   "execution_count": 35,
   "metadata": {},
   "outputs": [
    {
     "name": "stderr",
     "output_type": "stream",
     "text": [
      "C:\\Users\\hp\\Anaconda3\\lib\\site-packages\\ipykernel_launcher.py:2: DeprecationWarning: `np.int` is a deprecated alias for the builtin `int`. To silence this warning, use `int` by itself. Doing this will not modify any behavior and is safe. When replacing `np.int`, you may wish to use e.g. `np.int64` or `np.int32` to specify the precision. If you wish to review your current use, check the release note link for additional information.\n",
      "Deprecated in NumPy 1.20; for more details and guidance: https://numpy.org/devdocs/release/1.20.0-notes.html#deprecations\n",
      "  \n"
     ]
    },
    {
     "data": {
      "text/plain": [
       "array([[0, 0, 0],\n",
       "       [0, 0, 0]])"
      ]
     },
     "execution_count": 35,
     "metadata": {},
     "output_type": "execute_result"
    }
   ],
   "source": [
    "#zeros():\n",
    "ar_zero=np.zeros((2,3), dtype=np.int)\n",
    "ar_zero"
   ]
  },
  {
   "cell_type": "code",
   "execution_count": 36,
   "metadata": {},
   "outputs": [
    {
     "data": {
      "text/plain": [
       "array([[1, 1, 1],\n",
       "       [1, 1, 1],\n",
       "       [1, 1, 1],\n",
       "       [1, 1, 1]])"
      ]
     },
     "execution_count": 36,
     "metadata": {},
     "output_type": "execute_result"
    }
   ],
   "source": [
    "#ones()\n",
    "\n",
    "ar_ones=np.ones((4,3), dtype=int)\n",
    "ar_ones"
   ]
  },
  {
   "cell_type": "code",
   "execution_count": 37,
   "metadata": {},
   "outputs": [
    {
     "name": "stdout",
     "output_type": "stream",
     "text": [
      "[1 2 3 4 5 6]\n",
      "<class 'numpy.ndarray'>\n"
     ]
    }
   ],
   "source": [
    "#asarray():\n",
    "li=[1,2,3,4,5,6]\n",
    "\n",
    "arr=np.asarray(li)\n",
    "print(arr)\n",
    "print(type(arr))"
   ]
  },
  {
   "cell_type": "code",
   "execution_count": 39,
   "metadata": {},
   "outputs": [
    {
     "data": {
      "text/plain": [
       "array([1, 2, 3, 4, 5, 6, 7, 8, 9])"
      ]
     },
     "execution_count": 39,
     "metadata": {},
     "output_type": "execute_result"
    }
   ],
   "source": [
    "#arange()\n",
    "\n",
    "aran=np.arange(1, 10, dtype=int)\n",
    "aran"
   ]
  },
  {
   "cell_type": "code",
   "execution_count": 40,
   "metadata": {},
   "outputs": [
    {
     "data": {
      "text/plain": [
       "array([1, 3, 5, 7, 9])"
      ]
     },
     "execution_count": 40,
     "metadata": {},
     "output_type": "execute_result"
    }
   ],
   "source": [
    "aran=np.arange(1, 10, 2, dtype=int)\n",
    "aran"
   ]
  },
  {
   "cell_type": "code",
   "execution_count": 41,
   "metadata": {},
   "outputs": [
    {
     "data": {
      "text/plain": [
       "array([18, 16, 14, 12, 10,  8,  6,  4])"
      ]
     },
     "execution_count": 41,
     "metadata": {},
     "output_type": "execute_result"
    }
   ],
   "source": [
    "aran=np.arange(18, 2, -2, dtype=int)\n",
    "aran"
   ]
  },
  {
   "cell_type": "code",
   "execution_count": 42,
   "metadata": {},
   "outputs": [],
   "source": [
    "#Array broadcasting\n",
    "x1=np.array([[1,2,3], [4,5,6]])\n",
    "y1=np.array([[2,4,6]])"
   ]
  },
  {
   "cell_type": "code",
   "execution_count": 43,
   "metadata": {},
   "outputs": [
    {
     "data": {
      "text/plain": [
       "array([[ 3,  6,  9],\n",
       "       [ 6,  9, 12]])"
      ]
     },
     "execution_count": 43,
     "metadata": {},
     "output_type": "execute_result"
    }
   ],
   "source": [
    "x1+y1"
   ]
  },
  {
   "cell_type": "code",
   "execution_count": 44,
   "metadata": {},
   "outputs": [
    {
     "data": {
      "text/plain": [
       "array([[-1, -2, -3],\n",
       "       [ 2,  1,  0]])"
      ]
     },
     "execution_count": 44,
     "metadata": {},
     "output_type": "execute_result"
    }
   ],
   "source": [
    "x1-y1"
   ]
  },
  {
   "cell_type": "code",
   "execution_count": 45,
   "metadata": {},
   "outputs": [
    {
     "name": "stdout",
     "output_type": "stream",
     "text": [
      "Printing array:\n",
      "[[ 1  2  3  4]\n",
      " [ 2  4  5  6]\n",
      " [10 20 39  3]]\n",
      "Iterating over the array:\n",
      "1 2 3 4 2 4 5 6 10 20 39 3 "
     ]
    }
   ],
   "source": [
    "a = np.array([[1,2,3,4],[2,4,5,6],[10,20,39,3]])\n",
    "print(\"Printing array:\")\n",
    "print(a);\n",
    "print(\"Iterating over the array:\")\n",
    "\n",
    "for x in np.nditer(a):\n",
    "    print(x,end=' ')\n"
   ]
  },
  {
   "cell_type": "code",
   "execution_count": 50,
   "metadata": {},
   "outputs": [
    {
     "name": "stdout",
     "output_type": "stream",
     "text": [
      "Rounding the value of \"r\" upto 2 decimal places: 89.46\n",
      "Rounding the value of \"r\" upto 3 decimal places: 89.457\n",
      "Rounding the value of \"r\" upto 1 decimal places: 89.5\n",
      "Rounding the value of \"r\" upto 0 decimal places: 89.0\n",
      "Rounding the value of \"r\" upto -1 decimal places: 90.0\n"
     ]
    }
   ],
   "source": [
    "r=89.456677\n",
    "print('Rounding the value of \"r\" upto 2 decimal places:', np.around(r, 2))\n",
    "print('Rounding the value of \"r\" upto 3 decimal places:', np.around(r, 3))\n",
    "print('Rounding the value of \"r\" upto 1 decimal places:', np.around(r, 1))\n",
    "print('Rounding the value of \"r\" upto 0 decimal places:', np.around(r, 0))\n",
    "print('Rounding the value of \"r\" upto -1 decimal places:', np.around(r, -1))"
   ]
  },
  {
   "cell_type": "code",
   "execution_count": 53,
   "metadata": {},
   "outputs": [
    {
     "name": "stdout",
     "output_type": "stream",
     "text": [
      "Original array: [12.34455    23.45567    33.455566   12.34445555 88.44559988]\n",
      "Rounding the value of \"ro\" upto 2 decimal places: [12.34 23.46 33.46 12.34 88.45]\n"
     ]
    }
   ],
   "source": [
    "ro=np.array([12.34455, 23.45567, 33.455566, 12.34445555, 88.44559988])\n",
    "print('Original array:', ro)\n",
    "print('Rounding the value of \"ro\" upto 2 decimal places:', np.around(ro, 2))"
   ]
  },
  {
   "cell_type": "code",
   "execution_count": 54,
   "metadata": {},
   "outputs": [
    {
     "data": {
      "text/plain": [
       "array([ 1.  ,  3.25,  5.5 ,  7.75, 10.  ])"
      ]
     },
     "execution_count": 54,
     "metadata": {},
     "output_type": "execute_result"
    }
   ],
   "source": [
    "#linspace():\n",
    "\n",
    "#Creating a array of 5 element between 1 to 10\n",
    "#Syntax: linspace(start, end, no_of_element)\n",
    "\n",
    "ar1=np.linspace(1, 10, 5)\n",
    "ar1"
   ]
  },
  {
   "cell_type": "code",
   "execution_count": 55,
   "metadata": {},
   "outputs": [
    {
     "data": {
      "text/plain": [
       "array([ 3.,  6.,  9., 12., 15., 18.])"
      ]
     },
     "execution_count": 55,
     "metadata": {},
     "output_type": "execute_result"
    }
   ],
   "source": [
    "#Creating a array of 6 element between 3 to 18\n",
    "ar2=np.linspace(3,18, 6)\n",
    "ar2"
   ]
  },
  {
   "cell_type": "code",
   "execution_count": null,
   "metadata": {},
   "outputs": [],
   "source": [
    "#floor value\n",
    "\n",
    "Ex r=12.34\n",
    "\n",
    "Floor value=12\n",
    "\n",
    "\n",
    "r1=34.89\n",
    "\n",
    "floor value=34\n",
    "\n",
    "#ceiling value\n",
    "\n",
    "ceiling value of r=13\n",
    "\n",
    "ceiling value of r1= 35\n"
   ]
  },
  {
   "cell_type": "code",
   "execution_count": 57,
   "metadata": {},
   "outputs": [
    {
     "name": "stdout",
     "output_type": "stream",
     "text": [
      "Floor value of q1: 56.0\n",
      "Floor value of q2: 56.0\n"
     ]
    }
   ],
   "source": [
    "#floor()\n",
    "\n",
    "q1=56.67\n",
    "print('Floor value of q1:', np.floor(q1))\n",
    "\n",
    "q2=56.34\n",
    "print('Floor value of q2:', np.floor(q2))"
   ]
  },
  {
   "cell_type": "code",
   "execution_count": 60,
   "metadata": {},
   "outputs": [
    {
     "name": "stdout",
     "output_type": "stream",
     "text": [
      "ceiling value of q1: 57.0\n",
      "ceiling value of q2: 57.0\n"
     ]
    }
   ],
   "source": [
    "#ceil()\n",
    "print('ceiling value of q1:', np.ceil(q1))\n",
    "print('ceiling value of q2:', np.ceil(q2))\n"
   ]
  },
  {
   "cell_type": "code",
   "execution_count": 61,
   "metadata": {},
   "outputs": [
    {
     "data": {
      "text/plain": [
       "array([12.34455   , 23.45567   , 33.455566  , 12.34445555, 88.44559988])"
      ]
     },
     "execution_count": 61,
     "metadata": {},
     "output_type": "execute_result"
    }
   ],
   "source": [
    "ro"
   ]
  },
  {
   "cell_type": "code",
   "execution_count": 62,
   "metadata": {},
   "outputs": [
    {
     "name": "stdout",
     "output_type": "stream",
     "text": [
      "Floor value of ro: [12. 23. 33. 12. 88.]\n",
      "ceiling value of ro: [13. 24. 34. 13. 89.]\n"
     ]
    }
   ],
   "source": [
    "print('Floor value of ro:', np.floor(ro))\n",
    "\n",
    "print('ceiling value of ro:', np.ceil(ro))\n"
   ]
  },
  {
   "cell_type": "code",
   "execution_count": 63,
   "metadata": {},
   "outputs": [
    {
     "name": "stdout",
     "output_type": "stream",
     "text": [
      "The original array:\n",
      "\n",
      "[[ 2 10 20]\n",
      " [80 43 31]\n",
      " [22 90 18]]\n",
      "\n",
      "The minimum element among the columns of  array [ 2 10 18]\n",
      "The maximum element among the columns of array [80 90 31]\n"
     ]
    }
   ],
   "source": [
    "a = np.array([[2,10,20],[80,43,31],[22,90,18]])  \n",
    "print(\"The original array:\\n\")  \n",
    "print(a)  \n",
    "\n",
    "print(\"\\nThe minimum element among the columns of  array\",np.amin(a,0))  \n",
    "\n",
    "print(\"The maximum element among the columns of array\",np.amax(a,0))  \n",
    "  \n",
    "\n"
   ]
  },
  {
   "cell_type": "code",
   "execution_count": 64,
   "metadata": {},
   "outputs": [
    {
     "name": "stdout",
     "output_type": "stream",
     "text": [
      "\n",
      "The minimum element among the rows of array [ 2 31 18]\n",
      "The maximum element among the rows of array [20 80 90]\n"
     ]
    }
   ],
   "source": [
    "print(\"\\nThe minimum element among the rows of array\",np.amin(a,1))  \n",
    "print(\"The maximum element among the rows of array\",np.amax(a,1)) \n"
   ]
  },
  {
   "cell_type": "code",
   "execution_count": 66,
   "metadata": {},
   "outputs": [
    {
     "data": {
      "text/plain": [
       "array([[ 2, 10, 20],\n",
       "       [80, 43, 31],\n",
       "       [22, 90, 18]])"
      ]
     },
     "execution_count": 66,
     "metadata": {},
     "output_type": "execute_result"
    }
   ],
   "source": [
    "a"
   ]
  },
  {
   "cell_type": "code",
   "execution_count": 65,
   "metadata": {},
   "outputs": [
    {
     "name": "stdout",
     "output_type": "stream",
     "text": [
      "Column wise range in Array a: [78 80 13]\n"
     ]
    }
   ],
   "source": [
    "#ptp()\n",
    "\n",
    "print('Column wise range in Array a:', np.ptp(a, 0))"
   ]
  },
  {
   "cell_type": "code",
   "execution_count": 67,
   "metadata": {},
   "outputs": [
    {
     "name": "stdout",
     "output_type": "stream",
     "text": [
      "Row wise range in Array a: [18 49 72]\n"
     ]
    }
   ],
   "source": [
    "print('Row wise range in Array a:', np.ptp(a, 1))"
   ]
  },
  {
   "cell_type": "code",
   "execution_count": 68,
   "metadata": {},
   "outputs": [
    {
     "data": {
      "text/plain": [
       "array([[ 2, 10, 20],\n",
       "       [80, 43, 31],\n",
       "       [22, 90, 18]])"
      ]
     },
     "execution_count": 68,
     "metadata": {},
     "output_type": "execute_result"
    }
   ],
   "source": [
    "a"
   ]
  },
  {
   "cell_type": "code",
   "execution_count": 69,
   "metadata": {},
   "outputs": [
    {
     "name": "stdout",
     "output_type": "stream",
     "text": [
      "Sorting Row wise:\n",
      "[[ 2 10 20]\n",
      " [31 43 80]\n",
      " [18 22 90]]\n"
     ]
    }
   ],
   "source": [
    "print('Sorting Row wise:')\n",
    "print(np.sort(a))"
   ]
  },
  {
   "cell_type": "code",
   "execution_count": 70,
   "metadata": {},
   "outputs": [
    {
     "name": "stdout",
     "output_type": "stream",
     "text": [
      "Sorting Column wise:\n",
      "[[ 2 10 18]\n",
      " [22 43 20]\n",
      " [80 90 31]]\n"
     ]
    }
   ],
   "source": [
    "print('Sorting Column wise:')\n",
    "print(np.sort(a,0))"
   ]
  },
  {
   "cell_type": "code",
   "execution_count": null,
   "metadata": {},
   "outputs": [],
   "source": []
  }
 ],
 "metadata": {
  "kernelspec": {
   "display_name": "Python 3",
   "language": "python",
   "name": "python3"
  },
  "language_info": {
   "codemirror_mode": {
    "name": "ipython",
    "version": 3
   },
   "file_extension": ".py",
   "mimetype": "text/x-python",
   "name": "python",
   "nbconvert_exporter": "python",
   "pygments_lexer": "ipython3",
   "version": "3.7.3"
  }
 },
 "nbformat": 4,
 "nbformat_minor": 2
}
