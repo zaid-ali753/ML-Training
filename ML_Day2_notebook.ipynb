{
 "cells": [
  {
   "cell_type": "code",
   "execution_count": 1,
   "metadata": {},
   "outputs": [],
   "source": [
    "#Day 2\n",
    "#Python Programming Basics\n"
   ]
  },
  {
   "cell_type": "code",
   "execution_count": 5,
   "metadata": {},
   "outputs": [
    {
     "name": "stdout",
     "output_type": "stream",
     "text": [
      "Value of x: 90\n",
      "<class 'int'>\n",
      "Value of y: 56.89\n",
      "<class 'float'>\n",
      "Value of z: NIELIT\n",
      "<class 'str'>\n"
     ]
    }
   ],
   "source": [
    "#Declaring the variable\n",
    "#variable declaration requires no keyword\n",
    "\n",
    "#syntax: var_name=value\n",
    "\n",
    "x=90     #x will be of int type\n",
    "y=56.89  #y will be of float type\n",
    "z='NIELIT' #z will be of string type\n",
    "\n",
    "print('Value of x:',x)\n",
    "print(type(x))\n",
    "\n",
    "print('Value of y:',y)\n",
    "print(type(y))\n",
    "\n",
    "print('Value of z:',z)\n",
    "print(type(z))"
   ]
  },
  {
   "cell_type": "code",
   "execution_count": 6,
   "metadata": {},
   "outputs": [
    {
     "name": "stdout",
     "output_type": "stream",
     "text": [
      "Value of x: 45.67\n",
      "<class 'float'>\n"
     ]
    }
   ],
   "source": [
    "#we can also change the value of a variable\n",
    "#type of variable will also change accordingly\n",
    "\n",
    "x=45.67   #now, x will be of float type\n",
    "\n",
    "print('Value of x:',x)\n",
    "print(type(x))"
   ]
  },
  {
   "cell_type": "code",
   "execution_count": 7,
   "metadata": {},
   "outputs": [
    {
     "name": "stdout",
     "output_type": "stream",
     "text": [
      "Value of y: Hello\n",
      "<class 'str'>\n"
     ]
    }
   ],
   "source": [
    "y='Hello'\n",
    "print('Value of y:',y)\n",
    "print(type(y))"
   ]
  },
  {
   "cell_type": "code",
   "execution_count": 8,
   "metadata": {},
   "outputs": [
    {
     "ename": "SyntaxError",
     "evalue": "invalid syntax (<ipython-input-8-4d5040656ab2>, line 7)",
     "output_type": "error",
     "traceback": [
      "\u001b[1;36m  File \u001b[1;32m\"<ipython-input-8-4d5040656ab2>\"\u001b[1;36m, line \u001b[1;32m7\u001b[0m\n\u001b[1;33m    1w=400 #invalid name\u001b[0m\n\u001b[1;37m     ^\u001b[0m\n\u001b[1;31mSyntaxError\u001b[0m\u001b[1;31m:\u001b[0m invalid syntax\n"
     ]
    }
   ],
   "source": [
    "#Rules for variable name\n",
    "\n",
    "#1. variable names may be alphanumeric but can't start with numbers\n",
    "\n",
    "w1=90  #valid name\n",
    "\n",
    "1w=400 #invalid name\n",
    "\n",
    "#2. variable name only contains a-z, A-Z, 0-9 and _\n",
    "\n",
    "    area1=456  #valid name\n",
    "    _area=455  #valid name\n",
    "    area_1=34  #valid name\n",
    "    _1data=788 #valid name\n",
    "    \n",
    "    area$=78  #invalid name\n",
    "    data#=90  #invalid name\n",
    "    \n",
    "#3. multiword variable names must be seperated with _ or nospace\n",
    "  #space is not allowed between multiword variable name\n",
    "\n",
    "\n",
    "areacircle=90    #valid variable name\n",
    "area_circle=900 #valid variable name\n",
    "\n",
    "area circle=455  #invalid variable name"
   ]
  },
  {
   "cell_type": "code",
   "execution_count": 9,
   "metadata": {},
   "outputs": [
    {
     "name": "stdout",
     "output_type": "stream",
     "text": [
      "100\n",
      "200\n"
     ]
    }
   ],
   "source": [
    "#Python is case-sensitive language\n",
    "\n",
    "x=100\n",
    "X=200\n",
    "\n",
    "#both are different variables\n",
    "\n",
    "print(x)\n",
    "print(X)\n",
    "\n",
    "#car\n",
    "#Car\n",
    "#CAR\n",
    "#cAr"
   ]
  },
  {
   "cell_type": "code",
   "execution_count": null,
   "metadata": {},
   "outputs": [],
   "source": [
    "#Python data types:\n",
    "\n",
    "1. Numeric\n",
    "    a) integer: 25,258, 562, 258\n",
    "    b) float  : 25.65, 56.58, 78.56\n",
    "    c) complex: 2+3j\n",
    "    \n",
    "2. Boolean: True or False\n",
    "    \n",
    "3. Sequence:\n",
    "        a) String\n",
    "        b) List\n",
    "        c) Tuple\n",
    "        d) Dictionary\n",
    "        e) Set"
   ]
  },
  {
   "cell_type": "code",
   "execution_count": 10,
   "metadata": {},
   "outputs": [
    {
     "name": "stdout",
     "output_type": "stream",
     "text": [
      "Addition: 15\n",
      "Subtraction: 5\n",
      "Multiply: 50\n",
      "Divide: 2.0\n",
      "Remainder: 0\n"
     ]
    }
   ],
   "source": [
    "#Operators in Python\n",
    "#Arithmetic Operators\n",
    "\n",
    "#+\n",
    "#-\n",
    "#*\n",
    "#/\n",
    "#%\n",
    "\n",
    "a=10\n",
    "b=5\n",
    "print('Addition:', a+b)\n",
    "print('Subtraction:', a-b)\n",
    "print('Multiply:', a*b)\n",
    "print('Divide:', a/b)\n",
    "print('Remainder:', a%b)"
   ]
  },
  {
   "cell_type": "code",
   "execution_count": 11,
   "metadata": {},
   "outputs": [
    {
     "name": "stdout",
     "output_type": "stream",
     "text": [
      "Exponent operation: 8\n"
     ]
    }
   ],
   "source": [
    "#Exponent Operator (**)\n",
    "x=2\n",
    "y=3\n",
    "print('Exponent operation:', x**y)"
   ]
  },
  {
   "cell_type": "code",
   "execution_count": 12,
   "metadata": {},
   "outputs": [
    {
     "name": "stdout",
     "output_type": "stream",
     "text": [
      "Division: 2.6\n",
      "Floor division: 2\n"
     ]
    }
   ],
   "source": [
    "#floor division (//)\n",
    "\n",
    "x=13\n",
    "y=5\n",
    "\n",
    "print('Division:', x/y)\n",
    "print('Floor division:', x//y)"
   ]
  },
  {
   "cell_type": "code",
   "execution_count": null,
   "metadata": {},
   "outputs": [],
   "source": [
    "Ex: x=13.45\n",
    "    \n",
    "    floor value x= 13\n",
    "    \n",
    "    x= 13.87\n",
    "    \n",
    "    floor value x=13\n",
    "    \n",
    "    \n",
    "Ceiling\n",
    "    x=13.45\n",
    "    \n",
    "    ceil value x= 14\n",
    "    \n",
    "    x= 13.87\n",
    "    \n",
    "    ceil value x=14\n",
    "\n",
    "    "
   ]
  },
  {
   "cell_type": "code",
   "execution_count": 17,
   "metadata": {},
   "outputs": [
    {
     "name": "stdout",
     "output_type": "stream",
     "text": [
      "False\n",
      "True\n",
      "False\n",
      "True\n"
     ]
    }
   ],
   "source": [
    "#comparison operator\n",
    "#equal to(==)\n",
    "#less than (<)\n",
    "#greator than (>)\n",
    "#less than equal to (<=)\n",
    "#greator than equal to (>=)\n",
    "#not equal to (!)\n",
    "\n",
    "p=10\n",
    "q=5\n",
    "\n",
    "print(p==q)\n",
    "print(p>q)\n",
    "print(p<q)\n",
    "print(p!=q)"
   ]
  },
  {
   "cell_type": "code",
   "execution_count": 20,
   "metadata": {},
   "outputs": [
    {
     "name": "stdout",
     "output_type": "stream",
     "text": [
      "False\n",
      "False\n",
      "True\n"
     ]
    }
   ],
   "source": [
    "#logical operators\n",
    "\n",
    "#and\n",
    "#or\n",
    "#not\n",
    "\n",
    "a=6\n",
    "b=8\n",
    "c=10\n",
    "\n",
    "print(a>b and a>c)\n",
    "print(a<b and a>c)\n",
    "print(a<b and a<c)"
   ]
  },
  {
   "cell_type": "code",
   "execution_count": 21,
   "metadata": {},
   "outputs": [
    {
     "name": "stdout",
     "output_type": "stream",
     "text": [
      "False\n",
      "True\n",
      "True\n"
     ]
    }
   ],
   "source": [
    "# or\n",
    "print(a>b or a>c)\n",
    "print(a<b or a>c)\n",
    "print(a<b or a<c)"
   ]
  },
  {
   "cell_type": "code",
   "execution_count": 22,
   "metadata": {},
   "outputs": [
    {
     "name": "stdout",
     "output_type": "stream",
     "text": [
      "False\n"
     ]
    }
   ],
   "source": [
    "#not\n",
    "a=True\n",
    "b=not(a)\n",
    "print(b)"
   ]
  },
  {
   "cell_type": "code",
   "execution_count": 27,
   "metadata": {},
   "outputs": [
    {
     "name": "stdout",
     "output_type": "stream",
     "text": [
      "45.56\n",
      "<class 'float'>\n",
      "45\n",
      "<class 'int'>\n",
      "50\n",
      "<class 'int'>\n",
      "50.0\n",
      "<class 'float'>\n"
     ]
    }
   ],
   "source": [
    "#Python type casting\n",
    "#process to change the datatype of a variable \n",
    "\n",
    "#int(): used to cast to integer type\n",
    "\n",
    "#float():used to cast to float type\n",
    "\n",
    "#str(): used to cast to string type\n",
    "\n",
    "#complex(): used to cast to complex type\n",
    "\n",
    "#boolean(): used to cast to boolean type\n",
    "\n",
    "x1=45.56\n",
    "\n",
    "print(x1)\n",
    "print(type(x1))\n",
    "\n",
    "a=int(x1)   #casting the x1 to int\n",
    "\n",
    "print(a)\n",
    "print(type(a))\n",
    "\n",
    "\n",
    "b1=50\n",
    "print(b1)\n",
    "print(type(b1))\n",
    "\n",
    "c1=float(b1)\n",
    "\n",
    "print(c1)\n",
    "print(type(c1))\n",
    "\n"
   ]
  },
  {
   "cell_type": "code",
   "execution_count": 28,
   "metadata": {},
   "outputs": [
    {
     "name": "stdout",
     "output_type": "stream",
     "text": [
      "Enter the first number:12\n",
      "Enter the second number=36\n",
      "Addition: 1236\n"
     ]
    }
   ],
   "source": [
    "#First program in python\n",
    "\n",
    "#Program to add two numbers\n",
    "#Taking the input from keyboard\n",
    "\n",
    "#input(): used to input the data from keyboard\n",
    "#The default data type of input data is string/text\n",
    "\n",
    "p=input(\"Enter the first number:\")\n",
    "q=input('Enter the second number=')\n",
    "\n",
    "r=p+q\n",
    "\n",
    "print('Addition:', r)"
   ]
  },
  {
   "cell_type": "code",
   "execution_count": 29,
   "metadata": {},
   "outputs": [
    {
     "name": "stdout",
     "output_type": "stream",
     "text": [
      "Enter the first number:12\n",
      "Enter the second number=36\n",
      "Addition: 48\n"
     ]
    }
   ],
   "source": [
    "p=int(input(\"Enter the first number:\"))\n",
    "q=int(input('Enter the second number='))\n",
    "\n",
    "r=p+q\n",
    "\n",
    "print('Addition:', r)"
   ]
  },
  {
   "cell_type": "code",
   "execution_count": 30,
   "metadata": {},
   "outputs": [
    {
     "name": "stdout",
     "output_type": "stream",
     "text": [
      "Enter the radius of the circle=5\n",
      "Area of circle is= 78.5\n"
     ]
    }
   ],
   "source": [
    "#Program for area of circle\n",
    "\n",
    "r=float(input('Enter the radius of the circle='))\n",
    "a=3.14*r*r\n",
    "\n",
    "print('Area of circle is=', a)"
   ]
  },
  {
   "cell_type": "code",
   "execution_count": 31,
   "metadata": {},
   "outputs": [],
   "source": [
    "#Python decision making statement\n",
    "\n",
    "#if statement\n",
    "\n",
    "#if---- else statement\n",
    "\n",
    "#if--elif--else statement\n",
    "\n",
    "#nested if statement"
   ]
  },
  {
   "cell_type": "code",
   "execution_count": 32,
   "metadata": {},
   "outputs": [
    {
     "name": "stdout",
     "output_type": "stream",
     "text": [
      "Inside if block\n",
      "If statement\n",
      "data is greator than 5\n",
      "Outside if block\n"
     ]
    }
   ],
   "source": [
    "#if statement\n",
    "\n",
    "data=10\n",
    "\n",
    "if(data>=5):\n",
    "    print('Inside if block')\n",
    "    print('If statement')\n",
    "    print('data is greator than 10')\n",
    "\n",
    "print('Outside if block')"
   ]
  },
  {
   "cell_type": "code",
   "execution_count": 33,
   "metadata": {},
   "outputs": [
    {
     "name": "stdout",
     "output_type": "stream",
     "text": [
      "Outside if block\n"
     ]
    }
   ],
   "source": [
    "#if statement\n",
    "\n",
    "data=2\n",
    "\n",
    "if(data>=5):\n",
    "    print('Inside if block')\n",
    "    print('If statement')\n",
    "    print('data is greator than 10')\n",
    "\n",
    "print('Outside if block')"
   ]
  },
  {
   "cell_type": "code",
   "execution_count": 36,
   "metadata": {},
   "outputs": [
    {
     "name": "stdout",
     "output_type": "stream",
     "text": [
      "Enter value of data:4\n",
      "Else block\n",
      "Data is not greator than 5\n",
      "Outside if block\n"
     ]
    }
   ],
   "source": [
    "#if--else statement\n",
    "\n",
    "#if statement\n",
    "\n",
    "data=int(input('Enter value of data:'))\n",
    "\n",
    "if(data>=5):\n",
    "    print('Inside if block')\n",
    "    print('If statement')\n",
    "    print('data is greator than 5')\n",
    "\n",
    "else:\n",
    "    print('Else block')\n",
    "    print('Data is not greator than 5')\n",
    "\n",
    "print('Outside if block')"
   ]
  },
  {
   "cell_type": "code",
   "execution_count": 38,
   "metadata": {},
   "outputs": [
    {
     "name": "stdout",
     "output_type": "stream",
     "text": [
      "Enter any number:15\n",
      "The number is odd\n"
     ]
    }
   ],
   "source": [
    "#Example: to check the number is even or odd\n",
    "\n",
    "n=int(input('Enter any number:'))\n",
    "\n",
    "if(n%2==0):\n",
    "    print('The number is even')\n",
    "\n",
    "else:\n",
    "    print('The number is odd')"
   ]
  },
  {
   "cell_type": "code",
   "execution_count": 44,
   "metadata": {},
   "outputs": [
    {
     "name": "stdout",
     "output_type": "stream",
     "text": [
      "Enter the percentage:45\n",
      "Fail\n"
     ]
    }
   ],
   "source": [
    "#if--elif--else statement\n",
    "\n",
    "#Example: percentage>=85, then Grade=A\n",
    "#percentage>=75 and percentege<85, then Grade=B\n",
    "##percentage>=60 and percentege<75, then Grade=C\n",
    "#percentage>=50 and percentege<60, then Grade=D\n",
    "#otherwise Fail\n",
    "\n",
    "per=float(input('Enter the percentage:'))\n",
    "\n",
    "if(per>=85):\n",
    "    print('Grade A')\n",
    "\n",
    "elif(per>=75 and per<85):\n",
    "    print('Grade B')\n",
    "\n",
    "elif(per>=60 and per<75):\n",
    "    print('Grade C')\n",
    "\n",
    "elif(per>=50 and per<60):\n",
    "    print('Grade D')\n",
    "    \n",
    "else:\n",
    "    print('Fail')\n",
    "\n",
    "\n"
   ]
  },
  {
   "cell_type": "code",
   "execution_count": 47,
   "metadata": {},
   "outputs": [
    {
     "name": "stdout",
     "output_type": "stream",
     "text": [
      "Enter any number=-5\n",
      "Number is negative\n"
     ]
    }
   ],
   "source": [
    "#Nested if statement: if within/inside another if\n",
    "\n",
    "#Example: check whether number is positive, negative or zero\n",
    "\n",
    "num=int(input('Enter any number='))\n",
    "\n",
    "if(num>=0):\n",
    "    \n",
    "    if(num>0):\n",
    "        print('Number is positive')\n",
    "    \n",
    "    else:\n",
    "        print('Number is Zero')\n",
    "    \n",
    "else:\n",
    "    print('Number is negative')\n",
    "\n"
   ]
  },
  {
   "cell_type": "code",
   "execution_count": null,
   "metadata": {},
   "outputs": [],
   "source": []
  }
 ],
 "metadata": {
  "kernelspec": {
   "display_name": "Python 3",
   "language": "python",
   "name": "python3"
  },
  "language_info": {
   "codemirror_mode": {
    "name": "ipython",
    "version": 3
   },
   "file_extension": ".py",
   "mimetype": "text/x-python",
   "name": "python",
   "nbconvert_exporter": "python",
   "pygments_lexer": "ipython3",
   "version": "3.7.3"
  }
 },
 "nbformat": 4,
 "nbformat_minor": 2
}
