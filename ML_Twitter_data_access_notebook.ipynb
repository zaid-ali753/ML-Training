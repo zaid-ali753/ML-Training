{
 "cells": [
  {
   "cell_type": "code",
   "execution_count": null,
   "metadata": {},
   "outputs": [],
   "source": [
    "#To install tweepy\n",
    "\n",
    "#Open anaconda prompt\n",
    "\n",
    "# and, type\n",
    "\n",
    "#pip install tweepy"
   ]
  },
  {
   "cell_type": "code",
   "execution_count": 1,
   "metadata": {},
   "outputs": [],
   "source": [
    "#Accessing twitter data\n",
    "#tweepy pkg is used to access the twitter data using twitter api\n",
    "\n",
    "import tweepy"
   ]
  },
  {
   "cell_type": "code",
   "execution_count": 2,
   "metadata": {},
   "outputs": [],
   "source": [
    "#OAuthHandler(): used for authorization to consumer key and consumer secret key\n",
    "#Synatx: auth=tweepy.OAuthHandler(Consumer_key, Consumer_secret_key)\n",
    "\n",
    "auth=tweepy.OAuthHandler('8qquQyrTxTnfWDS4XZ7v1m6cj', 'sJIkUqppAtWsARpuuL75ax6N9AWMy1CbFv5rkdEMYTPixuDVFv')\n",
    "\n",
    "#To access the tweets from twitter, use set_access_token()\n",
    "#auth.set_access_token(Access_key, Access_secret_key)\n",
    "\n",
    "#where auth is the object of the OAuthhandler()\n",
    "\n",
    "auth.set_access_token('706556041-DdP5L1EDyfx1B7dy4auS7KqMnqjEp5EvDcT4WGvC', 'zUuwsRc5SUP4P9pdB1rWl17h8ZJFx7alxmXXjpAJNpEfo')\n",
    "\n",
    "#Internet is required to run this program"
   ]
  },
  {
   "cell_type": "code",
   "execution_count": 3,
   "metadata": {},
   "outputs": [],
   "source": [
    "#tweepy.API(): used to access the tweets from the twitter server using your consumer key and access key\n",
    "\n",
    "api=tweepy.API(auth, wait_on_rate_limit=True, wait_on_rate_limit_notify=True)\n",
    "\n",
    "#api is the most important object to access the data from twitter server\n"
   ]
  },
  {
   "cell_type": "code",
   "execution_count": 4,
   "metadata": {},
   "outputs": [
    {
     "data": {
      "text/plain": [
       "Status(_api=<tweepy.api.API object at 0x0000029DF0CC5F98>, _json={'created_at': 'Fri Jul 30 09:57:07 +0000 2021', 'id': 1421047193180442624, 'id_str': '1421047193180442624', 'text': 'The Batch which appeared for the Class XII Boards this year did so under unprecedented circumstances. \\nThe educatio… https://t.co/uzAvuWPHfe', 'truncated': True, 'entities': {'hashtags': [], 'symbols': [], 'user_mentions': [], 'urls': [{'url': 'https://t.co/uzAvuWPHfe', 'expanded_url': 'https://twitter.com/i/web/status/1421047193180442624', 'display_url': 'twitter.com/i/web/status/1…', 'indices': [117, 140]}]}, 'source': '<a href=\"http://twitter.com/download/iphone\" rel=\"nofollow\">Twitter for iPhone</a>', 'in_reply_to_status_id': None, 'in_reply_to_status_id_str': None, 'in_reply_to_user_id': None, 'in_reply_to_user_id_str': None, 'in_reply_to_screen_name': None, 'user': {'id': 18839785, 'id_str': '18839785', 'name': 'Narendra Modi', 'screen_name': 'narendramodi', 'location': 'India', 'description': 'Prime Minister of India', 'url': 'https://t.co/zzYhUUfq6i', 'entities': {'url': {'urls': [{'url': 'https://t.co/zzYhUUfq6i', 'expanded_url': 'http://www.narendramodi.in', 'display_url': 'narendramodi.in', 'indices': [0, 23]}]}, 'description': {'urls': []}}, 'protected': False, 'followers_count': 70065918, 'friends_count': 2350, 'listed_count': 27443, 'created_at': 'Sat Jan 10 17:18:56 +0000 2009', 'favourites_count': 0, 'utc_offset': None, 'time_zone': None, 'geo_enabled': False, 'verified': True, 'statuses_count': 30232, 'lang': None, 'contributors_enabled': False, 'is_translator': False, 'is_translation_enabled': False, 'profile_background_color': 'F4EDD4', 'profile_background_image_url': 'http://abs.twimg.com/images/themes/theme1/bg.png', 'profile_background_image_url_https': 'https://abs.twimg.com/images/themes/theme1/bg.png', 'profile_background_tile': False, 'profile_image_url': 'http://pbs.twimg.com/profile_images/1249934092994375680/xX66NSZP_normal.jpg', 'profile_image_url_https': 'https://pbs.twimg.com/profile_images/1249934092994375680/xX66NSZP_normal.jpg', 'profile_banner_url': 'https://pbs.twimg.com/profile_banners/18839785/1559221352', 'profile_link_color': '4E7096', 'profile_sidebar_border_color': 'FFFFFF', 'profile_sidebar_fill_color': 'D5DFED', 'profile_text_color': '233863', 'profile_use_background_image': True, 'has_extended_profile': True, 'default_profile': False, 'default_profile_image': False, 'following': False, 'follow_request_sent': False, 'notifications': False, 'translator_type': 'regular', 'withheld_in_countries': []}, 'geo': None, 'coordinates': None, 'place': None, 'contributors': None, 'is_quote_status': False, 'retweet_count': 1625, 'favorite_count': 9909, 'favorited': False, 'retweeted': False, 'lang': 'en'}, created_at=datetime.datetime(2021, 7, 30, 9, 57, 7), id=1421047193180442624, id_str='1421047193180442624', text='The Batch which appeared for the Class XII Boards this year did so under unprecedented circumstances. \\nThe educatio… https://t.co/uzAvuWPHfe', truncated=True, entities={'hashtags': [], 'symbols': [], 'user_mentions': [], 'urls': [{'url': 'https://t.co/uzAvuWPHfe', 'expanded_url': 'https://twitter.com/i/web/status/1421047193180442624', 'display_url': 'twitter.com/i/web/status/1…', 'indices': [117, 140]}]}, source='Twitter for iPhone', source_url='http://twitter.com/download/iphone', in_reply_to_status_id=None, in_reply_to_status_id_str=None, in_reply_to_user_id=None, in_reply_to_user_id_str=None, in_reply_to_screen_name=None, author=User(_api=<tweepy.api.API object at 0x0000029DF0CC5F98>, _json={'id': 18839785, 'id_str': '18839785', 'name': 'Narendra Modi', 'screen_name': 'narendramodi', 'location': 'India', 'description': 'Prime Minister of India', 'url': 'https://t.co/zzYhUUfq6i', 'entities': {'url': {'urls': [{'url': 'https://t.co/zzYhUUfq6i', 'expanded_url': 'http://www.narendramodi.in', 'display_url': 'narendramodi.in', 'indices': [0, 23]}]}, 'description': {'urls': []}}, 'protected': False, 'followers_count': 70065918, 'friends_count': 2350, 'listed_count': 27443, 'created_at': 'Sat Jan 10 17:18:56 +0000 2009', 'favourites_count': 0, 'utc_offset': None, 'time_zone': None, 'geo_enabled': False, 'verified': True, 'statuses_count': 30232, 'lang': None, 'contributors_enabled': False, 'is_translator': False, 'is_translation_enabled': False, 'profile_background_color': 'F4EDD4', 'profile_background_image_url': 'http://abs.twimg.com/images/themes/theme1/bg.png', 'profile_background_image_url_https': 'https://abs.twimg.com/images/themes/theme1/bg.png', 'profile_background_tile': False, 'profile_image_url': 'http://pbs.twimg.com/profile_images/1249934092994375680/xX66NSZP_normal.jpg', 'profile_image_url_https': 'https://pbs.twimg.com/profile_images/1249934092994375680/xX66NSZP_normal.jpg', 'profile_banner_url': 'https://pbs.twimg.com/profile_banners/18839785/1559221352', 'profile_link_color': '4E7096', 'profile_sidebar_border_color': 'FFFFFF', 'profile_sidebar_fill_color': 'D5DFED', 'profile_text_color': '233863', 'profile_use_background_image': True, 'has_extended_profile': True, 'default_profile': False, 'default_profile_image': False, 'following': False, 'follow_request_sent': False, 'notifications': False, 'translator_type': 'regular', 'withheld_in_countries': []}, id=18839785, id_str='18839785', name='Narendra Modi', screen_name='narendramodi', location='India', description='Prime Minister of India', url='https://t.co/zzYhUUfq6i', entities={'url': {'urls': [{'url': 'https://t.co/zzYhUUfq6i', 'expanded_url': 'http://www.narendramodi.in', 'display_url': 'narendramodi.in', 'indices': [0, 23]}]}, 'description': {'urls': []}}, protected=False, followers_count=70065918, friends_count=2350, listed_count=27443, created_at=datetime.datetime(2009, 1, 10, 17, 18, 56), favourites_count=0, utc_offset=None, time_zone=None, geo_enabled=False, verified=True, statuses_count=30232, lang=None, contributors_enabled=False, is_translator=False, is_translation_enabled=False, profile_background_color='F4EDD4', profile_background_image_url='http://abs.twimg.com/images/themes/theme1/bg.png', profile_background_image_url_https='https://abs.twimg.com/images/themes/theme1/bg.png', profile_background_tile=False, profile_image_url='http://pbs.twimg.com/profile_images/1249934092994375680/xX66NSZP_normal.jpg', profile_image_url_https='https://pbs.twimg.com/profile_images/1249934092994375680/xX66NSZP_normal.jpg', profile_banner_url='https://pbs.twimg.com/profile_banners/18839785/1559221352', profile_link_color='4E7096', profile_sidebar_border_color='FFFFFF', profile_sidebar_fill_color='D5DFED', profile_text_color='233863', profile_use_background_image=True, has_extended_profile=True, default_profile=False, default_profile_image=False, following=False, follow_request_sent=False, notifications=False, translator_type='regular', withheld_in_countries=[]), user=User(_api=<tweepy.api.API object at 0x0000029DF0CC5F98>, _json={'id': 18839785, 'id_str': '18839785', 'name': 'Narendra Modi', 'screen_name': 'narendramodi', 'location': 'India', 'description': 'Prime Minister of India', 'url': 'https://t.co/zzYhUUfq6i', 'entities': {'url': {'urls': [{'url': 'https://t.co/zzYhUUfq6i', 'expanded_url': 'http://www.narendramodi.in', 'display_url': 'narendramodi.in', 'indices': [0, 23]}]}, 'description': {'urls': []}}, 'protected': False, 'followers_count': 70065918, 'friends_count': 2350, 'listed_count': 27443, 'created_at': 'Sat Jan 10 17:18:56 +0000 2009', 'favourites_count': 0, 'utc_offset': None, 'time_zone': None, 'geo_enabled': False, 'verified': True, 'statuses_count': 30232, 'lang': None, 'contributors_enabled': False, 'is_translator': False, 'is_translation_enabled': False, 'profile_background_color': 'F4EDD4', 'profile_background_image_url': 'http://abs.twimg.com/images/themes/theme1/bg.png', 'profile_background_image_url_https': 'https://abs.twimg.com/images/themes/theme1/bg.png', 'profile_background_tile': False, 'profile_image_url': 'http://pbs.twimg.com/profile_images/1249934092994375680/xX66NSZP_normal.jpg', 'profile_image_url_https': 'https://pbs.twimg.com/profile_images/1249934092994375680/xX66NSZP_normal.jpg', 'profile_banner_url': 'https://pbs.twimg.com/profile_banners/18839785/1559221352', 'profile_link_color': '4E7096', 'profile_sidebar_border_color': 'FFFFFF', 'profile_sidebar_fill_color': 'D5DFED', 'profile_text_color': '233863', 'profile_use_background_image': True, 'has_extended_profile': True, 'default_profile': False, 'default_profile_image': False, 'following': False, 'follow_request_sent': False, 'notifications': False, 'translator_type': 'regular', 'withheld_in_countries': []}, id=18839785, id_str='18839785', name='Narendra Modi', screen_name='narendramodi', location='India', description='Prime Minister of India', url='https://t.co/zzYhUUfq6i', entities={'url': {'urls': [{'url': 'https://t.co/zzYhUUfq6i', 'expanded_url': 'http://www.narendramodi.in', 'display_url': 'narendramodi.in', 'indices': [0, 23]}]}, 'description': {'urls': []}}, protected=False, followers_count=70065918, friends_count=2350, listed_count=27443, created_at=datetime.datetime(2009, 1, 10, 17, 18, 56), favourites_count=0, utc_offset=None, time_zone=None, geo_enabled=False, verified=True, statuses_count=30232, lang=None, contributors_enabled=False, is_translator=False, is_translation_enabled=False, profile_background_color='F4EDD4', profile_background_image_url='http://abs.twimg.com/images/themes/theme1/bg.png', profile_background_image_url_https='https://abs.twimg.com/images/themes/theme1/bg.png', profile_background_tile=False, profile_image_url='http://pbs.twimg.com/profile_images/1249934092994375680/xX66NSZP_normal.jpg', profile_image_url_https='https://pbs.twimg.com/profile_images/1249934092994375680/xX66NSZP_normal.jpg', profile_banner_url='https://pbs.twimg.com/profile_banners/18839785/1559221352', profile_link_color='4E7096', profile_sidebar_border_color='FFFFFF', profile_sidebar_fill_color='D5DFED', profile_text_color='233863', profile_use_background_image=True, has_extended_profile=True, default_profile=False, default_profile_image=False, following=False, follow_request_sent=False, notifications=False, translator_type='regular', withheld_in_countries=[]), geo=None, coordinates=None, place=None, contributors=None, is_quote_status=False, retweet_count=1625, favorite_count=9909, favorited=False, retweeted=False, lang='en')"
      ]
     },
     "execution_count": 4,
     "metadata": {},
     "output_type": "execute_result"
    }
   ],
   "source": [
    "#user_timeline():used to access/get 20 tweets of a particular person/twitter user name\n",
    "\n",
    "#Ex: To access the recent 20 tweets of narendramodi\n",
    "\n",
    "tweet=api.user_timeline(screen_name='narendramodi')\n",
    "\n",
    "tweet[0]"
   ]
  },
  {
   "cell_type": "code",
   "execution_count": 5,
   "metadata": {},
   "outputs": [
    {
     "data": {
      "text/plain": [
       "'The Batch which appeared for the Class XII Boards this year did so under unprecedented circumstances. \\nThe educatio… https://t.co/uzAvuWPHfe'"
      ]
     },
     "execution_count": 5,
     "metadata": {},
     "output_type": "execute_result"
    }
   ],
   "source": [
    "#To access tweets in proper manner\n",
    "\n",
    "#If you want to access the actual tweet/message, you can access it using text property\n",
    "\n",
    "#Ex: to print the text information of first tweet\n",
    "\n",
    "tweet[0].text"
   ]
  },
  {
   "cell_type": "code",
   "execution_count": 6,
   "metadata": {},
   "outputs": [
    {
     "data": {
      "text/plain": [
       "'To those who feel they could have worked harder or performed better, I want to say - learn from your experience and… https://t.co/9LvLLAmC98'"
      ]
     },
     "execution_count": 6,
     "metadata": {},
     "output_type": "execute_result"
    }
   ],
   "source": [
    "#Ex: to print the text information of second tweet\n",
    "\n",
    "tweet[1].text\n"
   ]
  },
  {
   "cell_type": "code",
   "execution_count": 11,
   "metadata": {},
   "outputs": [],
   "source": [
    "#To access text information from all 20 tweets\n",
    "temp=[]\n",
    "for t in tweet:\n",
    "    a=t.text\n",
    "    b=t.created_at\n",
    "    j=[a,b]\n",
    "    temp.append(j)"
   ]
  },
  {
   "cell_type": "code",
   "execution_count": 12,
   "metadata": {},
   "outputs": [
    {
     "data": {
      "text/plain": [
       "['The Batch which appeared for the Class XII Boards this year did so under unprecedented circumstances. \\nThe educatio… https://t.co/uzAvuWPHfe',\n",
       " datetime.datetime(2021, 7, 30, 9, 57, 7)]"
      ]
     },
     "execution_count": 12,
     "metadata": {},
     "output_type": "execute_result"
    }
   ],
   "source": [
    "temp[0]"
   ]
  },
  {
   "cell_type": "code",
   "execution_count": 13,
   "metadata": {},
   "outputs": [
    {
     "name": "stdout",
     "output_type": "stream",
     "text": [
      "Actual Tweet: The Batch which appeared for the Class XII Boards this year did so under unprecedented circumstances. \n",
      "The educatio… https://t.co/uzAvuWPHfe\n",
      "Created At: 2021-07-30 09:57:07\n"
     ]
    }
   ],
   "source": [
    "print('Actual Tweet:', temp[0][0])\n",
    "print('Created At:', temp[0][1])"
   ]
  },
  {
   "cell_type": "code",
   "execution_count": 14,
   "metadata": {},
   "outputs": [
    {
     "data": {
      "text/html": [
       "<div>\n",
       "<style scoped>\n",
       "    .dataframe tbody tr th:only-of-type {\n",
       "        vertical-align: middle;\n",
       "    }\n",
       "\n",
       "    .dataframe tbody tr th {\n",
       "        vertical-align: top;\n",
       "    }\n",
       "\n",
       "    .dataframe thead th {\n",
       "        text-align: right;\n",
       "    }\n",
       "</style>\n",
       "<table border=\"1\" class=\"dataframe\">\n",
       "  <thead>\n",
       "    <tr style=\"text-align: right;\">\n",
       "      <th></th>\n",
       "      <th>Tweet</th>\n",
       "      <th>Created_at</th>\n",
       "    </tr>\n",
       "  </thead>\n",
       "  <tbody>\n",
       "    <tr>\n",
       "      <th>0</th>\n",
       "      <td>The Batch which appeared for the Class XII Boa...</td>\n",
       "      <td>2021-07-30 09:57:07</td>\n",
       "    </tr>\n",
       "    <tr>\n",
       "      <th>1</th>\n",
       "      <td>To those who feel they could have worked harde...</td>\n",
       "      <td>2021-07-30 09:56:01</td>\n",
       "    </tr>\n",
       "    <tr>\n",
       "      <th>2</th>\n",
       "      <td>Congratulations to my young friends who have s...</td>\n",
       "      <td>2021-07-30 09:55:35</td>\n",
       "    </tr>\n",
       "    <tr>\n",
       "      <th>3</th>\n",
       "      <td>नई शिक्षा नीति के Formulation से लेकर Implemen...</td>\n",
       "      <td>2021-07-29 13:20:01</td>\n",
       "    </tr>\n",
       "    <tr>\n",
       "      <th>4</th>\n",
       "      <td>I am particularly delighted that the National ...</td>\n",
       "      <td>2021-07-29 13:19:45</td>\n",
       "    </tr>\n",
       "  </tbody>\n",
       "</table>\n",
       "</div>"
      ],
      "text/plain": [
       "                                               Tweet          Created_at\n",
       "0  The Batch which appeared for the Class XII Boa... 2021-07-30 09:57:07\n",
       "1  To those who feel they could have worked harde... 2021-07-30 09:56:01\n",
       "2  Congratulations to my young friends who have s... 2021-07-30 09:55:35\n",
       "3  नई शिक्षा नीति के Formulation से लेकर Implemen... 2021-07-29 13:20:01\n",
       "4  I am particularly delighted that the National ... 2021-07-29 13:19:45"
      ]
     },
     "execution_count": 14,
     "metadata": {},
     "output_type": "execute_result"
    }
   ],
   "source": [
    "import pandas as pd\n",
    "tweet_data=pd.DataFrame(temp, columns=['Tweet', 'Created_at'])\n",
    "tweet_data.head()"
   ]
  },
  {
   "cell_type": "code",
   "execution_count": null,
   "metadata": {},
   "outputs": [],
   "source": [
    "tweet_data.to_csv('e:\\\\tweet_data.csv')"
   ]
  },
  {
   "cell_type": "code",
   "execution_count": null,
   "metadata": {},
   "outputs": [],
   "source": [
    "tweet_pmo=api.user_timeline(screen_name='PMOIndia')\n",
    "\n",
    "#To access text information from all 20 tweets\n",
    "temp1=[]\n",
    "for t in tweet_pmo:\n",
    "    a=t.text\n",
    "    temp1.append(a)\n",
    "\n",
    "temp1[0]\n",
    "\n"
   ]
  },
  {
   "cell_type": "code",
   "execution_count": null,
   "metadata": {},
   "outputs": [],
   "source": [
    "pmo_data=pd.DataFrame(temp1, columns=['Tweet'])\n",
    "pmo_data.head()"
   ]
  },
  {
   "cell_type": "code",
   "execution_count": null,
   "metadata": {},
   "outputs": [],
   "source": [
    "pmo_data.to_csv('e:\\\\pmo_data.txt')"
   ]
  },
  {
   "cell_type": "code",
   "execution_count": null,
   "metadata": {},
   "outputs": [],
   "source": [
    "#Issue\n",
    "#1. HOw to access more than 20 tweets\n",
    "\n",
    "#To solve this isssu, use page parameter in user_timeline()\n",
    "\n",
    "#Page=1, means 20 recent tweets\n",
    "#Page=2, means next 20 tweets\n",
    "\n",
    "#To access 200 tweets i.e. from page 1 to page 10\n",
    "\n",
    "temp=[]\n",
    "\n",
    "for i in range(1,11):\n",
    "    tweet_200=api.user_timeline(screen_name='narendramodi', page=i)\n",
    "    \n",
    "    #To access the tweets in proper format\n",
    "    for t in tweet_200:\n",
    "        temp.append(t.text)\n",
    "\n"
   ]
  },
  {
   "cell_type": "code",
   "execution_count": null,
   "metadata": {},
   "outputs": [],
   "source": [
    "len(temp)"
   ]
  },
  {
   "cell_type": "code",
   "execution_count": null,
   "metadata": {},
   "outputs": [],
   "source": [
    "#creating dataframe and csv\n",
    "\n",
    "df_200=pd.DataFrame(temp, columns=['Tweet'])\n",
    "df_200.to_csv('e:\\\\twitter_data200.csv')"
   ]
  },
  {
   "cell_type": "code",
   "execution_count": null,
   "metadata": {},
   "outputs": [],
   "source": [
    "#Accessing tweets from page 1 to page 19\n",
    "temp1=[]\n",
    "\n",
    "for i in range(1,21):\n",
    "    tweet_300=api.user_timeline(screen_name='narendramodi', page=i)\n",
    "    \n",
    "    #To access the tweets in proper format\n",
    "    for t in tweet_300:\n",
    "        temp1.append(t.text)\n"
   ]
  },
  {
   "cell_type": "code",
   "execution_count": null,
   "metadata": {},
   "outputs": [],
   "source": [
    "len(temp1)"
   ]
  },
  {
   "cell_type": "code",
   "execution_count": null,
   "metadata": {},
   "outputs": [],
   "source": [
    "df_380=pd.DataFrame(temp1, columns=['Tweet'])\n",
    "\n",
    "df_380.to_csv('e:\\\\twitter_data380.csv')"
   ]
  },
  {
   "cell_type": "code",
   "execution_count": null,
   "metadata": {},
   "outputs": [],
   "source": [
    "#Issue 2:\n",
    "#How can you access tweets having a keyword to search all the tweets\n",
    "\n",
    "#To solve this problem, use tweepy.Cursor()\n",
    "#Use this method to search for a particular keyword"
   ]
  },
  {
   "cell_type": "code",
   "execution_count": null,
   "metadata": {},
   "outputs": [],
   "source": [
    "#tweepy.Cursor()\n",
    "temp2=[]\n",
    "for t3 in tweepy.Cursor(api.search, q='#covid19', count=10, since='2021-06-02').items():\n",
    "    temp2.append(t3.text)\n"
   ]
  },
  {
   "cell_type": "code",
   "execution_count": null,
   "metadata": {},
   "outputs": [],
   "source": [
    "temp2[0]"
   ]
  },
  {
   "cell_type": "code",
   "execution_count": null,
   "metadata": {},
   "outputs": [],
   "source": [
    "#api.search:is used to search tweets related to a particular keyword/person\n",
    "\n",
    "#q: specifies the keyword to be search. #is not mandatory\n",
    "\n",
    "#since: the start date to view the tweet\n",
    "\n",
    "#count:number of tweets to view"
   ]
  }
 ],
 "metadata": {
  "kernelspec": {
   "display_name": "Python 3",
   "language": "python",
   "name": "python3"
  },
  "language_info": {
   "codemirror_mode": {
    "name": "ipython",
    "version": 3
   },
   "file_extension": ".py",
   "mimetype": "text/x-python",
   "name": "python",
   "nbconvert_exporter": "python",
   "pygments_lexer": "ipython3",
   "version": "3.7.3"
  }
 },
 "nbformat": 4,
 "nbformat_minor": 2
}
