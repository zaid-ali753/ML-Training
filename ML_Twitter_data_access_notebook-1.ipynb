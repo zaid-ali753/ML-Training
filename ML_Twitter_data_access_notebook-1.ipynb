{
 "cells": [
  {
   "cell_type": "code",
   "execution_count": null,
   "metadata": {},
   "outputs": [],
   "source": [
    "#To install tweepy\n",
    "\n",
    "#Open anaconda prompt\n",
    "\n",
    "# and, type\n",
    "\n",
    "#pip install tweepy\n",
    "!pip install tweepy"
   ]
  },
  {
   "cell_type": "code",
   "execution_count": 1,
   "metadata": {},
   "outputs": [],
   "source": [
    "#Accessing twitter data\n",
    "#tweepy pkg is used to access the twitter data using twitter api\n",
    "\n",
    "import tweepy"
   ]
  },
  {
   "cell_type": "code",
   "execution_count": 2,
   "metadata": {},
   "outputs": [],
   "source": [
    "#OAuthHandler(): used for authorization to consumer key and consumer secret key\n",
    "#Synatx: auth=tweepy.OAuthHandler(Consumer_key, Consumer_secret_key)\n",
    "\n",
    "auth=tweepy.OAuthHandler('nVpXmYVAz032hvT6AR1p3t38w', '9ni0vTLiwjN7zbps437myF6FM44oWakVxjoWb7CT4reLxDyBIw')\n",
    "\n",
    "#To access the tweets from twitter, use set_access_token()\n",
    "#auth.set_access_token(Access_key, Access_secret_key)\n",
    "\n",
    "#where auth is the object of the OAuthhandler()\n",
    "\n",
    "auth.set_access_token('1013784612701495298-9v0PZVxki1M79m05tuDYKSozgCMl2s', 'ptaZQsAL6rcZMnBubglmoSMZQVSB1VBaBSq09tLzBgZoh')\n",
    "\n",
    "#Internet is required to run this program"
   ]
  },
  {
   "cell_type": "code",
   "execution_count": 3,
   "metadata": {},
   "outputs": [],
   "source": [
    "#tweepy.API(): used to access the tweets from the twitter server using your consumer key and access key\n",
    "\n",
    "api=tweepy.API(auth, wait_on_rate_limit=True)\n",
    "\n",
    "#api is the most important object to access the data from twitter server\n"
   ]
  },
  {
   "cell_type": "code",
   "execution_count": 5,
   "metadata": {},
   "outputs": [
    {
     "data": {
      "text/plain": [
       "Status(_api=<tweepy.api.API object at 0x000001A203123CD0>, _json={'created_at': 'Mon Jul 19 06:53:31 +0000 2021', 'id': 1417014724529590274, 'id_str': '1417014724529590274', 'text': 'I’m in the running to win the new @Nothing ear (1) thanks to @technicalguruji! Tune in to the Launch Event on 27 Ju… https://t.co/0nKLJljeFq', 'truncated': True, 'entities': {'hashtags': [], 'symbols': [], 'user_mentions': [{'screen_name': 'nothing', 'name': 'Nothing', 'id': 1348211074429030400, 'id_str': '1348211074429030400', 'indices': [34, 42]}, {'screen_name': 'TechnicalGuruji', 'name': 'Gaurav Chaudhary', 'id': 3992637442, 'id_str': '3992637442', 'indices': [61, 77]}], 'urls': [{'url': 'https://t.co/0nKLJljeFq', 'expanded_url': 'https://twitter.com/i/web/status/1417014724529590274', 'display_url': 'twitter.com/i/web/status/1…', 'indices': [117, 140]}]}, 'source': '<a href=\"https://mobile.twitter.com\" rel=\"nofollow\">Twitter Web App</a>', 'in_reply_to_status_id': None, 'in_reply_to_status_id_str': None, 'in_reply_to_user_id': None, 'in_reply_to_user_id_str': None, 'in_reply_to_screen_name': None, 'user': {'id': 1013784612701495298, 'id_str': '1013784612701495298', 'name': 'Shubham Luxkar', 'screen_name': 'LuxkarShubham', 'location': 'Kota, India', 'description': \"😉😉😉   Lover of Speed.\\n\\nIf everything seems under control, you're not going fast enough.\", 'url': None, 'entities': {'description': {'urls': []}}, 'protected': False, 'followers_count': 18, 'friends_count': 112, 'listed_count': 0, 'created_at': 'Mon Jul 02 14:01:01 +0000 2018', 'favourites_count': 1164, 'utc_offset': None, 'time_zone': None, 'geo_enabled': False, 'verified': False, 'statuses_count': 343, 'lang': None, 'contributors_enabled': False, 'is_translator': False, 'is_translation_enabled': False, 'profile_background_color': 'F5F8FA', 'profile_background_image_url': None, 'profile_background_image_url_https': None, 'profile_background_tile': False, 'profile_image_url': 'http://pbs.twimg.com/profile_images/1198425432376270848/9Zu2ouFG_normal.jpg', 'profile_image_url_https': 'https://pbs.twimg.com/profile_images/1198425432376270848/9Zu2ouFG_normal.jpg', 'profile_banner_url': 'https://pbs.twimg.com/profile_banners/1013784612701495298/1530845846', 'profile_link_color': '1DA1F2', 'profile_sidebar_border_color': 'C0DEED', 'profile_sidebar_fill_color': 'DDEEF6', 'profile_text_color': '333333', 'profile_use_background_image': True, 'has_extended_profile': True, 'default_profile': True, 'default_profile_image': False, 'following': False, 'follow_request_sent': False, 'notifications': False, 'translator_type': 'none', 'withheld_in_countries': []}, 'geo': None, 'coordinates': None, 'place': None, 'contributors': None, 'is_quote_status': False, 'retweet_count': 0, 'favorite_count': 0, 'favorited': False, 'retweeted': False, 'possibly_sensitive': False, 'lang': 'en'}, created_at=datetime.datetime(2021, 7, 19, 6, 53, 31), id=1417014724529590274, id_str='1417014724529590274', text='I’m in the running to win the new @Nothing ear (1) thanks to @technicalguruji! Tune in to the Launch Event on 27 Ju… https://t.co/0nKLJljeFq', truncated=True, entities={'hashtags': [], 'symbols': [], 'user_mentions': [{'screen_name': 'nothing', 'name': 'Nothing', 'id': 1348211074429030400, 'id_str': '1348211074429030400', 'indices': [34, 42]}, {'screen_name': 'TechnicalGuruji', 'name': 'Gaurav Chaudhary', 'id': 3992637442, 'id_str': '3992637442', 'indices': [61, 77]}], 'urls': [{'url': 'https://t.co/0nKLJljeFq', 'expanded_url': 'https://twitter.com/i/web/status/1417014724529590274', 'display_url': 'twitter.com/i/web/status/1…', 'indices': [117, 140]}]}, source='Twitter Web App', source_url='https://mobile.twitter.com', in_reply_to_status_id=None, in_reply_to_status_id_str=None, in_reply_to_user_id=None, in_reply_to_user_id_str=None, in_reply_to_screen_name=None, author=User(_api=<tweepy.api.API object at 0x000001A203123CD0>, _json={'id': 1013784612701495298, 'id_str': '1013784612701495298', 'name': 'Shubham Luxkar', 'screen_name': 'LuxkarShubham', 'location': 'Kota, India', 'description': \"😉😉😉   Lover of Speed.\\n\\nIf everything seems under control, you're not going fast enough.\", 'url': None, 'entities': {'description': {'urls': []}}, 'protected': False, 'followers_count': 18, 'friends_count': 112, 'listed_count': 0, 'created_at': 'Mon Jul 02 14:01:01 +0000 2018', 'favourites_count': 1164, 'utc_offset': None, 'time_zone': None, 'geo_enabled': False, 'verified': False, 'statuses_count': 343, 'lang': None, 'contributors_enabled': False, 'is_translator': False, 'is_translation_enabled': False, 'profile_background_color': 'F5F8FA', 'profile_background_image_url': None, 'profile_background_image_url_https': None, 'profile_background_tile': False, 'profile_image_url': 'http://pbs.twimg.com/profile_images/1198425432376270848/9Zu2ouFG_normal.jpg', 'profile_image_url_https': 'https://pbs.twimg.com/profile_images/1198425432376270848/9Zu2ouFG_normal.jpg', 'profile_banner_url': 'https://pbs.twimg.com/profile_banners/1013784612701495298/1530845846', 'profile_link_color': '1DA1F2', 'profile_sidebar_border_color': 'C0DEED', 'profile_sidebar_fill_color': 'DDEEF6', 'profile_text_color': '333333', 'profile_use_background_image': True, 'has_extended_profile': True, 'default_profile': True, 'default_profile_image': False, 'following': False, 'follow_request_sent': False, 'notifications': False, 'translator_type': 'none', 'withheld_in_countries': []}, id=1013784612701495298, id_str='1013784612701495298', name='Shubham Luxkar', screen_name='LuxkarShubham', location='Kota, India', description=\"😉😉😉   Lover of Speed.\\n\\nIf everything seems under control, you're not going fast enough.\", url=None, entities={'description': {'urls': []}}, protected=False, followers_count=18, friends_count=112, listed_count=0, created_at=datetime.datetime(2018, 7, 2, 14, 1, 1), favourites_count=1164, utc_offset=None, time_zone=None, geo_enabled=False, verified=False, statuses_count=343, lang=None, contributors_enabled=False, is_translator=False, is_translation_enabled=False, profile_background_color='F5F8FA', profile_background_image_url=None, profile_background_image_url_https=None, profile_background_tile=False, profile_image_url='http://pbs.twimg.com/profile_images/1198425432376270848/9Zu2ouFG_normal.jpg', profile_image_url_https='https://pbs.twimg.com/profile_images/1198425432376270848/9Zu2ouFG_normal.jpg', profile_banner_url='https://pbs.twimg.com/profile_banners/1013784612701495298/1530845846', profile_link_color='1DA1F2', profile_sidebar_border_color='C0DEED', profile_sidebar_fill_color='DDEEF6', profile_text_color='333333', profile_use_background_image=True, has_extended_profile=True, default_profile=True, default_profile_image=False, following=False, follow_request_sent=False, notifications=False, translator_type='none', withheld_in_countries=[]), user=User(_api=<tweepy.api.API object at 0x000001A203123CD0>, _json={'id': 1013784612701495298, 'id_str': '1013784612701495298', 'name': 'Shubham Luxkar', 'screen_name': 'LuxkarShubham', 'location': 'Kota, India', 'description': \"😉😉😉   Lover of Speed.\\n\\nIf everything seems under control, you're not going fast enough.\", 'url': None, 'entities': {'description': {'urls': []}}, 'protected': False, 'followers_count': 18, 'friends_count': 112, 'listed_count': 0, 'created_at': 'Mon Jul 02 14:01:01 +0000 2018', 'favourites_count': 1164, 'utc_offset': None, 'time_zone': None, 'geo_enabled': False, 'verified': False, 'statuses_count': 343, 'lang': None, 'contributors_enabled': False, 'is_translator': False, 'is_translation_enabled': False, 'profile_background_color': 'F5F8FA', 'profile_background_image_url': None, 'profile_background_image_url_https': None, 'profile_background_tile': False, 'profile_image_url': 'http://pbs.twimg.com/profile_images/1198425432376270848/9Zu2ouFG_normal.jpg', 'profile_image_url_https': 'https://pbs.twimg.com/profile_images/1198425432376270848/9Zu2ouFG_normal.jpg', 'profile_banner_url': 'https://pbs.twimg.com/profile_banners/1013784612701495298/1530845846', 'profile_link_color': '1DA1F2', 'profile_sidebar_border_color': 'C0DEED', 'profile_sidebar_fill_color': 'DDEEF6', 'profile_text_color': '333333', 'profile_use_background_image': True, 'has_extended_profile': True, 'default_profile': True, 'default_profile_image': False, 'following': False, 'follow_request_sent': False, 'notifications': False, 'translator_type': 'none', 'withheld_in_countries': []}, id=1013784612701495298, id_str='1013784612701495298', name='Shubham Luxkar', screen_name='LuxkarShubham', location='Kota, India', description=\"😉😉😉   Lover of Speed.\\n\\nIf everything seems under control, you're not going fast enough.\", url=None, entities={'description': {'urls': []}}, protected=False, followers_count=18, friends_count=112, listed_count=0, created_at=datetime.datetime(2018, 7, 2, 14, 1, 1), favourites_count=1164, utc_offset=None, time_zone=None, geo_enabled=False, verified=False, statuses_count=343, lang=None, contributors_enabled=False, is_translator=False, is_translation_enabled=False, profile_background_color='F5F8FA', profile_background_image_url=None, profile_background_image_url_https=None, profile_background_tile=False, profile_image_url='http://pbs.twimg.com/profile_images/1198425432376270848/9Zu2ouFG_normal.jpg', profile_image_url_https='https://pbs.twimg.com/profile_images/1198425432376270848/9Zu2ouFG_normal.jpg', profile_banner_url='https://pbs.twimg.com/profile_banners/1013784612701495298/1530845846', profile_link_color='1DA1F2', profile_sidebar_border_color='C0DEED', profile_sidebar_fill_color='DDEEF6', profile_text_color='333333', profile_use_background_image=True, has_extended_profile=True, default_profile=True, default_profile_image=False, following=False, follow_request_sent=False, notifications=False, translator_type='none', withheld_in_countries=[]), geo=None, coordinates=None, place=None, contributors=None, is_quote_status=False, retweet_count=0, favorite_count=0, favorited=False, retweeted=False, possibly_sensitive=False, lang='en')"
      ]
     },
     "execution_count": 5,
     "metadata": {},
     "output_type": "execute_result"
    }
   ],
   "source": [
    "#user_timeline():used to access/get 20 tweets of a particular person/twitter user name\n",
    "\n",
    "#Ex: To access the recent 20 tweets of narendramodi\n",
    "\n",
    "tweet=api.user_timeline(screen_name='LuxkarShubham')\n",
    "\n",
    "tweet[0]"
   ]
  },
  {
   "cell_type": "code",
   "execution_count": null,
   "metadata": {},
   "outputs": [],
   "source": [
    "#To access tweets in proper manner\n",
    "\n",
    "#If you want to access the actual tweet/message, you can access it using text property\n",
    "\n",
    "#Ex: to print the text information of first tweet\n",
    "\n",
    "tweet[0].text"
   ]
  },
  {
   "cell_type": "code",
   "execution_count": null,
   "metadata": {},
   "outputs": [],
   "source": [
    "#Ex: to print the text information of second tweet\n",
    "\n",
    "tweet[1].text\n"
   ]
  },
  {
   "cell_type": "code",
   "execution_count": null,
   "metadata": {},
   "outputs": [],
   "source": [
    "#To access text information from all 20 tweets\n",
    "temp=[]\n",
    "for t in tweet:\n",
    "    a=t.text\n",
    "    b=t.created_at\n",
    "    j=[a,b]\n",
    "    temp.append(j)"
   ]
  },
  {
   "cell_type": "code",
   "execution_count": null,
   "metadata": {},
   "outputs": [],
   "source": [
    "temp[0]"
   ]
  },
  {
   "cell_type": "code",
   "execution_count": null,
   "metadata": {},
   "outputs": [],
   "source": [
    "print('Actual Tweet:', temp[0][0])\n",
    "print('Created At:', temp[0][1])"
   ]
  },
  {
   "cell_type": "code",
   "execution_count": null,
   "metadata": {},
   "outputs": [],
   "source": [
    "import pandas as pd\n",
    "tweet_data=pd.DataFrame(temp, columns=['Tweet', 'Created_at'])\n",
    "tweet_data.head()"
   ]
  },
  {
   "cell_type": "code",
   "execution_count": null,
   "metadata": {},
   "outputs": [],
   "source": [
    "tweet_data.to_csv('D:\\\\Projects\\\\Machine Learning By NIELIT\\\\tweet_data.csv')"
   ]
  },
  {
   "cell_type": "code",
   "execution_count": null,
   "metadata": {},
   "outputs": [],
   "source": [
    "tweet_pmo=api.user_timeline(screen_name='PMOIndia')\n",
    "\n",
    "#To access text information from all 20 tweets\n",
    "temp1=[]\n",
    "for t in tweet_pmo:\n",
    "    a=t.text\n",
    "    temp1.append(a)\n",
    "\n",
    "temp1[0]\n",
    "\n"
   ]
  },
  {
   "cell_type": "code",
   "execution_count": null,
   "metadata": {},
   "outputs": [],
   "source": [
    "pmo_data=pd.DataFrame(temp1, columns=['Tweet'])\n",
    "pmo_data.head()"
   ]
  },
  {
   "cell_type": "code",
   "execution_count": null,
   "metadata": {},
   "outputs": [],
   "source": [
    "pmo_data.to_csv('D:\\\\Projects\\\\Machine Learning By NIELIT\\\\pmo_data.txt')"
   ]
  },
  {
   "cell_type": "code",
   "execution_count": null,
   "metadata": {},
   "outputs": [],
   "source": [
    "#Issue\n",
    "#1. HOw to access more than 20 tweets\n",
    "\n",
    "#To solve this isssu, use page parameter in user_timeline()\n",
    "\n",
    "#Page=1, means 20 recent tweets\n",
    "#Page=2, means next 20 tweets\n",
    "\n",
    "#To access 200 tweets i.e. from page 1 to page 10\n",
    "\n",
    "temp=[]\n",
    "\n",
    "for i in range(1,11):\n",
    "    tweet_200=api.user_timeline(screen_name='narendramodi', page=i)\n",
    "    \n",
    "    #To access the tweets in proper format\n",
    "    for t in tweet_200:\n",
    "        temp.append(t.text)\n",
    "\n"
   ]
  },
  {
   "cell_type": "code",
   "execution_count": null,
   "metadata": {},
   "outputs": [],
   "source": [
    "len(temp)"
   ]
  },
  {
   "cell_type": "code",
   "execution_count": null,
   "metadata": {},
   "outputs": [],
   "source": [
    "#creating dataframe and csv\n",
    "\n",
    "df_200=pd.DataFrame(temp, columns=['Tweet'])\n",
    "df_200.to_csv('D:\\\\Projects\\\\Machine Learning By NIELIT\\\\twitter_data200.csv')"
   ]
  },
  {
   "cell_type": "code",
   "execution_count": null,
   "metadata": {},
   "outputs": [],
   "source": [
    "#Accessing tweets from page 1 to page 19\n",
    "temp1=[]\n",
    "\n",
    "for i in range(1,21):\n",
    "    tweet_300=api.user_timeline(screen_name='narendramodi', page=i)\n",
    "    \n",
    "    #To access the tweets in proper format\n",
    "    for t in tweet_300:\n",
    "        temp1.append(t.text)\n"
   ]
  },
  {
   "cell_type": "code",
   "execution_count": null,
   "metadata": {},
   "outputs": [],
   "source": [
    "len(temp1)"
   ]
  },
  {
   "cell_type": "code",
   "execution_count": null,
   "metadata": {},
   "outputs": [],
   "source": [
    "df_380=pd.DataFrame(temp1, columns=['Tweet'])\n",
    "\n",
    "df_380.to_csv('e:\\\\twitter_data380.csv')"
   ]
  },
  {
   "cell_type": "code",
   "execution_count": null,
   "metadata": {},
   "outputs": [],
   "source": [
    "#Issue 2:\n",
    "#How can you access tweets having a keyword to search all the tweets\n",
    "\n",
    "#To solve this problem, use tweepy.Cursor()\n",
    "#Use this method to search for a particular keyword"
   ]
  },
  {
   "cell_type": "code",
   "execution_count": 10,
   "metadata": {},
   "outputs": [],
   "source": [
    "#tweepy.Cursor()\n",
    "temp2=[]\n",
    "for t3 in tweepy.Cursor(api.search, q=\"#covid19\", lang=\"en\", since='2020-10-06').items(100):\n",
    "    temp2.append(t3.text)\n"
   ]
  },
  {
   "cell_type": "code",
   "execution_count": 12,
   "metadata": {},
   "outputs": [
    {
     "data": {
      "text/plain": [
       "['RT @KenPaxtonTX: Breaking: Biden DOJ sues Texas for protecting it’s citizens. Texans will be protected on my watch! #Biden #DOJ #COVID19 #B…',\n",
       " 'RT @katdv2020: Diversity makes America!. DV lottery fiscal year 2020 &amp; 2021 deserve another chance. Covid is not their fault. They did ever…',\n",
       " '@SmithsonianMag I wonder if #covid19 has something to do with this because in India people who got it were deceptiv… https://t.co/C8fAdCXSht',\n",
       " \"RT @NassimKhadem: Has @Qantas used #COVID19 as a cover to sack workers? Court says yes. That outsourcing 2000 jobs wasn't primarily motivat…\",\n",
       " \"RT @parthpunter: Happy to share I have received a grant from the Pulitzer Center (@pulitzercenter) for a series of stories I'm reporting fr…\",\n",
       " 'RT @james_powditch: @PaulBongiorno Dear @ScottMorrisonMP as those held hostage to your vaccine fuck up, unlike Stockholm Syndrome, there is…',\n",
       " 'RT @pmonies: NEW by @tbrownOKC: As Other Governors Pull Out Vaccine Media Blitz, Oklahoma’s @GovStitt Largely Silent https://t.co/HCWiMJRR7…',\n",
       " \"RT @WNC_Politico: Cases of #COVID19 are surging in #NC11. On the graphic below light blue denotes fewer cases than dark blue. (And I'm not…\",\n",
       " 'RT @ArlenWms: \"Registered Nurse - A Covid Vaccination Catastrophe Is Being Covered Up\" #Baltimore #Maryland\\n@MariaBartiromo @SenRonJohnson…',\n",
       " 'RT @CaStateGuard: If you want to share your proof of vaccination, you can retrieve your Digital COVID-19 Vaccine Record, an electronic vacc…',\n",
       " 'We thank Shri Pema Khandu for his appreciation. Our commitment towards the collective response to the COVID-19 pand… https://t.co/D9VKX6K5yp',\n",
       " '#Latest\\nDGCA extends ban on international flights till August 31.\\nRead more: https://t.co/WjDSd3i6H5\\n\\n#India… https://t.co/HiwjcGFN1U',\n",
       " 'Government workers can be required to get vaccinated against #covid19, too, legal experts say https://t.co/ug7OMCmYzo via @nbcnews #vaccines',\n",
       " 'Pin Code:[411060] \\nPMC G Bhangire Hospital\\nVaccines: COVAXIN,\\nMin Age Limit: [18],\\nDose1 Capacity: 0,\\nDose2 Capacit… https://t.co/zgQcOWICXD',\n",
       " 'Pin Code:[411005] \\nPMC P Mjm Hospital (manohar J)\\nVaccines: COVISHIELD,\\nMin Age Limit: [18],\\nDose1 Capacity: 82,\\nDo… https://t.co/5CNczhJvVx',\n",
       " 'RT @ozrevive: So healthy careworkers took care of the sick, are still healthy, despite being around the sick, but now fired for not complyi…',\n",
       " 'Pin Code:[411007] \\nPMC P Kotbagi Hospital\\nVaccines: COVISHIELD,\\nMin Age Limit: [45,18],\\nDose1 Capacity: 99,82,100,9… https://t.co/xTxdvG23GD',\n",
       " 'RT @armyspoke_news: 🍎🍊The 4th Army Area visited mangosteen farmers in Khun Talay, Lan Saka District, Nakhon Si Thammarat to encourage them…',\n",
       " 'RT @NST_Online: #NSTnation AS the world grapples with #Covid19 and businesses take measures to ensure survivability post pandemic, it is ev…',\n",
       " 'RT @DrEricDing: The reigning Florida of America… is still… Florida. If no mask or mitigation, then FL is headed towards a burn 🔥 through. T…',\n",
       " 'RT @armyspoke_news: 🚌Army Volunteers, the 9th Infantry Division helped 36 hearing-impaired people by picking-up and facilitating them from…',\n",
       " 'RT @IFEX: In #Uzbekistan blogger Miraziz Bazarov was harassed after publishing a letter on alleged corruption related to #COVID19 funds. @W…',\n",
       " 'RT @DrLeanaWen: The right conclusion is that the vaccinated can become infected &amp; can transmit #covid19.\\n\\nThe wrong conclusion is that the…',\n",
       " 'RT @armyspoke_news: 🍇Army Volunteers, Burapha Force, helped farmers by harvesting produce and purchasing 167 kg of longan from a longan pla…',\n",
       " 'RT @qldhealthnews: Queensland #COVID19 update 31/07/21 \\n\\nToday we have recorded 7 new cases of COVID-19.\\n\\n6 cases were locally acquired and…',\n",
       " 'RT @Laurie_Garrett: Every infectious diseases doctor I know is getting swamped suddenly with #COVID19 cases --- including vaccinated folks.…',\n",
       " 'RT @juliaioffe: I would just like to point out that the photo accompanying this story about repentant anti-vaxxers shows two people INSIDE…',\n",
       " 'RT @DrEricDing: The reigning Florida of America… is still… Florida. If no mask or mitigation, then FL is headed towards a burn 🔥 through. T…',\n",
       " 'RT @DrEricDing: The reigning Florida of America… is still… Florida. If no mask or mitigation, then FL is headed towards a burn 🔥 through. T…',\n",
       " 'RT @JewishNewsUSA: ISRAEL LEADS THE WAY! \\n\\nIsraeli President Isaac Herzog, 60, along with his wife Michal, were among the first to receive…',\n",
       " 'RT @OliviaTroye: There is no excuse for your ongoing negligent behavior. As Republican officials-@HouseGOP-you know better. Your actions ar…',\n",
       " 'RT @OliviaTroye: There is no excuse for your ongoing negligent behavior. As Republican officials-@HouseGOP-you know better. Your actions ar…',\n",
       " 'RT @OslerHealth: During the third wave, we saw some of the highest numbers of #COVID19 in Ontario.\\n\\nAcross the province, 36 hospitals graci…',\n",
       " 'RT @juliaioffe: I would just like to point out that the photo accompanying this story about repentant anti-vaxxers shows two people INSIDE…',\n",
       " 'RT @DrEricDing: The reigning Florida of America… is still… Florida. If no mask or mitigation, then FL is headed towards a burn 🔥 through. T…',\n",
       " 'RT @Jim_Jordan: President Biden said he’d defeat #COVID19. \\n\\nHe’s failed. \\n\\nAnd now his team’s flip flopping on masks.\\n\\nAmericans are tired…',\n",
       " 'https://t.co/ODjOh328FH\\n#Eye #scan could determine which #COVID19  patients could struggle with #symptoms\\n#CCPVirus #takedowntheccp',\n",
       " 'Pin Code:[412208] \\nRurP/SHI/Phc Tale/Surya Hosp.\\nVaccines: COVISHIELD,\\nMin Age Limit: [18],\\nDose1 Capacity: 91,\\nDos… https://t.co/4N8xhb9DHJ',\n",
       " 'RT @albd1971: #Bangladesh to allow 18-year-olds to register for #Covid19 #vaccines from August 8; earlier\\xa0the @albd1971 Govt. lowered the #…',\n",
       " '.@JoeBiden and his administration should “leak” that they secretly want Republican Trump supporters to *not* to get… https://t.co/qDyDWauxPD',\n",
       " 'RT @PravitR: Breaking new high on both dearhs &amp; infections over the past 24 hrs: 178 deaths &amp; 18,912 new infections.  #Thailand #WhatsHappe…',\n",
       " 'RT @juliaioffe: I would just like to point out that the photo accompanying this story about repentant anti-vaxxers shows two people INSIDE…',\n",
       " 'RT @OliviaTroye: There is no excuse for your ongoing negligent behavior. As Republican officials-@HouseGOP-you know better. Your actions ar…',\n",
       " 'RT @MalayalamReview: Yesterday Kerala Reported 20k+ Cases From 1.5L Tests &amp; UP Reported 37 Cases From 2.4L Tests!!!\\n\\nWhat went wrong here??…',\n",
       " 'RT @CDCgov: CDC recommends people in areas with substantial or high #COVID19 spread wear a mask in public indoor settings, even if fully va…',\n",
       " \".@smithc902 @GregMercerGlobe @Pam_Palmater @alexboutilier @IreneGentle @ian_wayne @AndreaPLFN Let's just say,… https://t.co/IurgKc60kF\",\n",
       " 'RT @DukeHealth: Duke Healthcare Preparedness Coalition &amp; Partners deliver #COVID19 vaccines to the homeless, home-bound and those without p…',\n",
       " 'RT @DrEricDing: ⚠️’CANARY IN COALMINE’ mega outbreak. Many large public events in Massachusetts town in early July led to 469 #COVID19 case…',\n",
       " 'RT @armyspoke_news: https://t.co/oQd6vCnVPz\\n\\n💂\\u200d♀️RTA mobilizes support for the measures in Regulation No.28 to carry out the missions, espe…',\n",
       " 'Japan records highest #COVID19 daily case number, a foreseeable disaster \\nWorld Socialist Web Site @wsws_updates https://t.co/15hru2tl9B',\n",
       " 'Pin Code:[411026] \\nPCMC Indrayaninagar Krida Sank\\nVaccines: COVISHIELD,\\nMin Age Limit: [18],\\nDose1 Capacity: 1,\\nDos… https://t.co/ibhzBLiTii',\n",
       " 'RT @ToddJeffries: If you’ve fully recovered from #COVID19 …and have natural immunity … then why would you inject the experimental synthetic…',\n",
       " 'RT @armyspoke_news: 🍎🍊The 4th Army Area visited mangosteen farmers in Khun Talay, Lan Saka District, Nakhon Si Thammarat to encourage them…',\n",
       " 'RT @DrEricDing: The reigning Florida of America… is still… Florida. If no mask or mitigation, then FL is headed towards a burn 🔥 through. T…',\n",
       " 'RT @DrEricDing: The “HOLY MOTHER OF GOD” tweet was exactly 1 year ago today. \\n\\nFor those who have been with me this past year, I hope and p…',\n",
       " '#BREAKING : #Odisha reports 1578 new #COVID19 cases. In quarantine: 915 ; Local contacts: 663 https://t.co/tnWg4dNGla',\n",
       " 'RT @PravitR: Breaking new high on both dearhs &amp; infections over the past 24 hrs: 178 deaths &amp; 18,912 new infections.  #Thailand #WhatsHappe…',\n",
       " 'RT @KenPaxtonTX: Breaking: Biden DOJ sues Texas for protecting it’s citizens. Texans will be protected on my watch! #Biden #DOJ #COVID19 #B…',\n",
       " \"RT @MamalehTrumpOG: #Wuhan, my lily-white ass!  I'm sure #COVID19 was created by @GregAbbott_TX &amp; @RonDeSantisFL in a backwoods swamp cabin…\",\n",
       " 'RT @dabeard: Andrew Do fled Communism, coming to the US 46 years ago.\\nHe rose to become to lead the Orange County board of supervisors, ove…',\n",
       " 'RT @DrEricDing: The reigning Florida of America… is still… Florida. If no mask or mitigation, then FL is headed towards a burn 🔥 through. T…',\n",
       " 'RT @DrEricDing: ⚠️’CANARY IN COALMINE’ mega outbreak. Many large public events in Massachusetts town in early July led to 469 #COVID19 case…',\n",
       " 'RT @juliaioffe: I would just like to point out that the photo accompanying this story about repentant anti-vaxxers shows two people INSIDE…',\n",
       " 'Okay OKLAHOMA! Keep in mind that there’s not a chance in Hell that they’re reporting all the cases. Maybe, but it’s… https://t.co/HaDuDB7SR3',\n",
       " 'The uncontrolled outbreak of #COVID19 in Myanmar is increasing the daily nationwide death toll in #Myanmar, jeopard… https://t.co/M84i2i3o4c',\n",
       " 'RT @ltgrusselhonore: Boy listening to @chucktodd , it’s the government fault the folks are not taking the #COVID19 Vaccine. Winning this ba…',\n",
       " 'RT @OliviaTroye: The messengers that turned fighting the #COVID19  pandemic into a politically divisive issue in 2020 were putting your liv…',\n",
       " 'The state reported 16,038 new daily cases on Wednesday, the highest since January. #Florida #COVID19 #COVID \\nhttps://t.co/9TlORpYekf',\n",
       " '@ANZ_AU You say you\\'re \"here to help\" because of the recent lockdowns, yet you still hit people with outdated accou… https://t.co/0e5QRjrGoo',\n",
       " 'RT @hbdsofficial: #hyderabad\\n\\nSuraj\\n2 units A-ve #blood NEEDED\\nCare Hospital, Nampally\\n9000191983\\n@swachhhyd @BloodDonorWorld @BloodAid @Bl…',\n",
       " 'RT @SusanSchutte2: Carrison “Ox” Oxendine, 30, beloved son, family member, friend, Winston-Salem, NC, died of #COVID19 on July 25, 2021. He…',\n",
       " 'RT @juliaioffe: I would just like to point out that the photo accompanying this story about repentant anti-vaxxers shows two people INSIDE…',\n",
       " 'RT @juliaioffe: I would just like to point out that the photo accompanying this story about repentant anti-vaxxers shows two people INSIDE…',\n",
       " 'RT @DrEricDing: The reigning Florida of America… is still… Florida. If no mask or mitigation, then FL is headed towards a burn 🔥 through. T…',\n",
       " 'Pin Code:[411041] \\nRurP/HAV/PHCKhadak/Navale Medi\\nVaccines: COVISHIELD,\\nMin Age Limit: [18,45],\\nDose1 Capacity: 26,… https://t.co/ZtKhFm7h08',\n",
       " 'RT @arkmedic: Finally a brave journalist stands up to highlight the lies that #KerryChant and the NSW govt have told.\\n\\nThe Adriana Takara s…',\n",
       " 'RT @levparnas: I know @GovRonDeSantis. I’m sad to say I helped him get elected. His response to the #COVID19 crisis has been utterly distur…',\n",
       " 'RT @armyspoke_news: 🏥The Army Engineer Department has set up 3 Army Field Hospitals and a Field Hospital Screening Center to support the go…',\n",
       " 'RT @PIBFactCheck: A news report has published #Misleading headline &amp; claimed that Biological E has been denied permission for its #COVID19…',\n",
       " 'RT @AJOG_thegray: #Preeclampsia and #COVID19: results from the INTERCOVID prospective longitudinal study ratio https://t.co/eqijCkTUIN http…',\n",
       " 'RT @PravitR: Breaking new high on both dearhs &amp; infections over the past 24 hrs: 178 deaths &amp; 18,912 new infections.  #Thailand #WhatsHappe…',\n",
       " 'RT @GOPPollAnalyst: “The typical mask you buy at a drugstore is not really effective in keeping out virus, which is small enough to pass th…',\n",
       " 'RT @Jim_Jordan: President Biden said he’d defeat #COVID19. \\n\\nHe’s failed. \\n\\nAnd now his team’s flip flopping on masks.\\n\\nAmericans are tired…',\n",
       " 'RT @juliaioffe: I would just like to point out that the photo accompanying this story about repentant anti-vaxxers shows two people INSIDE…',\n",
       " \"RT @ABSCBNNews: Friday's additional COVID-19 infections highest in more than 2 months; Metro Manila to return to ECQ\\n\\nDAY 504. Here are the…\",\n",
       " 'RT @SpokespersonCHN: In order to shift its responsibility in poor #COVID19 response, the #US has been busy with politicization, stigmatizat…',\n",
       " 'RT @EpochTimes: House Republicans are pushing the Biden administration to disclose how many #IllegalAliens who cross at the US #Border are…',\n",
       " 'RT @PravitR: Breaking new high on both dearhs &amp; infections over the past 24 hrs: 178 deaths &amp; 18,912 new infections.  #Thailand #WhatsHappe…',\n",
       " 'Queensland announces three-day lockdown https://t.co/upmdxhF3lb #Australia #Queensland #3Day #Lockdown #Coronavirus #Covid19',\n",
       " 'RT @DrEricDing: The reigning Florida of America… is still… Florida. If no mask or mitigation, then FL is headed towards a burn 🔥 through. T…',\n",
       " \"RT @AWokeZombie: #NY #COVID19 The media better cool its jets blaming the south and vaxx rates for increasing cases... There's something und…\",\n",
       " 'RT @VoiceofPD: Nine questions regarding #COVID19 the #US should answer (3/3)\\n#COVID19Origin #FortDetrick #lableak @WHO https://t.co/NSpbwLU…',\n",
       " 'All of us can be safe - together \\n#vaccine #கோவிட்19 #victoriantamils #vaccinevoices #victoria #vichealth… https://t.co/6QWM8ujdvq',\n",
       " 'Pin Code:[411018] \\nPCMC PCIP Hospital Pimpri\\nVaccines: COVISHIELD,\\nMin Age Limit: [18],\\nDose1 Capacity: 77,\\nDose2 C… https://t.co/bihemiVTqb',\n",
       " 'RT @ProfSPickering: At every turn of #COVID19 @monash students have stepped up and here they are ready again.\\nThousands of medical students…',\n",
       " 'When will the #COVID19 Pandemic finally end? Enough is enough.',\n",
       " '#CDC: \"THE WAR HAS CHANGED\"\\nIn an internal CDC document, officials note that the #Deltavariant has changed the figh… https://t.co/2drgdxdCnw',\n",
       " 'RT @RDNS_TAI: Its clear Daniel Andrews has not just managed #covid19 better than any other state leader, but any other leader in the world.…',\n",
       " 'RT @VABVOX: The latest #COVID19 data is so alarming, you really cannot comprehend how anyone would voluntarily choose to be unvaccinated.',\n",
       " 'RT @CDCgov: #DeltaVariant surging in U.S. New data show Delta much more contagious than previous versions of #COVID19. Unvaccinated people:…']"
      ]
     },
     "execution_count": 12,
     "metadata": {},
     "output_type": "execute_result"
    }
   ],
   "source": [
    "temp2"
   ]
  },
  {
   "cell_type": "code",
   "execution_count": null,
   "metadata": {},
   "outputs": [],
   "source": [
    "#api.search:is used to search tweets related to a particular keyword/person\n",
    "\n",
    "#q: specifies the keyword to be search. #is not mandatory\n",
    "\n",
    "#since: the start date to view the tweet\n",
    "\n",
    "#count:number of tweets to view"
   ]
  }
 ],
 "metadata": {
  "kernelspec": {
   "display_name": "Python 3",
   "language": "python",
   "name": "python3"
  },
  "language_info": {
   "codemirror_mode": {
    "name": "ipython",
    "version": 3
   },
   "file_extension": ".py",
   "mimetype": "text/x-python",
   "name": "python",
   "nbconvert_exporter": "python",
   "pygments_lexer": "ipython3",
   "version": "3.8.0"
  }
 },
 "nbformat": 4,
 "nbformat_minor": 2
}
