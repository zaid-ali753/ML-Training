{
 "cells": [
  {
   "cell_type": "code",
   "execution_count": 3,
   "metadata": {},
   "outputs": [
    {
     "name": "stdout",
     "output_type": "stream",
     "text": [
      "s\n",
      "<class 'str'>\n",
      "<class 'str'>\n"
     ]
    }
   ],
   "source": [
    "#String manipulation\n",
    "#It is the collection of alphabet\n",
    "#String in Python can be declared using '', \"\" or even \"\"\" \"\"\"\n",
    "\n",
    "st='s'  #single character string\n",
    "s1='Data' #Multi character string\n",
    "\n",
    "s3=\"123\" #now 123 will be treated as string\n",
    "\n",
    "print(st)\n",
    "print(type(st))\n",
    "\n",
    "print(type(s3))"
   ]
  },
  {
   "cell_type": "code",
   "execution_count": 7,
   "metadata": {},
   "outputs": [
    {
     "name": "stdout",
     "output_type": "stream",
     "text": [
      "Entire String: NIELIT\n",
      "First character of string x: N\n",
      "Third character of string x: E\n",
      "Fifth character of string x: I\n"
     ]
    }
   ],
   "source": [
    "#Indexing in python\n",
    "#logical address of a particular data in a string in known as index\n",
    "#Index in python is starts with 0\n",
    "#Index is always integer\n",
    "\n",
    "x='NIELIT'\n",
    "\n",
    "#positive\n",
    "#indexing\n",
    "#x[0]=N\n",
    "#x[1]=I\n",
    "#x[2]=E\n",
    "#x[3]=L\n",
    "#x[4]=I\n",
    "#x[5]=T\n",
    "\n",
    "print('Entire String:', x)\n",
    "print('First character of string x:', x[0])\n",
    "print('Third character of string x:', x[2])\n",
    "print('Fifth character of string x:', x[4])"
   ]
  },
  {
   "cell_type": "code",
   "execution_count": 10,
   "metadata": {},
   "outputs": [
    {
     "name": "stdout",
     "output_type": "stream",
     "text": [
      "Last Character of string x using positive indexing: T\n",
      "Last Character of string x using negative indexing: T\n",
      "First Character of string x using negative indexing: N\n"
     ]
    }
   ],
   "source": [
    "#Python also supports negative indexing\n",
    "\n",
    "#positive                    #negative\n",
    "#indexing                   #indexing\n",
    "#x[0]       =N                  #x[-6]\n",
    "#x[1]       =I                  #x[-5]\n",
    "#x[2]       =E                  #x[-4]\n",
    "#x[3]       =L                  #x[-3]\n",
    "#x[4]      =I                   #x[-2]\n",
    "#x[5]      =T                   #x[-1]\n",
    "\n",
    "print('Last Character of string x using positive indexing:',x [5])\n",
    "print('Last Character of string x using negative indexing:',x [-1])\n",
    "print('First Character of string x using negative indexing:',x [-6])"
   ]
  },
  {
   "cell_type": "code",
   "execution_count": 13,
   "metadata": {},
   "outputs": [
    {
     "name": "stdout",
     "output_type": "stream",
     "text": [
      "String slicing: IEL\n",
      "IELI\n",
      "printing the string from index 2 to index 5: ELIT\n"
     ]
    }
   ],
   "source": [
    "#String slicing \n",
    "#slice operator (:): used to slice a string\n",
    "#Syntax: [start_index:end_index]\n",
    "#end_index always stops at end_index-1\n",
    "\n",
    "#x[1:4] it will access the data from index=1 to index=3\n",
    "\n",
    "print('String slicing:', x[1:4])\n",
    "print(x[1:5])\n",
    "print('printing the string from index 2 to index 5:',x[2:6])"
   ]
  },
  {
   "cell_type": "code",
   "execution_count": 15,
   "metadata": {},
   "outputs": [
    {
     "name": "stdout",
     "output_type": "stream",
     "text": [
      "printing the string from index 3 to index 9: LIT Luc\n",
      "printing the string from index 5 to index 12: T Luckno\n"
     ]
    }
   ],
   "source": [
    "#String slicing\n",
    "s='NIELIT Lucknow'\n",
    "print('printing the string from index 3 to index 9:', s[3:10])\n",
    "print('printing the string from index 5 to index 12:', s[5:13])"
   ]
  },
  {
   "cell_type": "code",
   "execution_count": 21,
   "metadata": {},
   "outputs": [
    {
     "name": "stdout",
     "output_type": "stream",
     "text": [
      "printing the string from first index to index 9: NIELIT Luc\n",
      "printing the string from first index to index 9: NIELIT Luc\n",
      "printing the string from index=4 index to last index: IT Lucknow\n",
      "printing the string from index=4 index to last index: IT Lucknow\n"
     ]
    }
   ],
   "source": [
    "#String slicing\n",
    "#if we omit the start index, then default will be 0\n",
    "\n",
    "s='NIELIT Lucknow'\n",
    "\n",
    "print('printing the string from first index to index 9:', s[:10])\n",
    "print('printing the string from first index to index 9:', s[0:10])\n",
    "\n",
    "#if we omit the end index, then default will be last index\n",
    "\n",
    "print('printing the string from index=4 index to last index:', s[4:])\n",
    "\n",
    "print('printing the string from index=4 index to last index:', s[4:14])\n"
   ]
  },
  {
   "cell_type": "code",
   "execution_count": 24,
   "metadata": {},
   "outputs": [
    {
     "name": "stdout",
     "output_type": "stream",
     "text": [
      "Length of the string: 14\n",
      "String in Lower case: nielit lucknow\n",
      "String in upper case: NIELIT LUCKNOW\n"
     ]
    }
   ],
   "source": [
    "#String functions\n",
    "s='NIELIT Lucknow'\n",
    "\n",
    "print('Length of the string:', len(s))\n",
    "print('String in Lower case:', s.lower())\n",
    "print('String in upper case:', s.upper())\n"
   ]
  },
  {
   "cell_type": "code",
   "execution_count": 25,
   "metadata": {},
   "outputs": [
    {
     "name": "stdout",
     "output_type": "stream",
     "text": [
      "Original string: NIELIT, LUCKNOW, Machine, Learning\n",
      "String after split: ['NIELIT', ' LUCKNOW', ' Machine', ' Learning']\n"
     ]
    }
   ],
   "source": [
    "#split function\n",
    "#this function will split the string into sub string on the basis of some\n",
    "#character\n",
    "\n",
    "st='NIELIT, LUCKNOW, Machine, Learning'\n",
    "print('Original string:', st)\n",
    "print('String after split:', st.split(','))\n"
   ]
  },
  {
   "cell_type": "code",
   "execution_count": 29,
   "metadata": {},
   "outputs": [
    {
     "name": "stdout",
     "output_type": "stream",
     "text": [
      "[12, 34.6, 'Lucknow']\n",
      "<class 'list'>\n",
      "[12, 34, 45, 67, 56, 56]\n",
      "[12.34, 45.56, 56.67]\n"
     ]
    }
   ],
   "source": [
    "#Python List\n",
    "\n",
    "#List is the collection of different data of different data types\n",
    "#List can be declared using []\n",
    "\n",
    "x=[12, 34.6, 'Lucknow']\n",
    "print(x)\n",
    "print(type(x))\n",
    "\n",
    "y=[12, 34, 45, 67, 56, 56]\n",
    "print(y)\n",
    "\n",
    "z=[12.34, 45.56, 56.67]\n",
    "print(z)"
   ]
  },
  {
   "cell_type": "code",
   "execution_count": 31,
   "metadata": {},
   "outputs": [
    {
     "name": "stdout",
     "output_type": "stream",
     "text": [
      "[12, 4.4, 'NIELIT']\n",
      "<class 'list'>\n"
     ]
    }
   ],
   "source": [
    "#list can also be created using list()\n",
    "\n",
    "b=list((12, 4.4, 'NIELIT'))\n",
    "print(b)\n",
    "print(type(b))"
   ]
  },
  {
   "cell_type": "code",
   "execution_count": 36,
   "metadata": {},
   "outputs": [
    {
     "name": "stdout",
     "output_type": "stream",
     "text": [
      "First Member of list: 12\n",
      "Second Member of list: 34.6\n",
      "Last Member of list using negative indexing: Lucknow\n",
      "First Member of list using negative indexing: 12\n"
     ]
    }
   ],
   "source": [
    "#list members can be accessed using indexing\n",
    "#List follows positive and negative indexing\n",
    "x=[12, 34.6, 'Lucknow']\n",
    "\n",
    "print('First Member of list:', x[0])\n",
    "print('Second Member of list:', x[1])\n",
    "\n",
    "print('Last Member of list using negative indexing:', x[-1])\n",
    "print('First Member of list using negative indexing:', x[-3])"
   ]
  },
  {
   "cell_type": "code",
   "execution_count": 38,
   "metadata": {},
   "outputs": [
    {
     "name": "stdout",
     "output_type": "stream",
     "text": [
      "Original List: [12, 34.6, 'Lucknow']\n",
      "List after modification: [1000, 34.6, 'Lucknow']\n"
     ]
    }
   ],
   "source": [
    "#Lists are mutable means we can modify the list data\n",
    "print('Original List:',x)\n",
    "\n",
    "#modify first data of list x\n",
    "x[0]=1000\n",
    "print('List after modification:', x)"
   ]
  },
  {
   "cell_type": "code",
   "execution_count": 39,
   "metadata": {},
   "outputs": [
    {
     "data": {
      "text/plain": [
       "[1000, 34.6, 'NIELIT']"
      ]
     },
     "execution_count": 39,
     "metadata": {},
     "output_type": "execute_result"
    }
   ],
   "source": [
    "#modifying third data of list x\n",
    "x[2]='NIELIT'\n",
    "x"
   ]
  },
  {
   "cell_type": "code",
   "execution_count": 42,
   "metadata": {},
   "outputs": [
    {
     "name": "stdout",
     "output_type": "stream",
     "text": [
      "Lucknow is available\n"
     ]
    }
   ],
   "source": [
    "#Searching data in a list\n",
    "#you can search for a specific data in a list using 'in' operator\n",
    "city=['Lucknow', 'Mumbai', 'Chennai', 'Delhi']\n",
    "\n",
    "#to search Lucknow in city list\n",
    "\n",
    "if 'Lucknow' in city:\n",
    "    print('Lucknow is available')\n",
    "else:\n",
    "    print('Not available')"
   ]
  },
  {
   "cell_type": "code",
   "execution_count": 43,
   "metadata": {},
   "outputs": [
    {
     "name": "stdout",
     "output_type": "stream",
     "text": [
      "Not available\n"
     ]
    }
   ],
   "source": [
    "#to search Kanpur in city list\n",
    "\n",
    "if 'Kanpur' in city:\n",
    "    print('Kanpur is available')\n",
    "else:\n",
    "    print('Not available')"
   ]
  },
  {
   "cell_type": "code",
   "execution_count": 45,
   "metadata": {},
   "outputs": [
    {
     "name": "stdout",
     "output_type": "stream",
     "text": [
      "Original list: ['yellow', 'red', 'green', 'brown']\n",
      "List after append: ['yellow', 'red', 'green', 'brown', 'black']\n"
     ]
    }
   ],
   "source": [
    "#List methods\n",
    "\n",
    "#append(): appends the new data at the end of the list\n",
    "\n",
    "color=['yellow', 'red', 'green', 'brown']\n",
    "print('Original list:', color)\n",
    "\n",
    "#Example add new color='black' at the end of the  color list\n",
    "#syntax: list_name.append(new_data)\n",
    "\n",
    "color.append('black')\n",
    "print('List after append:', color)\n",
    "\n",
    "#Note: We insert single value using append"
   ]
  },
  {
   "cell_type": "code",
   "execution_count": 47,
   "metadata": {},
   "outputs": [
    {
     "name": "stdout",
     "output_type": "stream",
     "text": [
      "['yellow', 'red', 'green', 'brown', 'black', ['White', 'purple'], ['White', 'purple']]\n",
      "['White', 'purple']\n"
     ]
    }
   ],
   "source": [
    "#appending more than one value using append()\n",
    "\n",
    "color.append(['White', 'purple'])\n",
    "print(color)\n",
    "print(color[-1])"
   ]
  },
  {
   "cell_type": "code",
   "execution_count": 48,
   "metadata": {},
   "outputs": [
    {
     "data": {
      "text/plain": [
       "['yellow',\n",
       " 'red',\n",
       " 'green',\n",
       " 'brown',\n",
       " 'black',\n",
       " ['White', 'purple'],\n",
       " ['White', 'purple'],\n",
       " 'blue',\n",
       " 'cyan']"
      ]
     },
     "execution_count": 48,
     "metadata": {},
     "output_type": "execute_result"
    }
   ],
   "source": [
    "#extend(): extends the list. it also appends the data at the end of the list.\n",
    "#But, if more than one data is inserted using extend(), it will insert the new\n",
    "#data at individual index\n",
    "\n",
    "#inserting more than one value using extend\n",
    "color.extend(['blue', 'cyan'])\n",
    "color"
   ]
  },
  {
   "cell_type": "code",
   "execution_count": 49,
   "metadata": {},
   "outputs": [
    {
     "data": {
      "text/plain": [
       "['yellow',\n",
       " 'red',\n",
       " 'pink',\n",
       " 'green',\n",
       " 'brown',\n",
       " 'black',\n",
       " ['White', 'purple'],\n",
       " ['White', 'purple'],\n",
       " 'blue',\n",
       " 'cyan']"
      ]
     },
     "execution_count": 49,
     "metadata": {},
     "output_type": "execute_result"
    }
   ],
   "source": [
    "#insert():used to insert new data at a specific index in a list\n",
    "#syntax: list_name.insert(index, new_value)\n",
    "\n",
    "#Example: insert color='pink' at index 2\n",
    "color.insert(2, 'pink')\n",
    "color"
   ]
  },
  {
   "cell_type": "code",
   "execution_count": 51,
   "metadata": {},
   "outputs": [
    {
     "data": {
      "text/plain": [
       "['yellow',\n",
       " 'red',\n",
       " 'pink',\n",
       " 'green',\n",
       " 'brown',\n",
       " 'black',\n",
       " ['White', 'purple'],\n",
       " ['White', 'purple']]"
      ]
     },
     "execution_count": 51,
     "metadata": {},
     "output_type": "execute_result"
    }
   ],
   "source": [
    "#Deleting the data\n",
    "#pop(): used to delete the elements of the list using index\n",
    "#if index is not given in pop(), last element of the list will be deleted\n",
    "\n",
    "#Syntax: list_name.pop(index)\n",
    "\n",
    "#deleting last element of color\n",
    "color.pop()\n",
    "color"
   ]
  },
  {
   "cell_type": "code",
   "execution_count": 52,
   "metadata": {},
   "outputs": [
    {
     "data": {
      "text/plain": [
       "['yellow', 'red', 'pink', 'green', 'brown', 'black', ['White', 'purple']]"
      ]
     },
     "execution_count": 52,
     "metadata": {},
     "output_type": "execute_result"
    }
   ],
   "source": [
    "#deleting element at index=7\n",
    "color.pop(7)\n",
    "color"
   ]
  },
  {
   "cell_type": "code",
   "execution_count": 53,
   "metadata": {},
   "outputs": [
    {
     "data": {
      "text/plain": [
       "['yellow', 'red', 'pink', 'green', 'brown', ['White', 'purple']]"
      ]
     },
     "execution_count": 53,
     "metadata": {},
     "output_type": "execute_result"
    }
   ],
   "source": [
    "#deleting element at index=5\n",
    "color.pop(5)\n",
    "color"
   ]
  },
  {
   "cell_type": "code",
   "execution_count": 54,
   "metadata": {},
   "outputs": [
    {
     "data": {
      "text/plain": [
       "['yellow', 'red', 'pink', 'brown', ['White', 'purple']]"
      ]
     },
     "execution_count": 54,
     "metadata": {},
     "output_type": "execute_result"
    }
   ],
   "source": [
    "#remove(): deletes the elements on the basis of value\n",
    "#syntax: list_name.remove(data)\n",
    "\n",
    "#To delete green color\n",
    "\n",
    "color.remove('green')\n",
    "color"
   ]
  },
  {
   "cell_type": "code",
   "execution_count": 55,
   "metadata": {},
   "outputs": [
    {
     "data": {
      "text/plain": [
       "['yellow', 'red', 'pink', ['White', 'purple']]"
      ]
     },
     "execution_count": 55,
     "metadata": {},
     "output_type": "execute_result"
    }
   ],
   "source": [
    "#To delete brown color\n",
    "\n",
    "color.remove('brown')\n",
    "color"
   ]
  },
  {
   "cell_type": "code",
   "execution_count": 56,
   "metadata": {},
   "outputs": [
    {
     "data": {
      "text/plain": [
       "['yellow', 'pink', ['White', 'purple']]"
      ]
     },
     "execution_count": 56,
     "metadata": {},
     "output_type": "execute_result"
    }
   ],
   "source": [
    "#deleting data using del keyword\n",
    "\n",
    "#syntax: del list_name[index]\n",
    "\n",
    "#to delete data at index=1\n",
    "del color[1]\n",
    "color"
   ]
  },
  {
   "cell_type": "code",
   "execution_count": 57,
   "metadata": {},
   "outputs": [
    {
     "data": {
      "text/plain": [
       "[]"
      ]
     },
     "execution_count": 57,
     "metadata": {},
     "output_type": "execute_result"
    }
   ],
   "source": [
    "#clear():used to delete all the elements of the list\n",
    "#it does not deletes the list\n",
    "#syntax: list_name.clear()\n",
    "\n",
    "color.clear()\n",
    "color"
   ]
  },
  {
   "cell_type": "code",
   "execution_count": 58,
   "metadata": {},
   "outputs": [
    {
     "ename": "NameError",
     "evalue": "name 'color' is not defined",
     "output_type": "error",
     "traceback": [
      "\u001b[1;31m---------------------------------------------------------------------------\u001b[0m",
      "\u001b[1;31mNameError\u001b[0m                                 Traceback (most recent call last)",
      "\u001b[1;32m<ipython-input-58-8a066bdc737d>\u001b[0m in \u001b[0;36m<module>\u001b[1;34m\u001b[0m\n\u001b[0;32m      1\u001b[0m \u001b[1;31m#Using del keyword, we can delete list with its associated elements\u001b[0m\u001b[1;33m\u001b[0m\u001b[1;33m\u001b[0m\u001b[1;33m\u001b[0m\u001b[0m\n\u001b[0;32m      2\u001b[0m \u001b[1;32mdel\u001b[0m \u001b[0mcolor\u001b[0m\u001b[1;33m\u001b[0m\u001b[1;33m\u001b[0m\u001b[0m\n\u001b[1;32m----> 3\u001b[1;33m \u001b[0mcolor\u001b[0m\u001b[1;33m\u001b[0m\u001b[1;33m\u001b[0m\u001b[0m\n\u001b[0m",
      "\u001b[1;31mNameError\u001b[0m: name 'color' is not defined"
     ]
    }
   ],
   "source": [
    "#Using del keyword, we can delete list with its associated elements\n",
    "del color\n",
    "color"
   ]
  },
  {
   "cell_type": "code",
   "execution_count": 59,
   "metadata": {},
   "outputs": [
    {
     "data": {
      "text/plain": [
       "['yellow', 'red', 'green', 'brown', 'purple']"
      ]
     },
     "execution_count": 59,
     "metadata": {},
     "output_type": "execute_result"
    }
   ],
   "source": [
    "color=['yellow', 'red', 'green', 'brown', 'purple']\n",
    "color"
   ]
  },
  {
   "cell_type": "code",
   "execution_count": 64,
   "metadata": {},
   "outputs": [
    {
     "name": "stdout",
     "output_type": "stream",
     "text": [
      "color list in reverse order\n",
      "['purple', 'brown', 'green', 'red', 'yellow']\n"
     ]
    }
   ],
   "source": [
    "#reverse(): reverse the list\n",
    "print('color list in reverse order')\n",
    "color.reverse()\n",
    "print(color)"
   ]
  },
  {
   "cell_type": "code",
   "execution_count": 66,
   "metadata": {},
   "outputs": [
    {
     "name": "stdout",
     "output_type": "stream",
     "text": [
      "Original list: ['purple', 'brown', 'green', 'red', 'yellow']\n",
      "List sorting in ascending order: ['brown', 'green', 'purple', 'red', 'yellow']\n"
     ]
    }
   ],
   "source": [
    "#sort():\n",
    "#list_name.sort(): sorts the data in ascending order\n",
    "#list_name.sort(reverse=True): sorts the data in descending order\n",
    "\n",
    "print('Original list:', color)\n",
    "color.sort()\n",
    "print('List sorting in ascending order:', color )"
   ]
  },
  {
   "cell_type": "code",
   "execution_count": 67,
   "metadata": {},
   "outputs": [
    {
     "name": "stdout",
     "output_type": "stream",
     "text": [
      "List sorting in descending order: ['yellow', 'red', 'purple', 'green', 'brown']\n"
     ]
    }
   ],
   "source": [
    "color.sort(reverse=True)\n",
    "print('List sorting in descending order:', color)"
   ]
  },
  {
   "cell_type": "code",
   "execution_count": 69,
   "metadata": {},
   "outputs": [
    {
     "data": {
      "text/plain": [
       "[3, 12, 12, 23, 32, 34, 45]"
      ]
     },
     "execution_count": 69,
     "metadata": {},
     "output_type": "execute_result"
    }
   ],
   "source": [
    "r=[12, 32,3,12, 34, 45, 23]\n",
    "r.sort()\n",
    "r"
   ]
  },
  {
   "cell_type": "code",
   "execution_count": 71,
   "metadata": {},
   "outputs": [
    {
     "data": {
      "text/plain": [
       "[45, 34, 32, 23, 12, 12, 3]"
      ]
     },
     "execution_count": 71,
     "metadata": {},
     "output_type": "execute_result"
    }
   ],
   "source": [
    "r.sort(reverse=True)\n",
    "r"
   ]
  },
  {
   "cell_type": "code",
   "execution_count": null,
   "metadata": {},
   "outputs": [],
   "source": []
  }
 ],
 "metadata": {
  "kernelspec": {
   "display_name": "Python 3",
   "language": "python",
   "name": "python3"
  },
  "language_info": {
   "codemirror_mode": {
    "name": "ipython",
    "version": 3
   },
   "file_extension": ".py",
   "mimetype": "text/x-python",
   "name": "python",
   "nbconvert_exporter": "python",
   "pygments_lexer": "ipython3",
   "version": "3.7.3"
  }
 },
 "nbformat": 4,
 "nbformat_minor": 2
}
